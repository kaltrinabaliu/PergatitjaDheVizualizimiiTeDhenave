{
 "cells": [
  {
   "cell_type": "markdown",
   "source": [
    "1. Para-procesimi i te dhenave përgatitjen e të dhënave për analizë"
   ],
   "metadata": {
    "collapsed": false
   },
   "id": "a0228a58a7366cae"
  },
  {
   "cell_type": "code",
   "source": [
    "import re\n",
    "import pandas as pd\n",
    "import numpy as np\n",
    "import seaborn as sns\n",
    "import matplotlib.pyplot as plt\n",
    "from sklearn.preprocessing import StandardScaler\n",
    "from sklearn.decomposition import PCA\n",
    "from sklearn.pipeline import make_pipeline\n",
    "from IPython.display import display"
   ],
   "metadata": {
    "collapsed": false
   },
   "id": "d9877567d3003026",
   "outputs": [],
   "execution_count": null
  },
  {
   "cell_type": "markdown",
   "source": [
    "Mbledhja e të dhënave, definimi i tipeve të dhënave, kualiteti i të\n",
    "dhënave."
   ],
   "metadata": {
    "collapsed": false
   },
   "id": "b62a649e02c8620b"
  },
  {
   "cell_type": "code",
   "source": [
    "#Ngarkimi i te dhenave\n",
    "file_path ='dataset.csv'\n",
    "data=pd.read_csv(file_path)\n",
    "data"
   ],
   "metadata": {
    "collapsed": false
   },
   "id": "14cfd53a5791ffcd",
   "outputs": [],
   "execution_count": null
  },
  {
   "cell_type": "code",
   "source": [
    "# Informacion rreth dataframe-it \n",
    "data_info = data.info()\n",
    "print(data_info)"
   ],
   "metadata": {
    "collapsed": false
   },
   "id": "d3ab1b5fe2dabaa6",
   "outputs": [],
   "execution_count": null
  },
  {
   "cell_type": "code",
   "source": [
    "#numri i rreshtave dhe kolonave ne dataframe\n",
    "data.shape"
   ],
   "metadata": {
    "collapsed": false
   },
   "id": "79728bff14be9018",
   "outputs": [],
   "execution_count": null
  },
  {
   "cell_type": "code",
   "execution_count": null,
   "outputs": [],
   "source": [
    "#dtypes\n",
    "data.dtypes"
   ],
   "metadata": {
    "collapsed": false
   },
   "id": "ee84a65b26001962"
  },
  {
   "cell_type": "code",
   "source": [
    "#shfaq statistikat per çdo kolone ne DataFrame\n",
    "print(data.describe().T)"
   ],
   "metadata": {
    "collapsed": false
   },
   "id": "b0fd80cc1f4391e",
   "outputs": [],
   "execution_count": null
  },
  {
   "metadata": {},
   "cell_type": "code",
   "source": [
    "print(data.describe(include=\"O\").T)"
   ],
   "id": "9d03387d16a67af3",
   "outputs": [],
   "execution_count": null
  },
  {
   "cell_type": "code",
   "source": [
    "# llogarit perqindjen e rreshtave te dyfishte ne DataFrame\n",
    "\n",
    "duplicated=data.duplicated().sum()\n",
    "print((duplicated/len(data))*100 , '%')"
   ],
   "metadata": {
    "collapsed": false
   },
   "id": "5fa646623c8b20e1",
   "outputs": [],
   "execution_count": null
  },
  {
   "cell_type": "code",
   "source": [
    "# Funksioni missing_values_table llogarit numrin dhe perqindjen e vlerave Null\n",
    "\n",
    "def missing_values_table(data):\n",
    "  mis_val = data.isnull().sum()\n",
    "  mis_val_percent = 100*data.isnull().sum() / len(data)\n",
    "  mis_val_table = pd.concat([mis_val, mis_val_percent], axis=1)\n",
    "  mis_val_table_ren_columns = mis_val_table.rename(columns = {0:'Missing Values' , 1:'% of Total Values'})\n",
    "  return mis_val_table_ren_columns.round(1)"
   ],
   "metadata": {
    "collapsed": false
   },
   "id": "f9f0d3834ae0eaa",
   "outputs": [],
   "execution_count": null
  },
  {
   "cell_type": "code",
   "source": [
    "missing_values_table(data)"
   ],
   "metadata": {
    "collapsed": false
   },
   "id": "4960a08f82e3d5df",
   "outputs": [],
   "execution_count": null
  },
  {
   "cell_type": "code",
   "source": [
    "data['ApplicantDependents'].value_counts().reset_index().rename(columns={'index' : 'ApplicantDependents' , 'ApplicantDependents' : 'counts'})\n",
    "\n"
   ],
   "metadata": {
    "collapsed": false
   },
   "id": "81db33083fee2629",
   "outputs": [],
   "execution_count": null
  },
  {
   "cell_type": "code",
   "source": [
    "data['ApplicantEmplLength'].value_counts().reset_index().rename(columns={'index' : 'ApplicantEmplLength' , 'ApplicantEmplLength' : 'counts'})"
   ],
   "metadata": {
    "collapsed": false
   },
   "id": "995a4e0d20388558",
   "outputs": [],
   "execution_count": null
  },
  {
   "cell_type": "code",
   "source": [
    "data['ApplicantGender'].value_counts().reset_index().rename(columns={'index' : 'ApplicantGender' , 'ApplicantGender' : 'counts'})"
   ],
   "metadata": {
    "collapsed": false
   },
   "id": "39768d5d0824f538",
   "outputs": [],
   "execution_count": null
  },
  {
   "cell_type": "code",
   "source": [
    "data['LoanAmount'].value_counts().reset_index().rename(columns={'index' : 'LoanAmount' , 'LoanAmount' : 'counts'})"
   ],
   "metadata": {
    "collapsed": false
   },
   "id": "6f92ef0e6ab2aada",
   "outputs": [],
   "execution_count": null
  },
  {
   "cell_type": "code",
   "source": [
    "data['ApplicantHomeOwn'].value_counts().reset_index().rename(columns={'index' : 'ApplicantHomeOwn' , 'ApplicantHomeOwn' : 'counts'})"
   ],
   "metadata": {
    "collapsed": false
   },
   "id": "51c179f471e217ea",
   "outputs": [],
   "execution_count": null
  },
  {
   "cell_type": "code",
   "source": [
    "data['ApplicantEducation'].value_counts().reset_index().rename(columns={'index' : 'ApplicantEducation' , 'ApplicantEducation' : 'counts'})"
   ],
   "metadata": {
    "collapsed": false
   },
   "id": "a79a44dc8cfbce69",
   "outputs": [],
   "execution_count": null
  },
  {
   "cell_type": "code",
   "source": [
    "data['ApplicantState'].value_counts().reset_index().rename(columns={'index' : 'ApplicantState' , 'ApplicantState' : 'counts'})"
   ],
   "metadata": {
    "collapsed": false
   },
   "id": "3fa84868c336a186",
   "outputs": [],
   "execution_count": null
  },
  {
   "cell_type": "code",
   "source": [
    "data['ApplicantZIP'].value_counts().reset_index().rename(columns={'index' : 'ApplicantZIP' , 'ApplicantZIP' : 'counts'})"
   ],
   "metadata": {
    "collapsed": false
   },
   "id": "d3d461512494dcff",
   "outputs": [],
   "execution_count": null
  },
  {
   "cell_type": "code",
   "source": [
    "ct = pd.crosstab(data['ApplicantGender'], data['LoanApproved'])\n",
    "ct.plot(kind='bar', stacked=True , color=['#FF3030','#7FFFD4'])\n",
    "plt.xlabel('ApplicantGender')\n",
    "plt.ylabel('LoanApproved')\n",
    "plt.title('Relationship between Years in Applicant Gender   and Loan Approved')"
   ],
   "metadata": {
    "collapsed": false
   },
   "id": "8158c111bd592f50",
   "outputs": [],
   "execution_count": null
  },
  {
   "cell_type": "code",
   "source": [
    "ct = pd.crosstab(data['ApplicantHomeOwn'], data['LoanApproved'])\n",
    "ct.plot(kind='bar', stacked=True , color=['#FF3030','#7FFFD4'])\n",
    "plt.xlabel('ApplicantHomeOwn')\n",
    "plt.ylabel('LoanApproved')\n",
    "plt.title('Relationship between Years in Applicant House  Own and Loan Approved')"
   ],
   "metadata": {
    "collapsed": false
   },
   "id": "51940a6c5ed9c49",
   "outputs": [],
   "execution_count": null
  },
  {
   "metadata": {},
   "cell_type": "code",
   "source": [
    "data.head()"
   ],
   "id": "af91d120c51642fb",
   "outputs": [],
   "execution_count": null
  },
  {
   "metadata": {},
   "cell_type": "code",
   "source": [
    "data.tail(25)"
   ],
   "id": "ae86d14a9fb1f771",
   "outputs": [],
   "execution_count": null
  },
  {
   "metadata": {},
   "cell_type": "markdown",
   "source": [
    "Aggregating Data"
   ],
   "id": "54f8a8a953d46c68"
  },
  {
   "metadata": {},
   "cell_type": "code",
   "source": [
    "income_aggregation = data.groupby('LoanApproved')['ApplicantIncome'].agg(['mean', 'median', 'count'])\n",
    "\n",
    "display(income_aggregation)"
   ],
   "id": "a20c9e095fb8b3c9",
   "outputs": [],
   "execution_count": null
  },
  {
   "metadata": {},
   "cell_type": "code",
   "source": [
    "loan_amunt_aggregation = data.groupby('ApplicantDependents')['LoanAmount'].agg(['sum','mean','count'])\n",
    "\n",
    "display(loan_amunt_aggregation)"
   ],
   "id": "fa2bf5b45a5108aa",
   "outputs": [],
   "execution_count": null
  },
  {
   "metadata": {},
   "cell_type": "code",
   "source": [
    "loan_city_aggregation = data.groupby('ApplicantZIP')['LoanAmount'].agg(['min', 'max'])\n",
    "display(loan_city_aggregation)"
   ],
   "id": "a209cb810b24e9d4",
   "outputs": [],
   "execution_count": null
  },
  {
   "cell_type": "markdown",
   "source": [
    "Sampling"
   ],
   "metadata": {
    "collapsed": false
   },
   "id": "282b6d8d8f9d0e6c"
  },
  {
   "metadata": {},
   "cell_type": "code",
   "source": [
    "data_sample = data.sample(frac=0.3, random_state=42)"
   ],
   "id": "e78f1f04b9d346c6",
   "outputs": [],
   "execution_count": null
  },
  {
   "metadata": {},
   "cell_type": "code",
   "source": [
    "data_sample.shape"
   ],
   "id": "abb27ec0a0e454e5",
   "outputs": [],
   "execution_count": null
  },
  {
   "cell_type": "markdown",
   "source": [
    "Data cleaning and transformation"
   ],
   "metadata": {
    "collapsed": false
   },
   "id": "5b310cbbfaab81a9"
  },
  {
   "cell_type": "code",
   "source": [
    "#convert Applicant Dependents to numeric values \n",
    "data_sample['ApplicantDependents'] = data_sample['ApplicantDependents'].replace({\n",
    "    '0 oseb': 0, '1 oseba': 1, '2 osebi': 2, '3+ osebe': 3\n",
    "}).astype('float')"
   ],
   "metadata": {
    "collapsed": false
   },
   "id": "e1129d7c4ede7a46",
   "outputs": [],
   "execution_count": null
  },
  {
   "cell_type": "code",
   "execution_count": null,
   "outputs": [],
   "source": [
    "data_sample['ApplicantZIP'] = data_sample['ApplicantZIP'].str.replace('xx', '').astype(int)\n",
    "\n",
    "print(data_sample[['ApplicantZIP']].head())"
   ],
   "metadata": {
    "collapsed": false
   },
   "id": "45a96899f8dbe320"
  },
  {
   "cell_type": "code",
   "execution_count": null,
   "outputs": [],
   "source": [
    "data_sample"
   ],
   "metadata": {
    "collapsed": false
   },
   "id": "bc861af0179e634a"
  },
  {
   "cell_type": "code",
   "source": [
    "# standardize 'ApplicantEmplLength' by capturing numbers and converting \"< 1 leto\" as 0.5\n",
    "def clean_employment_length(value):\n",
    "    if isinstance(value, str):\n",
    "        match = re.search(r\"(\\d+)\", value)\n",
    "        if match:\n",
    "            return float(match.group(1))\n",
    "        elif \"< 1\" in value:\n",
    "            return 0.5\n",
    "    return value\n"
   ],
   "metadata": {
    "collapsed": false
   },
   "id": "1170492722f6c19a",
   "outputs": [],
   "execution_count": null
  },
  {
   "cell_type": "code",
   "source": [
    "data_sample['ApplicantEmplLength'] = data_sample['ApplicantEmplLength'].apply(clean_employment_length).astype('float')\n",
    "data_sample"
   ],
   "metadata": {
    "collapsed": false
   },
   "id": "f823bc8192aec2b3",
   "outputs": [],
   "execution_count": null
  },
  {
   "cell_type": "code",
   "source": [
    "#covert 'LoanIntRate' to float by removing % symbol \n",
    "data_sample['LoanIntRate']= data_sample['LoanIntRate'].str.replace('%','').astype('float')\n",
    "data_sample"
   ],
   "metadata": {
    "collapsed": false
   },
   "id": "93fea3812370fc7d",
   "outputs": [],
   "execution_count": null
  },
  {
   "cell_type": "code",
   "source": [
    "#fill missing categorical values with mode\n",
    "for column in ['ApplicantGender', 'ApplicantMarried', 'ApplicantSelfEmployed', 'ApplicantCreditHistory']:\n",
    "    data_sample[column].fillna(data_sample[column].mode()[0], inplace=True)\n"
   ],
   "metadata": {
    "collapsed": false
   },
   "id": "d663c926b8d72e3a",
   "outputs": [],
   "execution_count": null
  },
  {
   "cell_type": "code",
   "source": [
    "#fill numeric columns with median values \n",
    "for column in ['LoanAmount', 'LoanTerm','ApplicantDependents', 'ApplicantEmplLength']: \n",
    "    data_sample[column].fillna(data_sample[column].median(), inplace=True)"
   ],
   "metadata": {
    "collapsed": false
   },
   "id": "da7068bc5dc208c2",
   "outputs": [],
   "execution_count": null
  },
  {
   "cell_type": "code",
   "source": [
    "data_sample['LoanPurpose'].fillna('Unknown', inplace=True)"
   ],
   "metadata": {
    "collapsed": false
   },
   "id": "c6c8823cf649c13c",
   "outputs": [],
   "execution_count": null
  },
  {
   "metadata": {},
   "cell_type": "code",
   "source": [
    "data_sample.drop(columns=['LoanDesc'], inplace=True)"
   ],
   "id": "c817b534d145e24e",
   "outputs": [],
   "execution_count": null
  },
  {
   "metadata": {},
   "cell_type": "code",
   "source": [
    "print(\"Remaining Missing Values:\", data_sample.isnull().sum())\n",
    "print(\"Data Types:\", data_sample.dtypes)"
   ],
   "id": "600985d59d036356",
   "outputs": [],
   "execution_count": null
  },
  {
   "metadata": {},
   "cell_type": "code",
   "source": [
    "# Binning 'ApplicantIncome' into categories (low, medium, high income)\n",
    "income_bins = [0, 2500, 5000, 10000, data_sample['ApplicantIncome'].max()]\n",
    "income_labels = ['Low', 'Medium', 'High', 'Very High']\n",
    "data_sample['IncomeLevel'] = pd.cut(data_sample['ApplicantIncome'], bins=income_bins, labels=income_labels)"
   ],
   "id": "bae67aaf6f658a27",
   "outputs": [],
   "execution_count": null
  },
  {
   "metadata": {},
   "cell_type": "code",
   "source": [
    "# Binarization: Convert LoanApproved to 0 and 1\n",
    "data_sample['LoanApproved'] = data_sample['LoanApproved'].replace({'Y': 1, 'N': 0})"
   ],
   "id": "6045e918e5c8b07c",
   "outputs": [],
   "execution_count": null
  },
  {
   "metadata": {},
   "cell_type": "code",
   "source": [
    "# Discretizing 'LoanTerm' into short, medium, long-term categories\n",
    "term_bins = [0, 60, 90, 120]  # Bin edges for Loan Term\n",
    "term_labels = ['Short', 'Medium', 'Long']\n",
    "data_sample['LoanTermCategory'] = pd.cut(data_sample['LoanTerm'], bins=term_bins, labels=term_labels)"
   ],
   "id": "c61cafbd3e3a7506",
   "outputs": [],
   "execution_count": null
  },
  {
   "cell_type": "code",
   "source": [
    "# Transform categorical data into binary format using one-hot encoding\n",
    "df =pd.get_dummies(data_sample, columns=['ApplicantGender', 'ApplicantMarried', \n",
    "                                     'ApplicantEducation', 'ApplicantSelfEmployed', 'ApplicantHomeOwn'\n",
    "                                     ], drop_first=True)"
   ],
   "metadata": {
    "collapsed": false
   },
   "id": "c65e84c447458f32",
   "outputs": [],
   "execution_count": null
  },
  {
   "cell_type": "code",
   "source": [
    "print(df['ApplicantState'].unique())\n",
    "#since the applicant state column has a this ['SI' 'si' 'Slovenija' 'Slo' 'slo'] dropping this column is a reasonable choice to simplify the dataset without losing any critical information\n",
    "\n",
    "df.drop(columns=['ApplicantState'], inplace=True)"
   ],
   "metadata": {
    "collapsed": false
   },
   "id": "77c9dd1549f0e782",
   "outputs": [],
   "execution_count": null
  },
  {
   "metadata": {},
   "cell_type": "code",
   "source": [
    "# Final Validation\n",
    "remaining_missing_values = data_sample.isnull().sum()\n",
    "data_types = data_sample.dtypes\n",
    "\n",
    "print(\"Remaining Missing Values:\\n\", remaining_missing_values[remaining_missing_values > 0])\n",
    "print(\"\\nData Types:\\n\", data_types)\n",
    "\n",
    "df.head()"
   ],
   "id": "e8c56646a3bd719f",
   "outputs": [],
   "execution_count": null
  },
  {
   "metadata": {},
   "cell_type": "code",
   "source": [
    "# df.drop(labels=['LoanID','ApplicantID'], axis=1, inplace=True)"
   ],
   "id": "9d9fcdb6435bd136",
   "outputs": [],
   "execution_count": null
  },
  {
   "cell_type": "code",
   "execution_count": null,
   "outputs": [],
   "source": [
    "# # 'LoanPurpose' categories\n",
    "# loan_purpose_mapping = {\n",
    "#     'Unknown': 0,\n",
    "#     'kartica': 1,\n",
    "#     'zdravljenje': 2,\n",
    "#     'drugo': 3,\n",
    "#     'prenova': 4,\n",
    "#     'investicija': 5,\n",
    "#     'stanovanje': 6,\n",
    "#     'selitev': 7,\n",
    "#     'poèitnice': 8,\n",
    "#     'obnovljivi_viri': 9\n",
    "# }\n",
    "# \n",
    "# df['LoanPurpose'] = df['LoanPurpose'].map(loan_purpose_mapping)\n",
    "# df['LoanPurpose'] = df['LoanPurpose'].astype(int)"
   ],
   "metadata": {
    "collapsed": false
   },
   "id": "23b1f22cfce3f81b"
  },
  {
   "cell_type": "code",
   "execution_count": null,
   "outputs": [],
   "source": [
    "# categorical_columns = X.select_dtypes(include=['category']).columns\n",
    "# X_encoded = pd.get_dummies(X, columns=categorical_columns, drop_first=True)\n",
    "# print(X_encoded.head())\n"
   ],
   "metadata": {
    "collapsed": false
   },
   "id": "bf099ef9f1da5f33"
  },
  {
   "cell_type": "code",
   "execution_count": null,
   "outputs": [],
   "source": [
    "# PCA_df = pd.DataFrame(PCAPipeline.fit_transform(X_encoded))\n",
    "# PCA_df = pd.concat([PCA_df, y], axis=1)\n",
    "# PCA_df.head()"
   ],
   "metadata": {
    "collapsed": false
   },
   "id": "de3af48f5c400176"
  }
 ],
 "metadata": {
  "kernelspec": {
   "display_name": "Python 3",
   "language": "python",
   "name": "python3"
  },
  "language_info": {
   "codemirror_mode": {
    "name": "ipython",
    "version": 2
   },
   "file_extension": ".py",
   "mimetype": "text/x-python",
   "name": "python",
   "nbconvert_exporter": "python",
   "pygments_lexer": "ipython2",
   "version": "2.7.6"
  }
 },
 "nbformat": 4,
 "nbformat_minor": 5
}
