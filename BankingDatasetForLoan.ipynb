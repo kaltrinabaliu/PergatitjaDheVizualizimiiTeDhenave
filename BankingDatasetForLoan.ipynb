{
 "cells": [
  {
   "cell_type": "markdown",
   "source": [
    "1. Para-procesimi i te dhenave përgatitjen e të dhënave për analizë"
   ],
   "metadata": {
    "collapsed": false
   },
   "id": "a0228a58a7366cae"
  },
  {
   "cell_type": "code",
   "source": [
    "import re\n",
    "import pandas as pd\n",
    "import numpy as np\n",
    "import seaborn as sns\n",
    "import matplotlib.pyplot as plt\n",
    "from sklearn.preprocessing import StandardScaler\n",
    "from sklearn.decomposition import PCA\n",
    "from sklearn.pipeline import make_pipeline\n",
    "from IPython.display import display"
   ],
   "metadata": {
    "collapsed": false,
    "ExecuteTime": {
     "end_time": "2024-12-02T17:22:02.612483Z",
     "start_time": "2024-12-02T17:21:47.529213Z"
    }
   },
   "id": "d9877567d3003026",
   "outputs": [],
   "execution_count": 3
  },
  {
   "cell_type": "markdown",
   "source": [
    "Mbledhja e të dhënave, definimi i tipeve të dhënave, kualiteti i të\n",
    "dhënave."
   ],
   "metadata": {
    "collapsed": false
   },
   "id": "b62a649e02c8620b"
  },
  {
   "cell_type": "code",
   "source": [
    "#Ngarkimi i te dhenave\n",
    "file_path ='dataset.csv'\n",
    "data=pd.read_csv(file_path)\n",
    "data"
   ],
   "metadata": {
    "collapsed": false,
    "ExecuteTime": {
     "end_time": "2024-12-02T17:22:25.034001Z",
     "start_time": "2024-12-02T17:22:17.634592Z"
    }
   },
   "id": "14cfd53a5791ffcd",
   "outputs": [
    {
     "data": {
      "text/plain": [
       "       LoanID  ApplicantID ApplicantGender ApplicantMarried  \\\n",
       "0       56026        19874           Moški               NE   \n",
       "1       53884        34258           Moški               DA   \n",
       "2       48350        66552           Moški               DA   \n",
       "3       30455        54844           Moški               DA   \n",
       "4         935        18820           Moški               DA   \n",
       "...       ...          ...             ...              ...   \n",
       "38762   19296         7212             NaN               DA   \n",
       "38763   20271        32616           Moški               NE   \n",
       "38764   27733        46393          Ženska               DA   \n",
       "38765   42707        20062           Moški               DA   \n",
       "38766    3927        65276           Moški               DA   \n",
       "\n",
       "      ApplicantDependents ApplicantEducation ApplicantSelfEmployed  \\\n",
       "0                  0 oseb         Diplomiral                    NE   \n",
       "1                 1 oseba         Diplomiral                    NE   \n",
       "2                  0 oseb       Brez diplome                    NE   \n",
       "3                 2 osebi         Diplomiral                    NE   \n",
       "4                 2 osebi         Diplomiral                   NaN   \n",
       "...                   ...                ...                   ...   \n",
       "38762             1 oseba         Diplomiral                    NE   \n",
       "38763              0 oseb         Diplomiral                    NE   \n",
       "38764                 NaN         Diplomiral                    DA   \n",
       "38765            3+ osebe         Diplomiral                    NE   \n",
       "38766             2 osebi       Brez diplome                    NE   \n",
       "\n",
       "       ApplicantIncome  ApplicantCreditHistory ApplicantZIP ApplicantState  \\\n",
       "0          1949.666667                     1.0         33xx      Slovenija   \n",
       "1          1527.666667                     1.0         64xx      Slovenija   \n",
       "2           861.000000                     1.0         30xx             si   \n",
       "3          1066.666667                     1.0         84xx             SI   \n",
       "4           833.333333                     1.0         60xx             SI   \n",
       "...                ...                     ...          ...            ...   \n",
       "38762       873.333333                     1.0         14xx             SI   \n",
       "38763      3107.666667                     1.0         63xx            Slo   \n",
       "38764       800.000000                     0.0         42xx             SI   \n",
       "38765      1365.000000                     NaN         84xx             SI   \n",
       "38766        70.000000                     1.0         33xx             SI   \n",
       "\n",
       "      ApplicantEmplLength     ApplicantHomeOwn  LoanAmount  LoanTerm  \\\n",
       "0                   5 let  STANOVANJSKI KREDIT         NaN      90.0   \n",
       "1                 10+ let                NAJEM     44800.0      90.0   \n",
       "2                  3 leta                NAJEM     42000.0      90.0   \n",
       "3                  1 leto                NAJEM     24500.0      90.0   \n",
       "4                 10+ let  STANOVANJSKI KREDIT     38150.0      90.0   \n",
       "...                   ...                  ...         ...       ...   \n",
       "38762                 NaN                NAJEM     57750.0      90.0   \n",
       "38763              3 leta  STANOVANJSKI KREDIT     17500.0      90.0   \n",
       "38764              2 leti               LASTNO     58800.0      90.0   \n",
       "38765              3 leta  STANOVANJSKI KREDIT     43050.0     120.0   \n",
       "38766              3 leta                NAJEM     43750.0      90.0   \n",
       "\n",
       "      LoanIntRate                                           LoanDesc  \\\n",
       "0           1.42%                                                NaN   \n",
       "1           3.90%                                                NaN   \n",
       "2           2.80%                                                NaN   \n",
       "3           3.26%                                                NaN   \n",
       "4           3.26%                                                NaN   \n",
       "...           ...                                                ...   \n",
       "38762       2.89%                                                NaN   \n",
       "38763       1.52%   Posojilojemalec je dodal na 02-06-14 > Samo o...   \n",
       "38764       2.50%                                                NaN   \n",
       "38765       1.78%                                                NaN   \n",
       "38766       2.40%   Posojilojemalec je dodal na 02-06-14 > Refina...   \n",
       "\n",
       "      LoanPurpose LoanApproved  \n",
       "0         prenova            Y  \n",
       "1           drugo            N  \n",
       "2             NaN            Y  \n",
       "3             NaN            Y  \n",
       "4             NaN            Y  \n",
       "...           ...          ...  \n",
       "38762     kartica            Y  \n",
       "38763         NaN            Y  \n",
       "38764         NaN            N  \n",
       "38765         NaN            Y  \n",
       "38766     kartica            Y  \n",
       "\n",
       "[38767 rows x 19 columns]"
      ],
      "text/html": [
       "<div>\n",
       "<style scoped>\n",
       "    .dataframe tbody tr th:only-of-type {\n",
       "        vertical-align: middle;\n",
       "    }\n",
       "\n",
       "    .dataframe tbody tr th {\n",
       "        vertical-align: top;\n",
       "    }\n",
       "\n",
       "    .dataframe thead th {\n",
       "        text-align: right;\n",
       "    }\n",
       "</style>\n",
       "<table border=\"1\" class=\"dataframe\">\n",
       "  <thead>\n",
       "    <tr style=\"text-align: right;\">\n",
       "      <th></th>\n",
       "      <th>LoanID</th>\n",
       "      <th>ApplicantID</th>\n",
       "      <th>ApplicantGender</th>\n",
       "      <th>ApplicantMarried</th>\n",
       "      <th>ApplicantDependents</th>\n",
       "      <th>ApplicantEducation</th>\n",
       "      <th>ApplicantSelfEmployed</th>\n",
       "      <th>ApplicantIncome</th>\n",
       "      <th>ApplicantCreditHistory</th>\n",
       "      <th>ApplicantZIP</th>\n",
       "      <th>ApplicantState</th>\n",
       "      <th>ApplicantEmplLength</th>\n",
       "      <th>ApplicantHomeOwn</th>\n",
       "      <th>LoanAmount</th>\n",
       "      <th>LoanTerm</th>\n",
       "      <th>LoanIntRate</th>\n",
       "      <th>LoanDesc</th>\n",
       "      <th>LoanPurpose</th>\n",
       "      <th>LoanApproved</th>\n",
       "    </tr>\n",
       "  </thead>\n",
       "  <tbody>\n",
       "    <tr>\n",
       "      <th>0</th>\n",
       "      <td>56026</td>\n",
       "      <td>19874</td>\n",
       "      <td>Moški</td>\n",
       "      <td>NE</td>\n",
       "      <td>0 oseb</td>\n",
       "      <td>Diplomiral</td>\n",
       "      <td>NE</td>\n",
       "      <td>1949.666667</td>\n",
       "      <td>1.0</td>\n",
       "      <td>33xx</td>\n",
       "      <td>Slovenija</td>\n",
       "      <td>5 let</td>\n",
       "      <td>STANOVANJSKI KREDIT</td>\n",
       "      <td>NaN</td>\n",
       "      <td>90.0</td>\n",
       "      <td>1.42%</td>\n",
       "      <td>NaN</td>\n",
       "      <td>prenova</td>\n",
       "      <td>Y</td>\n",
       "    </tr>\n",
       "    <tr>\n",
       "      <th>1</th>\n",
       "      <td>53884</td>\n",
       "      <td>34258</td>\n",
       "      <td>Moški</td>\n",
       "      <td>DA</td>\n",
       "      <td>1 oseba</td>\n",
       "      <td>Diplomiral</td>\n",
       "      <td>NE</td>\n",
       "      <td>1527.666667</td>\n",
       "      <td>1.0</td>\n",
       "      <td>64xx</td>\n",
       "      <td>Slovenija</td>\n",
       "      <td>10+ let</td>\n",
       "      <td>NAJEM</td>\n",
       "      <td>44800.0</td>\n",
       "      <td>90.0</td>\n",
       "      <td>3.90%</td>\n",
       "      <td>NaN</td>\n",
       "      <td>drugo</td>\n",
       "      <td>N</td>\n",
       "    </tr>\n",
       "    <tr>\n",
       "      <th>2</th>\n",
       "      <td>48350</td>\n",
       "      <td>66552</td>\n",
       "      <td>Moški</td>\n",
       "      <td>DA</td>\n",
       "      <td>0 oseb</td>\n",
       "      <td>Brez diplome</td>\n",
       "      <td>NE</td>\n",
       "      <td>861.000000</td>\n",
       "      <td>1.0</td>\n",
       "      <td>30xx</td>\n",
       "      <td>si</td>\n",
       "      <td>3 leta</td>\n",
       "      <td>NAJEM</td>\n",
       "      <td>42000.0</td>\n",
       "      <td>90.0</td>\n",
       "      <td>2.80%</td>\n",
       "      <td>NaN</td>\n",
       "      <td>NaN</td>\n",
       "      <td>Y</td>\n",
       "    </tr>\n",
       "    <tr>\n",
       "      <th>3</th>\n",
       "      <td>30455</td>\n",
       "      <td>54844</td>\n",
       "      <td>Moški</td>\n",
       "      <td>DA</td>\n",
       "      <td>2 osebi</td>\n",
       "      <td>Diplomiral</td>\n",
       "      <td>NE</td>\n",
       "      <td>1066.666667</td>\n",
       "      <td>1.0</td>\n",
       "      <td>84xx</td>\n",
       "      <td>SI</td>\n",
       "      <td>1 leto</td>\n",
       "      <td>NAJEM</td>\n",
       "      <td>24500.0</td>\n",
       "      <td>90.0</td>\n",
       "      <td>3.26%</td>\n",
       "      <td>NaN</td>\n",
       "      <td>NaN</td>\n",
       "      <td>Y</td>\n",
       "    </tr>\n",
       "    <tr>\n",
       "      <th>4</th>\n",
       "      <td>935</td>\n",
       "      <td>18820</td>\n",
       "      <td>Moški</td>\n",
       "      <td>DA</td>\n",
       "      <td>2 osebi</td>\n",
       "      <td>Diplomiral</td>\n",
       "      <td>NaN</td>\n",
       "      <td>833.333333</td>\n",
       "      <td>1.0</td>\n",
       "      <td>60xx</td>\n",
       "      <td>SI</td>\n",
       "      <td>10+ let</td>\n",
       "      <td>STANOVANJSKI KREDIT</td>\n",
       "      <td>38150.0</td>\n",
       "      <td>90.0</td>\n",
       "      <td>3.26%</td>\n",
       "      <td>NaN</td>\n",
       "      <td>NaN</td>\n",
       "      <td>Y</td>\n",
       "    </tr>\n",
       "    <tr>\n",
       "      <th>...</th>\n",
       "      <td>...</td>\n",
       "      <td>...</td>\n",
       "      <td>...</td>\n",
       "      <td>...</td>\n",
       "      <td>...</td>\n",
       "      <td>...</td>\n",
       "      <td>...</td>\n",
       "      <td>...</td>\n",
       "      <td>...</td>\n",
       "      <td>...</td>\n",
       "      <td>...</td>\n",
       "      <td>...</td>\n",
       "      <td>...</td>\n",
       "      <td>...</td>\n",
       "      <td>...</td>\n",
       "      <td>...</td>\n",
       "      <td>...</td>\n",
       "      <td>...</td>\n",
       "      <td>...</td>\n",
       "    </tr>\n",
       "    <tr>\n",
       "      <th>38762</th>\n",
       "      <td>19296</td>\n",
       "      <td>7212</td>\n",
       "      <td>NaN</td>\n",
       "      <td>DA</td>\n",
       "      <td>1 oseba</td>\n",
       "      <td>Diplomiral</td>\n",
       "      <td>NE</td>\n",
       "      <td>873.333333</td>\n",
       "      <td>1.0</td>\n",
       "      <td>14xx</td>\n",
       "      <td>SI</td>\n",
       "      <td>NaN</td>\n",
       "      <td>NAJEM</td>\n",
       "      <td>57750.0</td>\n",
       "      <td>90.0</td>\n",
       "      <td>2.89%</td>\n",
       "      <td>NaN</td>\n",
       "      <td>kartica</td>\n",
       "      <td>Y</td>\n",
       "    </tr>\n",
       "    <tr>\n",
       "      <th>38763</th>\n",
       "      <td>20271</td>\n",
       "      <td>32616</td>\n",
       "      <td>Moški</td>\n",
       "      <td>NE</td>\n",
       "      <td>0 oseb</td>\n",
       "      <td>Diplomiral</td>\n",
       "      <td>NE</td>\n",
       "      <td>3107.666667</td>\n",
       "      <td>1.0</td>\n",
       "      <td>63xx</td>\n",
       "      <td>Slo</td>\n",
       "      <td>3 leta</td>\n",
       "      <td>STANOVANJSKI KREDIT</td>\n",
       "      <td>17500.0</td>\n",
       "      <td>90.0</td>\n",
       "      <td>1.52%</td>\n",
       "      <td>Posojilojemalec je dodal na 02-06-14 &gt; Samo o...</td>\n",
       "      <td>NaN</td>\n",
       "      <td>Y</td>\n",
       "    </tr>\n",
       "    <tr>\n",
       "      <th>38764</th>\n",
       "      <td>27733</td>\n",
       "      <td>46393</td>\n",
       "      <td>Ženska</td>\n",
       "      <td>DA</td>\n",
       "      <td>NaN</td>\n",
       "      <td>Diplomiral</td>\n",
       "      <td>DA</td>\n",
       "      <td>800.000000</td>\n",
       "      <td>0.0</td>\n",
       "      <td>42xx</td>\n",
       "      <td>SI</td>\n",
       "      <td>2 leti</td>\n",
       "      <td>LASTNO</td>\n",
       "      <td>58800.0</td>\n",
       "      <td>90.0</td>\n",
       "      <td>2.50%</td>\n",
       "      <td>NaN</td>\n",
       "      <td>NaN</td>\n",
       "      <td>N</td>\n",
       "    </tr>\n",
       "    <tr>\n",
       "      <th>38765</th>\n",
       "      <td>42707</td>\n",
       "      <td>20062</td>\n",
       "      <td>Moški</td>\n",
       "      <td>DA</td>\n",
       "      <td>3+ osebe</td>\n",
       "      <td>Diplomiral</td>\n",
       "      <td>NE</td>\n",
       "      <td>1365.000000</td>\n",
       "      <td>NaN</td>\n",
       "      <td>84xx</td>\n",
       "      <td>SI</td>\n",
       "      <td>3 leta</td>\n",
       "      <td>STANOVANJSKI KREDIT</td>\n",
       "      <td>43050.0</td>\n",
       "      <td>120.0</td>\n",
       "      <td>1.78%</td>\n",
       "      <td>NaN</td>\n",
       "      <td>NaN</td>\n",
       "      <td>Y</td>\n",
       "    </tr>\n",
       "    <tr>\n",
       "      <th>38766</th>\n",
       "      <td>3927</td>\n",
       "      <td>65276</td>\n",
       "      <td>Moški</td>\n",
       "      <td>DA</td>\n",
       "      <td>2 osebi</td>\n",
       "      <td>Brez diplome</td>\n",
       "      <td>NE</td>\n",
       "      <td>70.000000</td>\n",
       "      <td>1.0</td>\n",
       "      <td>33xx</td>\n",
       "      <td>SI</td>\n",
       "      <td>3 leta</td>\n",
       "      <td>NAJEM</td>\n",
       "      <td>43750.0</td>\n",
       "      <td>90.0</td>\n",
       "      <td>2.40%</td>\n",
       "      <td>Posojilojemalec je dodal na 02-06-14 &gt; Refina...</td>\n",
       "      <td>kartica</td>\n",
       "      <td>Y</td>\n",
       "    </tr>\n",
       "  </tbody>\n",
       "</table>\n",
       "<p>38767 rows × 19 columns</p>\n",
       "</div>"
      ]
     },
     "execution_count": 4,
     "metadata": {},
     "output_type": "execute_result"
    }
   ],
   "execution_count": 4
  },
  {
   "cell_type": "code",
   "source": [
    "# Informacion rreth dataframe-it \n",
    "data_info = data.info()\n",
    "print(data_info)"
   ],
   "metadata": {
    "collapsed": false,
    "ExecuteTime": {
     "end_time": "2024-11-03T10:29:03.482141500Z",
     "start_time": "2024-11-03T10:21:14.323221500Z"
    }
   },
   "id": "d3ab1b5fe2dabaa6",
   "outputs": [
    {
     "name": "stdout",
     "output_type": "stream",
     "text": [
      "<class 'pandas.core.frame.DataFrame'>\n",
      "RangeIndex: 38767 entries, 0 to 38766\n",
      "Data columns (total 19 columns):\n",
      " #   Column                  Non-Null Count  Dtype  \n",
      "---  ------                  --------------  -----  \n",
      " 0   LoanID                  38767 non-null  int64  \n",
      " 1   ApplicantID             38767 non-null  int64  \n",
      " 2   ApplicantGender         37902 non-null  object \n",
      " 3   ApplicantMarried        38573 non-null  object \n",
      " 4   ApplicantDependents     37775 non-null  object \n",
      " 5   ApplicantEducation      38767 non-null  object \n",
      " 6   ApplicantSelfEmployed   36702 non-null  object \n",
      " 7   ApplicantIncome         38767 non-null  float64\n",
      " 8   ApplicantCreditHistory  35687 non-null  float64\n",
      " 9   ApplicantZIP            38767 non-null  object \n",
      " 10  ApplicantState          38767 non-null  object \n",
      " 11  ApplicantEmplLength     36924 non-null  object \n",
      " 12  ApplicantHomeOwn        38767 non-null  object \n",
      " 13  LoanAmount              37370 non-null  float64\n",
      " 14  LoanTerm                37863 non-null  float64\n",
      " 15  LoanIntRate             38767 non-null  object \n",
      " 16  LoanDesc                1521 non-null   object \n",
      " 17  LoanPurpose             14845 non-null  object \n",
      " 18  LoanApproved            38767 non-null  object \n",
      "dtypes: float64(4), int64(2), object(13)\n",
      "memory usage: 5.6+ MB\n",
      "None\n"
     ]
    }
   ],
   "execution_count": 4
  },
  {
   "cell_type": "code",
   "source": [
    "#numri i rreshtave dhe kolonave ne dataframe\n",
    "data.shape"
   ],
   "metadata": {
    "collapsed": false,
    "ExecuteTime": {
     "end_time": "2024-11-03T10:29:03.534788700Z",
     "start_time": "2024-11-03T10:21:15.385160300Z"
    }
   },
   "id": "79728bff14be9018",
   "outputs": [
    {
     "data": {
      "text/plain": "(38767, 19)"
     },
     "execution_count": 5,
     "metadata": {},
     "output_type": "execute_result"
    }
   ],
   "execution_count": 5
  },
  {
   "cell_type": "code",
   "execution_count": 6,
   "outputs": [
    {
     "data": {
      "text/plain": "LoanID                      int64\nApplicantID                 int64\nApplicantGender            object\nApplicantMarried           object\nApplicantDependents        object\nApplicantEducation         object\nApplicantSelfEmployed      object\nApplicantIncome           float64\nApplicantCreditHistory    float64\nApplicantZIP               object\nApplicantState             object\nApplicantEmplLength        object\nApplicantHomeOwn           object\nLoanAmount                float64\nLoanTerm                  float64\nLoanIntRate                object\nLoanDesc                   object\nLoanPurpose                object\nLoanApproved               object\ndtype: object"
     },
     "execution_count": 6,
     "metadata": {},
     "output_type": "execute_result"
    }
   ],
   "source": [
    "#dtypes\n",
    "data.dtypes"
   ],
   "metadata": {
    "collapsed": false,
    "ExecuteTime": {
     "end_time": "2024-11-03T10:29:03.536775200Z",
     "start_time": "2024-11-03T10:21:15.505091400Z"
    }
   },
   "id": "ee84a65b26001962"
  },
  {
   "cell_type": "code",
   "source": [
    "#shfaq statistikat per çdo kolone ne DataFrame\n",
    "print(data.describe().T)"
   ],
   "metadata": {
    "collapsed": false,
    "ExecuteTime": {
     "end_time": "2024-11-03T10:29:03.541743Z",
     "start_time": "2024-11-03T10:21:15.590043100Z"
    }
   },
   "id": "b0fd80cc1f4391e",
   "outputs": [
    {
     "name": "stdout",
     "output_type": "stream",
     "text": [
      "                          count          mean           std     min      25%  \\\n",
      "LoanID                  38767.0  34552.451441  19888.051126     1.0  17433.5   \n",
      "ApplicantID             38767.0  34544.994918  19990.383285     1.0  17141.5   \n",
      "ApplicantIncome         38767.0   1801.602781   2013.534166    50.0    963.0   \n",
      "ApplicantCreditHistory  35687.0      0.842099      0.364653     0.0      1.0   \n",
      "LoanAmount              37370.0  51087.712069  29882.568304  3150.0  35000.0   \n",
      "LoanTerm                37863.0     85.473576     16.198891     3.0     90.0   \n",
      "\n",
      "                            50%           75%       max  \n",
      "LoanID                  34460.0  51691.000000   69133.0  \n",
      "ApplicantID             34480.0  51847.500000   69134.0  \n",
      "ApplicantIncome          1271.0   1933.333333   27000.0  \n",
      "ApplicantCreditHistory      1.0      1.000000       1.0  \n",
      "LoanAmount              44800.0  58450.000000  245000.0  \n",
      "LoanTerm                   90.0     90.000000     120.0  \n"
     ]
    }
   ],
   "execution_count": 7
  },
  {
   "metadata": {
    "ExecuteTime": {
     "end_time": "2024-11-03T10:29:03.542735900Z",
     "start_time": "2024-11-03T10:21:15.896867800Z"
    }
   },
   "cell_type": "code",
   "source": [
    "print(data.describe(include=\"O\").T)"
   ],
   "id": "9d03387d16a67af3",
   "outputs": [
    {
     "name": "stdout",
     "output_type": "stream",
     "text": [
      "                       count unique  \\\n",
      "ApplicantGender        37902      2   \n",
      "ApplicantMarried       38573      2   \n",
      "ApplicantDependents    37775      4   \n",
      "ApplicantEducation     38767      2   \n",
      "ApplicantSelfEmployed  36702      2   \n",
      "ApplicantZIP           38767     44   \n",
      "ApplicantState         38767      5   \n",
      "ApplicantEmplLength    36924     11   \n",
      "ApplicantHomeOwn       38767      3   \n",
      "LoanIntRate            38767     65   \n",
      "LoanDesc                1521   1119   \n",
      "LoanPurpose            14845      9   \n",
      "LoanApproved           38767      2   \n",
      "\n",
      "                                                                     top  \\\n",
      "ApplicantGender                                                    Moški   \n",
      "ApplicantMarried                                                      DA   \n",
      "ApplicantDependents                                               0 oseb   \n",
      "ApplicantEducation                                            Diplomiral   \n",
      "ApplicantSelfEmployed                                                 NE   \n",
      "ApplicantZIP                                                        33xx   \n",
      "ApplicantState                                                        SI   \n",
      "ApplicantEmplLength                                              10+ let   \n",
      "ApplicantHomeOwn                                     STANOVANJSKI KREDIT   \n",
      "LoanIntRate                                                        3.12%   \n",
      "LoanDesc                IzPosojilojemalec je dodal na 03-17-14 > kons...   \n",
      "LoanPurpose                                                      kartica   \n",
      "LoanApproved                                                           Y   \n",
      "\n",
      "                        freq  \n",
      "ApplicantGender        30882  \n",
      "ApplicantMarried       25099  \n",
      "ApplicantDependents    21803  \n",
      "ApplicantEducation     30132  \n",
      "ApplicantSelfEmployed  31538  \n",
      "ApplicantZIP            3259  \n",
      "ApplicantState         19357  \n",
      "ApplicantEmplLength    12695  \n",
      "ApplicantHomeOwn       19667  \n",
      "LoanIntRate             2041  \n",
      "LoanDesc                   9  \n",
      "LoanPurpose             9048  \n",
      "LoanApproved           32482  \n"
     ]
    }
   ],
   "execution_count": 8
  },
  {
   "cell_type": "code",
   "source": [
    "# llogarit perqindjen e rreshtave te dyfishte ne DataFrame\n",
    "\n",
    "duplicated=data.duplicated().sum()\n",
    "print((duplicated/len(data))*100 , '%')"
   ],
   "metadata": {
    "collapsed": false,
    "ExecuteTime": {
     "end_time": "2024-11-03T10:29:03.543729200Z",
     "start_time": "2024-11-03T10:21:16.356548700Z"
    }
   },
   "id": "5fa646623c8b20e1",
   "outputs": [
    {
     "name": "stdout",
     "output_type": "stream",
     "text": [
      "0.0 %\n"
     ]
    }
   ],
   "execution_count": 9
  },
  {
   "cell_type": "code",
   "source": [
    "# Funksioni missing_values_table llogarit numrin dhe perqindjen e vlerave Null\n",
    "\n",
    "def missing_values_table(data):\n",
    "  mis_val = data.isnull().sum()\n",
    "  mis_val_percent = 100*data.isnull().sum() / len(data)\n",
    "  mis_val_table = pd.concat([mis_val, mis_val_percent], axis=1)\n",
    "  mis_val_table_ren_columns = mis_val_table.rename(columns = {0:'Missing Values' , 1:'% of Total Values'})\n",
    "  return mis_val_table_ren_columns.round(1)"
   ],
   "metadata": {
    "collapsed": false,
    "ExecuteTime": {
     "end_time": "2024-11-03T10:29:03.568563200Z",
     "start_time": "2024-11-03T10:21:16.603523900Z"
    }
   },
   "id": "f9f0d3834ae0eaa",
   "outputs": [],
   "execution_count": 10
  },
  {
   "cell_type": "code",
   "source": [
    "missing_values_table(data)"
   ],
   "metadata": {
    "collapsed": false,
    "ExecuteTime": {
     "end_time": "2024-11-03T10:29:03.569557400Z",
     "start_time": "2024-11-03T10:21:16.620514400Z"
    }
   },
   "id": "4960a08f82e3d5df",
   "outputs": [
    {
     "data": {
      "text/plain": "                        Missing Values  % of Total Values\nLoanID                               0                0.0\nApplicantID                          0                0.0\nApplicantGender                    865                2.2\nApplicantMarried                   194                0.5\nApplicantDependents                992                2.6\nApplicantEducation                   0                0.0\nApplicantSelfEmployed             2065                5.3\nApplicantIncome                      0                0.0\nApplicantCreditHistory            3080                7.9\nApplicantZIP                         0                0.0\nApplicantState                       0                0.0\nApplicantEmplLength               1843                4.8\nApplicantHomeOwn                     0                0.0\nLoanAmount                        1397                3.6\nLoanTerm                           904                2.3\nLoanIntRate                          0                0.0\nLoanDesc                         37246               96.1\nLoanPurpose                      23922               61.7\nLoanApproved                         0                0.0",
      "text/html": "<div>\n<style scoped>\n    .dataframe tbody tr th:only-of-type {\n        vertical-align: middle;\n    }\n\n    .dataframe tbody tr th {\n        vertical-align: top;\n    }\n\n    .dataframe thead th {\n        text-align: right;\n    }\n</style>\n<table border=\"1\" class=\"dataframe\">\n  <thead>\n    <tr style=\"text-align: right;\">\n      <th></th>\n      <th>Missing Values</th>\n      <th>% of Total Values</th>\n    </tr>\n  </thead>\n  <tbody>\n    <tr>\n      <th>LoanID</th>\n      <td>0</td>\n      <td>0.0</td>\n    </tr>\n    <tr>\n      <th>ApplicantID</th>\n      <td>0</td>\n      <td>0.0</td>\n    </tr>\n    <tr>\n      <th>ApplicantGender</th>\n      <td>865</td>\n      <td>2.2</td>\n    </tr>\n    <tr>\n      <th>ApplicantMarried</th>\n      <td>194</td>\n      <td>0.5</td>\n    </tr>\n    <tr>\n      <th>ApplicantDependents</th>\n      <td>992</td>\n      <td>2.6</td>\n    </tr>\n    <tr>\n      <th>ApplicantEducation</th>\n      <td>0</td>\n      <td>0.0</td>\n    </tr>\n    <tr>\n      <th>ApplicantSelfEmployed</th>\n      <td>2065</td>\n      <td>5.3</td>\n    </tr>\n    <tr>\n      <th>ApplicantIncome</th>\n      <td>0</td>\n      <td>0.0</td>\n    </tr>\n    <tr>\n      <th>ApplicantCreditHistory</th>\n      <td>3080</td>\n      <td>7.9</td>\n    </tr>\n    <tr>\n      <th>ApplicantZIP</th>\n      <td>0</td>\n      <td>0.0</td>\n    </tr>\n    <tr>\n      <th>ApplicantState</th>\n      <td>0</td>\n      <td>0.0</td>\n    </tr>\n    <tr>\n      <th>ApplicantEmplLength</th>\n      <td>1843</td>\n      <td>4.8</td>\n    </tr>\n    <tr>\n      <th>ApplicantHomeOwn</th>\n      <td>0</td>\n      <td>0.0</td>\n    </tr>\n    <tr>\n      <th>LoanAmount</th>\n      <td>1397</td>\n      <td>3.6</td>\n    </tr>\n    <tr>\n      <th>LoanTerm</th>\n      <td>904</td>\n      <td>2.3</td>\n    </tr>\n    <tr>\n      <th>LoanIntRate</th>\n      <td>0</td>\n      <td>0.0</td>\n    </tr>\n    <tr>\n      <th>LoanDesc</th>\n      <td>37246</td>\n      <td>96.1</td>\n    </tr>\n    <tr>\n      <th>LoanPurpose</th>\n      <td>23922</td>\n      <td>61.7</td>\n    </tr>\n    <tr>\n      <th>LoanApproved</th>\n      <td>0</td>\n      <td>0.0</td>\n    </tr>\n  </tbody>\n</table>\n</div>"
     },
     "execution_count": 11,
     "metadata": {},
     "output_type": "execute_result"
    }
   ],
   "execution_count": 11
  },
  {
   "cell_type": "code",
   "source": [
    "missing_values = data.isnull().sum()\n",
    "missing_percentage = (missing_values / len(data)) * 100\n",
    "missing_data = pd.DataFrame({'Missing Values': missing_values, 'Percentage': missing_percentage})\n",
    "missing_data_sorted = missing_data[missing_data['Missing Values'] > 0].sort_values(by='Percentage', ascending=True)\n",
    "\n",
    "print(\"\\nMissing values in the dataset:\\n\", missing_data_sorted)"
   ],
   "metadata": {
    "collapsed": false,
    "ExecuteTime": {
     "end_time": "2024-11-03T10:29:03.582467700Z",
     "start_time": "2024-11-03T10:21:17.878553800Z"
    }
   },
   "id": "161d8740be777e77",
   "outputs": [
    {
     "name": "stdout",
     "output_type": "stream",
     "text": [
      "\n",
      "Missing values in the dataset:\n",
      "                         Missing Values  Percentage\n",
      "ApplicantMarried                   194    0.500426\n",
      "ApplicantGender                    865    2.231279\n",
      "LoanTerm                           904    2.331880\n",
      "ApplicantDependents                992    2.558877\n",
      "LoanAmount                        1397    3.603580\n",
      "ApplicantEmplLength               1843    4.754043\n",
      "ApplicantSelfEmployed             2065    5.326695\n",
      "ApplicantCreditHistory            3080    7.944902\n",
      "LoanPurpose                      23922   61.707122\n",
      "LoanDesc                         37246   96.076560\n"
     ]
    }
   ],
   "execution_count": 12
  },
  {
   "cell_type": "code",
   "source": [
    "data['ApplicantDependents'].value_counts().reset_index().rename(columns={'index' : 'ApplicantDependents' , 'ApplicantDependents' : 'counts'})\n",
    "\n"
   ],
   "metadata": {
    "collapsed": false,
    "ExecuteTime": {
     "end_time": "2024-11-03T10:29:03.583461200Z",
     "start_time": "2024-11-03T10:21:18.982322700Z"
    }
   },
   "id": "81db33083fee2629",
   "outputs": [
    {
     "data": {
      "text/plain": "  ApplicantDependents  counts\n0              0 oseb   21803\n1             1 oseba    6397\n2             2 osebi    6329\n3            3+ osebe    3246",
      "text/html": "<div>\n<style scoped>\n    .dataframe tbody tr th:only-of-type {\n        vertical-align: middle;\n    }\n\n    .dataframe tbody tr th {\n        vertical-align: top;\n    }\n\n    .dataframe thead th {\n        text-align: right;\n    }\n</style>\n<table border=\"1\" class=\"dataframe\">\n  <thead>\n    <tr style=\"text-align: right;\">\n      <th></th>\n      <th>ApplicantDependents</th>\n      <th>counts</th>\n    </tr>\n  </thead>\n  <tbody>\n    <tr>\n      <th>0</th>\n      <td>0 oseb</td>\n      <td>21803</td>\n    </tr>\n    <tr>\n      <th>1</th>\n      <td>1 oseba</td>\n      <td>6397</td>\n    </tr>\n    <tr>\n      <th>2</th>\n      <td>2 osebi</td>\n      <td>6329</td>\n    </tr>\n    <tr>\n      <th>3</th>\n      <td>3+ osebe</td>\n      <td>3246</td>\n    </tr>\n  </tbody>\n</table>\n</div>"
     },
     "execution_count": 13,
     "metadata": {},
     "output_type": "execute_result"
    }
   ],
   "execution_count": 13
  },
  {
   "cell_type": "code",
   "source": [
    "data['ApplicantEmplLength'].value_counts().reset_index().rename(columns={'index' : 'ApplicantEmplLength' , 'ApplicantEmplLength' : 'counts'})"
   ],
   "metadata": {
    "collapsed": false,
    "ExecuteTime": {
     "end_time": "2024-11-03T10:29:03.634123Z",
     "start_time": "2024-11-03T10:21:19.070272200Z"
    }
   },
   "id": "995a4e0d20388558",
   "outputs": [
    {
     "data": {
      "text/plain": "   ApplicantEmplLength  counts\n0              10+ let   12695\n1               2 leti    3451\n2               3 leta    3093\n3             < 1 leto    2988\n4               1 leto    2526\n5                7 let    2244\n6                5 let    2203\n7               4 leta    2140\n8                6 let    2059\n9                8 let    1898\n10               9 let    1627",
      "text/html": "<div>\n<style scoped>\n    .dataframe tbody tr th:only-of-type {\n        vertical-align: middle;\n    }\n\n    .dataframe tbody tr th {\n        vertical-align: top;\n    }\n\n    .dataframe thead th {\n        text-align: right;\n    }\n</style>\n<table border=\"1\" class=\"dataframe\">\n  <thead>\n    <tr style=\"text-align: right;\">\n      <th></th>\n      <th>ApplicantEmplLength</th>\n      <th>counts</th>\n    </tr>\n  </thead>\n  <tbody>\n    <tr>\n      <th>0</th>\n      <td>10+ let</td>\n      <td>12695</td>\n    </tr>\n    <tr>\n      <th>1</th>\n      <td>2 leti</td>\n      <td>3451</td>\n    </tr>\n    <tr>\n      <th>2</th>\n      <td>3 leta</td>\n      <td>3093</td>\n    </tr>\n    <tr>\n      <th>3</th>\n      <td>&lt; 1 leto</td>\n      <td>2988</td>\n    </tr>\n    <tr>\n      <th>4</th>\n      <td>1 leto</td>\n      <td>2526</td>\n    </tr>\n    <tr>\n      <th>5</th>\n      <td>7 let</td>\n      <td>2244</td>\n    </tr>\n    <tr>\n      <th>6</th>\n      <td>5 let</td>\n      <td>2203</td>\n    </tr>\n    <tr>\n      <th>7</th>\n      <td>4 leta</td>\n      <td>2140</td>\n    </tr>\n    <tr>\n      <th>8</th>\n      <td>6 let</td>\n      <td>2059</td>\n    </tr>\n    <tr>\n      <th>9</th>\n      <td>8 let</td>\n      <td>1898</td>\n    </tr>\n    <tr>\n      <th>10</th>\n      <td>9 let</td>\n      <td>1627</td>\n    </tr>\n  </tbody>\n</table>\n</div>"
     },
     "execution_count": 14,
     "metadata": {},
     "output_type": "execute_result"
    }
   ],
   "execution_count": 14
  },
  {
   "cell_type": "code",
   "source": [
    "data['ApplicantGender'].value_counts().reset_index().rename(columns={'index' : 'ApplicantGender' , 'ApplicantGender' : 'counts'})"
   ],
   "metadata": {
    "collapsed": false,
    "ExecuteTime": {
     "end_time": "2024-11-03T10:29:03.635115Z",
     "start_time": "2024-11-03T10:21:19.694696400Z"
    }
   },
   "id": "39768d5d0824f538",
   "outputs": [
    {
     "data": {
      "text/plain": "  ApplicantGender  counts\n0           Moški   30882\n1          Ženska    7020",
      "text/html": "<div>\n<style scoped>\n    .dataframe tbody tr th:only-of-type {\n        vertical-align: middle;\n    }\n\n    .dataframe tbody tr th {\n        vertical-align: top;\n    }\n\n    .dataframe thead th {\n        text-align: right;\n    }\n</style>\n<table border=\"1\" class=\"dataframe\">\n  <thead>\n    <tr style=\"text-align: right;\">\n      <th></th>\n      <th>ApplicantGender</th>\n      <th>counts</th>\n    </tr>\n  </thead>\n  <tbody>\n    <tr>\n      <th>0</th>\n      <td>Moški</td>\n      <td>30882</td>\n    </tr>\n    <tr>\n      <th>1</th>\n      <td>Ženska</td>\n      <td>7020</td>\n    </tr>\n  </tbody>\n</table>\n</div>"
     },
     "execution_count": 15,
     "metadata": {},
     "output_type": "execute_result"
    }
   ],
   "execution_count": 15
  },
  {
   "cell_type": "code",
   "source": [
    "data['LoanAmount'].value_counts().reset_index().rename(columns={'index' : 'LoanAmount' , 'LoanAmount' : 'counts'})"
   ],
   "metadata": {
    "collapsed": false,
    "ExecuteTime": {
     "end_time": "2024-11-03T10:29:03.637101500Z",
     "start_time": "2024-11-03T10:21:19.831619400Z"
    }
   },
   "id": "6f92ef0e6ab2aada",
   "outputs": [
    {
     "data": {
      "text/plain": "     LoanAmount  counts\n0       42000.0    1241\n1       38500.0    1127\n2       35000.0     920\n3       65450.0     773\n4       56000.0     757\n..          ...     ...\n198     12250.0      52\n199    122150.0      51\n200     93450.0      50\n201    122500.0      49\n202     66500.0      45\n\n[203 rows x 2 columns]",
      "text/html": "<div>\n<style scoped>\n    .dataframe tbody tr th:only-of-type {\n        vertical-align: middle;\n    }\n\n    .dataframe tbody tr th {\n        vertical-align: top;\n    }\n\n    .dataframe thead th {\n        text-align: right;\n    }\n</style>\n<table border=\"1\" class=\"dataframe\">\n  <thead>\n    <tr style=\"text-align: right;\">\n      <th></th>\n      <th>LoanAmount</th>\n      <th>counts</th>\n    </tr>\n  </thead>\n  <tbody>\n    <tr>\n      <th>0</th>\n      <td>42000.0</td>\n      <td>1241</td>\n    </tr>\n    <tr>\n      <th>1</th>\n      <td>38500.0</td>\n      <td>1127</td>\n    </tr>\n    <tr>\n      <th>2</th>\n      <td>35000.0</td>\n      <td>920</td>\n    </tr>\n    <tr>\n      <th>3</th>\n      <td>65450.0</td>\n      <td>773</td>\n    </tr>\n    <tr>\n      <th>4</th>\n      <td>56000.0</td>\n      <td>757</td>\n    </tr>\n    <tr>\n      <th>...</th>\n      <td>...</td>\n      <td>...</td>\n    </tr>\n    <tr>\n      <th>198</th>\n      <td>12250.0</td>\n      <td>52</td>\n    </tr>\n    <tr>\n      <th>199</th>\n      <td>122150.0</td>\n      <td>51</td>\n    </tr>\n    <tr>\n      <th>200</th>\n      <td>93450.0</td>\n      <td>50</td>\n    </tr>\n    <tr>\n      <th>201</th>\n      <td>122500.0</td>\n      <td>49</td>\n    </tr>\n    <tr>\n      <th>202</th>\n      <td>66500.0</td>\n      <td>45</td>\n    </tr>\n  </tbody>\n</table>\n<p>203 rows × 2 columns</p>\n</div>"
     },
     "execution_count": 16,
     "metadata": {},
     "output_type": "execute_result"
    }
   ],
   "execution_count": 16
  },
  {
   "cell_type": "code",
   "source": [
    "data['ApplicantHomeOwn'].value_counts().reset_index().rename(columns={'index' : 'ApplicantHomeOwn' , 'ApplicantHomeOwn' : 'counts'})"
   ],
   "metadata": {
    "collapsed": false,
    "ExecuteTime": {
     "end_time": "2024-11-03T10:29:03.651007400Z",
     "start_time": "2024-11-03T10:21:20.055259Z"
    }
   },
   "id": "51c179f471e217ea",
   "outputs": [
    {
     "data": {
      "text/plain": "      ApplicantHomeOwn  counts\n0  STANOVANJSKI KREDIT   19667\n1                NAJEM   15341\n2               LASTNO    3759",
      "text/html": "<div>\n<style scoped>\n    .dataframe tbody tr th:only-of-type {\n        vertical-align: middle;\n    }\n\n    .dataframe tbody tr th {\n        vertical-align: top;\n    }\n\n    .dataframe thead th {\n        text-align: right;\n    }\n</style>\n<table border=\"1\" class=\"dataframe\">\n  <thead>\n    <tr style=\"text-align: right;\">\n      <th></th>\n      <th>ApplicantHomeOwn</th>\n      <th>counts</th>\n    </tr>\n  </thead>\n  <tbody>\n    <tr>\n      <th>0</th>\n      <td>STANOVANJSKI KREDIT</td>\n      <td>19667</td>\n    </tr>\n    <tr>\n      <th>1</th>\n      <td>NAJEM</td>\n      <td>15341</td>\n    </tr>\n    <tr>\n      <th>2</th>\n      <td>LASTNO</td>\n      <td>3759</td>\n    </tr>\n  </tbody>\n</table>\n</div>"
     },
     "execution_count": 17,
     "metadata": {},
     "output_type": "execute_result"
    }
   ],
   "execution_count": 17
  },
  {
   "cell_type": "code",
   "source": [
    "data['ApplicantEducation'].value_counts().reset_index().rename(columns={'index' : 'ApplicantEducation' , 'ApplicantEducation' : 'counts'})"
   ],
   "metadata": {
    "collapsed": false,
    "ExecuteTime": {
     "end_time": "2024-11-03T10:29:03.652995400Z",
     "start_time": "2024-11-03T10:21:20.076232900Z"
    }
   },
   "id": "a79a44dc8cfbce69",
   "outputs": [
    {
     "data": {
      "text/plain": "  ApplicantEducation  counts\n0         Diplomiral   30132\n1       Brez diplome    8635",
      "text/html": "<div>\n<style scoped>\n    .dataframe tbody tr th:only-of-type {\n        vertical-align: middle;\n    }\n\n    .dataframe tbody tr th {\n        vertical-align: top;\n    }\n\n    .dataframe thead th {\n        text-align: right;\n    }\n</style>\n<table border=\"1\" class=\"dataframe\">\n  <thead>\n    <tr style=\"text-align: right;\">\n      <th></th>\n      <th>ApplicantEducation</th>\n      <th>counts</th>\n    </tr>\n  </thead>\n  <tbody>\n    <tr>\n      <th>0</th>\n      <td>Diplomiral</td>\n      <td>30132</td>\n    </tr>\n    <tr>\n      <th>1</th>\n      <td>Brez diplome</td>\n      <td>8635</td>\n    </tr>\n  </tbody>\n</table>\n</div>"
     },
     "execution_count": 18,
     "metadata": {},
     "output_type": "execute_result"
    }
   ],
   "execution_count": 18
  },
  {
   "cell_type": "code",
   "source": [
    "data['ApplicantState'].value_counts().reset_index().rename(columns={'index' : 'ApplicantState' , 'ApplicantState' : 'counts'})"
   ],
   "metadata": {
    "collapsed": false,
    "ExecuteTime": {
     "end_time": "2024-11-03T10:29:03.653988700Z",
     "start_time": "2024-11-03T10:21:20.158348300Z"
    }
   },
   "id": "3fa84868c336a186",
   "outputs": [
    {
     "data": {
      "text/plain": "  ApplicantState  counts\n0             SI   19357\n1      Slovenija    9692\n2             si    4750\n3            Slo    2969\n4            slo    1999",
      "text/html": "<div>\n<style scoped>\n    .dataframe tbody tr th:only-of-type {\n        vertical-align: middle;\n    }\n\n    .dataframe tbody tr th {\n        vertical-align: top;\n    }\n\n    .dataframe thead th {\n        text-align: right;\n    }\n</style>\n<table border=\"1\" class=\"dataframe\">\n  <thead>\n    <tr style=\"text-align: right;\">\n      <th></th>\n      <th>ApplicantState</th>\n      <th>counts</th>\n    </tr>\n  </thead>\n  <tbody>\n    <tr>\n      <th>0</th>\n      <td>SI</td>\n      <td>19357</td>\n    </tr>\n    <tr>\n      <th>1</th>\n      <td>Slovenija</td>\n      <td>9692</td>\n    </tr>\n    <tr>\n      <th>2</th>\n      <td>si</td>\n      <td>4750</td>\n    </tr>\n    <tr>\n      <th>3</th>\n      <td>Slo</td>\n      <td>2969</td>\n    </tr>\n    <tr>\n      <th>4</th>\n      <td>slo</td>\n      <td>1999</td>\n    </tr>\n  </tbody>\n</table>\n</div>"
     },
     "execution_count": 19,
     "metadata": {},
     "output_type": "execute_result"
    }
   ],
   "execution_count": 19
  },
  {
   "cell_type": "code",
   "source": [
    "data['ApplicantZIP'].value_counts().reset_index().rename(columns={'index' : 'ApplicantZIP' , 'ApplicantZIP' : 'counts'})"
   ],
   "metadata": {
    "collapsed": false,
    "ExecuteTime": {
     "end_time": "2024-11-03T10:29:03.655975800Z",
     "start_time": "2024-11-03T10:21:20.278279200Z"
    }
   },
   "id": "d3d461512494dcff",
   "outputs": [
    {
     "data": {
      "text/plain": "   ApplicantZIP  counts\n0          33xx    3259\n1          11xx    3059\n2          60xx    2818\n3          30xx    2312\n4          10xx    2278\n5          32xx    1679\n6          20xx    1601\n7          80xx    1591\n8          02xx    1416\n9          21xx    1196\n10         44xx    1125\n11         43xx    1008\n12         34xx     994\n13         23xx     978\n14         14xx     975\n15         22xx     974\n16         01xx     941\n17         70xx     833\n18         12xx     745\n19         53xx     688\n20         84xx     666\n21         63xx     655\n22         13xx     621\n23         31xx     565\n24         72xx     553\n25         64xx     493\n26         40xx     466\n27         61xx     460\n28         62xx     440\n29         74xx     434\n30         54xx     430\n31         03xx     426\n32         73xx     391\n33         24xx     382\n34         71xx     363\n35         81xx     269\n36         41xx     236\n37         82xx     218\n38         42xx     206\n39         83xx      16\n40         51xx       3\n41         52xx       2\n42         00xx       1\n43         04xx       1",
      "text/html": "<div>\n<style scoped>\n    .dataframe tbody tr th:only-of-type {\n        vertical-align: middle;\n    }\n\n    .dataframe tbody tr th {\n        vertical-align: top;\n    }\n\n    .dataframe thead th {\n        text-align: right;\n    }\n</style>\n<table border=\"1\" class=\"dataframe\">\n  <thead>\n    <tr style=\"text-align: right;\">\n      <th></th>\n      <th>ApplicantZIP</th>\n      <th>counts</th>\n    </tr>\n  </thead>\n  <tbody>\n    <tr>\n      <th>0</th>\n      <td>33xx</td>\n      <td>3259</td>\n    </tr>\n    <tr>\n      <th>1</th>\n      <td>11xx</td>\n      <td>3059</td>\n    </tr>\n    <tr>\n      <th>2</th>\n      <td>60xx</td>\n      <td>2818</td>\n    </tr>\n    <tr>\n      <th>3</th>\n      <td>30xx</td>\n      <td>2312</td>\n    </tr>\n    <tr>\n      <th>4</th>\n      <td>10xx</td>\n      <td>2278</td>\n    </tr>\n    <tr>\n      <th>5</th>\n      <td>32xx</td>\n      <td>1679</td>\n    </tr>\n    <tr>\n      <th>6</th>\n      <td>20xx</td>\n      <td>1601</td>\n    </tr>\n    <tr>\n      <th>7</th>\n      <td>80xx</td>\n      <td>1591</td>\n    </tr>\n    <tr>\n      <th>8</th>\n      <td>02xx</td>\n      <td>1416</td>\n    </tr>\n    <tr>\n      <th>9</th>\n      <td>21xx</td>\n      <td>1196</td>\n    </tr>\n    <tr>\n      <th>10</th>\n      <td>44xx</td>\n      <td>1125</td>\n    </tr>\n    <tr>\n      <th>11</th>\n      <td>43xx</td>\n      <td>1008</td>\n    </tr>\n    <tr>\n      <th>12</th>\n      <td>34xx</td>\n      <td>994</td>\n    </tr>\n    <tr>\n      <th>13</th>\n      <td>23xx</td>\n      <td>978</td>\n    </tr>\n    <tr>\n      <th>14</th>\n      <td>14xx</td>\n      <td>975</td>\n    </tr>\n    <tr>\n      <th>15</th>\n      <td>22xx</td>\n      <td>974</td>\n    </tr>\n    <tr>\n      <th>16</th>\n      <td>01xx</td>\n      <td>941</td>\n    </tr>\n    <tr>\n      <th>17</th>\n      <td>70xx</td>\n      <td>833</td>\n    </tr>\n    <tr>\n      <th>18</th>\n      <td>12xx</td>\n      <td>745</td>\n    </tr>\n    <tr>\n      <th>19</th>\n      <td>53xx</td>\n      <td>688</td>\n    </tr>\n    <tr>\n      <th>20</th>\n      <td>84xx</td>\n      <td>666</td>\n    </tr>\n    <tr>\n      <th>21</th>\n      <td>63xx</td>\n      <td>655</td>\n    </tr>\n    <tr>\n      <th>22</th>\n      <td>13xx</td>\n      <td>621</td>\n    </tr>\n    <tr>\n      <th>23</th>\n      <td>31xx</td>\n      <td>565</td>\n    </tr>\n    <tr>\n      <th>24</th>\n      <td>72xx</td>\n      <td>553</td>\n    </tr>\n    <tr>\n      <th>25</th>\n      <td>64xx</td>\n      <td>493</td>\n    </tr>\n    <tr>\n      <th>26</th>\n      <td>40xx</td>\n      <td>466</td>\n    </tr>\n    <tr>\n      <th>27</th>\n      <td>61xx</td>\n      <td>460</td>\n    </tr>\n    <tr>\n      <th>28</th>\n      <td>62xx</td>\n      <td>440</td>\n    </tr>\n    <tr>\n      <th>29</th>\n      <td>74xx</td>\n      <td>434</td>\n    </tr>\n    <tr>\n      <th>30</th>\n      <td>54xx</td>\n      <td>430</td>\n    </tr>\n    <tr>\n      <th>31</th>\n      <td>03xx</td>\n      <td>426</td>\n    </tr>\n    <tr>\n      <th>32</th>\n      <td>73xx</td>\n      <td>391</td>\n    </tr>\n    <tr>\n      <th>33</th>\n      <td>24xx</td>\n      <td>382</td>\n    </tr>\n    <tr>\n      <th>34</th>\n      <td>71xx</td>\n      <td>363</td>\n    </tr>\n    <tr>\n      <th>35</th>\n      <td>81xx</td>\n      <td>269</td>\n    </tr>\n    <tr>\n      <th>36</th>\n      <td>41xx</td>\n      <td>236</td>\n    </tr>\n    <tr>\n      <th>37</th>\n      <td>82xx</td>\n      <td>218</td>\n    </tr>\n    <tr>\n      <th>38</th>\n      <td>42xx</td>\n      <td>206</td>\n    </tr>\n    <tr>\n      <th>39</th>\n      <td>83xx</td>\n      <td>16</td>\n    </tr>\n    <tr>\n      <th>40</th>\n      <td>51xx</td>\n      <td>3</td>\n    </tr>\n    <tr>\n      <th>41</th>\n      <td>52xx</td>\n      <td>2</td>\n    </tr>\n    <tr>\n      <th>42</th>\n      <td>00xx</td>\n      <td>1</td>\n    </tr>\n    <tr>\n      <th>43</th>\n      <td>04xx</td>\n      <td>1</td>\n    </tr>\n  </tbody>\n</table>\n</div>"
     },
     "execution_count": 20,
     "metadata": {},
     "output_type": "execute_result"
    }
   ],
   "execution_count": 20
  },
  {
   "metadata": {
    "ExecuteTime": {
     "end_time": "2024-11-03T10:29:03.656968800Z",
     "start_time": "2024-11-03T10:21:20.363233600Z"
    }
   },
   "cell_type": "code",
   "source": [
    "sns.set_palette(['#9932CC','#EEE685'])\n",
    "sns.countplot(x='ApplicantGender', hue='LoanAmount', data=data)\n",
    "plt.xlabel('ApplicantGender')\n",
    "plt.ylabel('LoanAmount')\n",
    "plt.title('Relationship between ApplicantGender and LoanAmount')\n",
    "\n",
    "plt.show()"
   ],
   "id": "11a60907d68ccccf",
   "outputs": [
    {
     "data": {
      "text/plain": "<Figure size 640x480 with 1 Axes>",
      "image/png": "[encoded data removed]"
     },
     "metadata": {},
     "output_type": "display_data"
    }
   ],
   "execution_count": 21
  },
  {
   "cell_type": "code",
   "source": [
    "ct = pd.crosstab(data['ApplicantGender'], data['LoanApproved'])\n",
    "ct.plot(kind='bar', stacked=True , color=['#FF3030','#7FFFD4'])\n",
    "plt.xlabel('ApplicantGender')\n",
    "plt.ylabel('LoanApproved')\n",
    "plt.title('Relationship between Years in Applicant Gender   and Loan Approved')"
   ],
   "metadata": {
    "collapsed": false,
    "ExecuteTime": {
     "end_time": "2024-11-03T10:29:03.664915100Z",
     "start_time": "2024-11-03T10:21:33.171531300Z"
    }
   },
   "id": "8158c111bd592f50",
   "outputs": [
    {
     "data": {
      "text/plain": "Text(0.5, 1.0, 'Relationship between Years in Applicant Gender   and Loan Approved')"
     },
     "execution_count": 22,
     "metadata": {},
     "output_type": "execute_result"
    },
    {
     "data": {
      "text/plain": "<Figure size 640x480 with 1 Axes>",
      "image/png": "[encoded data removed]"
     },
     "metadata": {},
     "output_type": "display_data"
    }
   ],
   "execution_count": 22
  },
  {
   "cell_type": "code",
   "source": [
    "ct = pd.crosstab(data['ApplicantHomeOwn'], data['LoanApproved'])\n",
    "ct.plot(kind='bar', stacked=True , color=['#FF3030','#7FFFD4'])\n",
    "plt.xlabel('ApplicantHomeOwn')\n",
    "plt.ylabel('LoanApproved')\n",
    "plt.title('Relationship between Years in Applicant House  Own and Loan Approved')"
   ],
   "metadata": {
    "collapsed": false,
    "ExecuteTime": {
     "end_time": "2024-11-03T10:29:03.665908500Z",
     "start_time": "2024-11-03T10:21:34.072906400Z"
    }
   },
   "id": "51940a6c5ed9c49",
   "outputs": [
    {
     "data": {
      "text/plain": "Text(0.5, 1.0, 'Relationship between Years in Applicant House  Own and Loan Approved')"
     },
     "execution_count": 23,
     "metadata": {},
     "output_type": "execute_result"
    },
    {
     "data": {
      "text/plain": "<Figure size 640x480 with 1 Axes>",
      "image/png": "[encoded data removed]"
     },
     "metadata": {},
     "output_type": "display_data"
    }
   ],
   "execution_count": 23
  },
  {
   "metadata": {
    "ExecuteTime": {
     "end_time": "2024-11-03T10:29:03.666902Z",
     "start_time": "2024-11-03T10:21:37.234319600Z"
    }
   },
   "cell_type": "code",
   "source": [
    "data.head()"
   ],
   "id": "af91d120c51642fb",
   "outputs": [
    {
     "data": {
      "text/plain": "   LoanID  ApplicantID ApplicantGender ApplicantMarried ApplicantDependents  \\\n0   56026        19874           Moški               NE              0 oseb   \n1   53884        34258           Moški               DA             1 oseba   \n2   48350        66552           Moški               DA              0 oseb   \n3   30455        54844           Moški               DA             2 osebi   \n4     935        18820           Moški               DA             2 osebi   \n\n  ApplicantEducation ApplicantSelfEmployed  ApplicantIncome  \\\n0         Diplomiral                    NE      1949.666667   \n1         Diplomiral                    NE      1527.666667   \n2       Brez diplome                    NE       861.000000   \n3         Diplomiral                    NE      1066.666667   \n4         Diplomiral                   NaN       833.333333   \n\n   ApplicantCreditHistory ApplicantZIP ApplicantState ApplicantEmplLength  \\\n0                     1.0         33xx      Slovenija               5 let   \n1                     1.0         64xx      Slovenija             10+ let   \n2                     1.0         30xx             si              3 leta   \n3                     1.0         84xx             SI              1 leto   \n4                     1.0         60xx             SI             10+ let   \n\n      ApplicantHomeOwn  LoanAmount  LoanTerm LoanIntRate LoanDesc LoanPurpose  \\\n0  STANOVANJSKI KREDIT         NaN      90.0       1.42%      NaN     prenova   \n1                NAJEM     44800.0      90.0       3.90%      NaN       drugo   \n2                NAJEM     42000.0      90.0       2.80%      NaN         NaN   \n3                NAJEM     24500.0      90.0       3.26%      NaN         NaN   \n4  STANOVANJSKI KREDIT     38150.0      90.0       3.26%      NaN         NaN   \n\n  LoanApproved  \n0            Y  \n1            N  \n2            Y  \n3            Y  \n4            Y  ",
      "text/html": "<div>\n<style scoped>\n    .dataframe tbody tr th:only-of-type {\n        vertical-align: middle;\n    }\n\n    .dataframe tbody tr th {\n        vertical-align: top;\n    }\n\n    .dataframe thead th {\n        text-align: right;\n    }\n</style>\n<table border=\"1\" class=\"dataframe\">\n  <thead>\n    <tr style=\"text-align: right;\">\n      <th></th>\n      <th>LoanID</th>\n      <th>ApplicantID</th>\n      <th>ApplicantGender</th>\n      <th>ApplicantMarried</th>\n      <th>ApplicantDependents</th>\n      <th>ApplicantEducation</th>\n      <th>ApplicantSelfEmployed</th>\n      <th>ApplicantIncome</th>\n      <th>ApplicantCreditHistory</th>\n      <th>ApplicantZIP</th>\n      <th>ApplicantState</th>\n      <th>ApplicantEmplLength</th>\n      <th>ApplicantHomeOwn</th>\n      <th>LoanAmount</th>\n      <th>LoanTerm</th>\n      <th>LoanIntRate</th>\n      <th>LoanDesc</th>\n      <th>LoanPurpose</th>\n      <th>LoanApproved</th>\n    </tr>\n  </thead>\n  <tbody>\n    <tr>\n      <th>0</th>\n      <td>56026</td>\n      <td>19874</td>\n      <td>Moški</td>\n      <td>NE</td>\n      <td>0 oseb</td>\n      <td>Diplomiral</td>\n      <td>NE</td>\n      <td>1949.666667</td>\n      <td>1.0</td>\n      <td>33xx</td>\n      <td>Slovenija</td>\n      <td>5 let</td>\n      <td>STANOVANJSKI KREDIT</td>\n      <td>NaN</td>\n      <td>90.0</td>\n      <td>1.42%</td>\n      <td>NaN</td>\n      <td>prenova</td>\n      <td>Y</td>\n    </tr>\n    <tr>\n      <th>1</th>\n      <td>53884</td>\n      <td>34258</td>\n      <td>Moški</td>\n      <td>DA</td>\n      <td>1 oseba</td>\n      <td>Diplomiral</td>\n      <td>NE</td>\n      <td>1527.666667</td>\n      <td>1.0</td>\n      <td>64xx</td>\n      <td>Slovenija</td>\n      <td>10+ let</td>\n      <td>NAJEM</td>\n      <td>44800.0</td>\n      <td>90.0</td>\n      <td>3.90%</td>\n      <td>NaN</td>\n      <td>drugo</td>\n      <td>N</td>\n    </tr>\n    <tr>\n      <th>2</th>\n      <td>48350</td>\n      <td>66552</td>\n      <td>Moški</td>\n      <td>DA</td>\n      <td>0 oseb</td>\n      <td>Brez diplome</td>\n      <td>NE</td>\n      <td>861.000000</td>\n      <td>1.0</td>\n      <td>30xx</td>\n      <td>si</td>\n      <td>3 leta</td>\n      <td>NAJEM</td>\n      <td>42000.0</td>\n      <td>90.0</td>\n      <td>2.80%</td>\n      <td>NaN</td>\n      <td>NaN</td>\n      <td>Y</td>\n    </tr>\n    <tr>\n      <th>3</th>\n      <td>30455</td>\n      <td>54844</td>\n      <td>Moški</td>\n      <td>DA</td>\n      <td>2 osebi</td>\n      <td>Diplomiral</td>\n      <td>NE</td>\n      <td>1066.666667</td>\n      <td>1.0</td>\n      <td>84xx</td>\n      <td>SI</td>\n      <td>1 leto</td>\n      <td>NAJEM</td>\n      <td>24500.0</td>\n      <td>90.0</td>\n      <td>3.26%</td>\n      <td>NaN</td>\n      <td>NaN</td>\n      <td>Y</td>\n    </tr>\n    <tr>\n      <th>4</th>\n      <td>935</td>\n      <td>18820</td>\n      <td>Moški</td>\n      <td>DA</td>\n      <td>2 osebi</td>\n      <td>Diplomiral</td>\n      <td>NaN</td>\n      <td>833.333333</td>\n      <td>1.0</td>\n      <td>60xx</td>\n      <td>SI</td>\n      <td>10+ let</td>\n      <td>STANOVANJSKI KREDIT</td>\n      <td>38150.0</td>\n      <td>90.0</td>\n      <td>3.26%</td>\n      <td>NaN</td>\n      <td>NaN</td>\n      <td>Y</td>\n    </tr>\n  </tbody>\n</table>\n</div>"
     },
     "execution_count": 24,
     "metadata": {},
     "output_type": "execute_result"
    }
   ],
   "execution_count": 24
  },
  {
   "metadata": {
    "ExecuteTime": {
     "end_time": "2024-11-03T10:29:03.668888600Z",
     "start_time": "2024-11-03T10:21:37.356758900Z"
    }
   },
   "cell_type": "code",
   "source": [
    "data.tail(25)"
   ],
   "id": "ae86d14a9fb1f771",
   "outputs": [
    {
     "data": {
      "text/plain": "       LoanID  ApplicantID ApplicantGender ApplicantMarried  \\\n38742    9643        48615           Moški               NE   \n38743   18904        41403          Ženska               DA   \n38744   20421         7408           Moški               NE   \n38745   67635        31925           Moški               DA   \n38746   57288          439           Moški               DA   \n38747   45892         4807           Moški               NE   \n38748   43858        43206           Moški               NE   \n38749   58816        17464           Moški               NE   \n38750    3971        46270           Moški               DA   \n38751   63763        65046           Moški               NE   \n38752   47610        26288           Moški              NaN   \n38753   57403        12475           Moški               DA   \n38754   67137        32259           Moški               DA   \n38755   48137        14253           Moški               DA   \n38756   20233        37290           Moški               NE   \n38757   24855        52785           Moški               NE   \n38758   10052         4802           Moški               NE   \n38759   62223        30205           Moški               DA   \n38760   51071        57493           Moški               NE   \n38761    6206         9603           Moški               DA   \n38762   19296         7212             NaN               DA   \n38763   20271        32616           Moški               NE   \n38764   27733        46393          Ženska               DA   \n38765   42707        20062           Moški               DA   \n38766    3927        65276           Moški               DA   \n\n      ApplicantDependents ApplicantEducation ApplicantSelfEmployed  \\\n38742             2 osebi         Diplomiral                    NE   \n38743              0 oseb       Brez diplome                    NE   \n38744              0 oseb         Diplomiral                    NE   \n38745             2 osebi         Diplomiral                    NE   \n38746             2 osebi         Diplomiral                    NE   \n38747             1 oseba         Diplomiral                    NE   \n38748            3+ osebe         Diplomiral                    NE   \n38749              0 oseb       Brez diplome                    NE   \n38750             1 oseba         Diplomiral                    NE   \n38751              0 oseb         Diplomiral                    NE   \n38752            3+ osebe         Diplomiral                    NE   \n38753             2 osebi         Diplomiral                    NE   \n38754              0 oseb         Diplomiral                    NE   \n38755              0 oseb         Diplomiral                    NE   \n38756             2 osebi         Diplomiral                    NE   \n38757            3+ osebe       Brez diplome                    NE   \n38758              0 oseb         Diplomiral                    DA   \n38759             2 osebi       Brez diplome                    NE   \n38760              0 oseb         Diplomiral                    NE   \n38761              0 oseb         Diplomiral                    NE   \n38762             1 oseba         Diplomiral                    NE   \n38763              0 oseb         Diplomiral                    NE   \n38764                 NaN         Diplomiral                    DA   \n38765            3+ osebe         Diplomiral                    NE   \n38766             2 osebi       Brez diplome                    NE   \n\n       ApplicantIncome  ApplicantCreditHistory ApplicantZIP ApplicantState  \\\n38742       694.333333                     1.0         34xx             si   \n38743       586.333333                     NaN         40xx             SI   \n38744      1286.333333                     1.0         10xx             SI   \n38745      1139.333333                     1.0         11xx             SI   \n38746      1170.000000                     1.0         64xx             SI   \n38747      1585.000000                     1.0         34xx      Slovenija   \n38748      5564.000000                     1.0         10xx             SI   \n38749       609.333333                     1.0         32xx      Slovenija   \n38750      1915.333333                     1.0         02xx             SI   \n38751      3379.666667                     1.0         13xx            slo   \n38752       866.666667                     0.0         70xx             SI   \n38753      1329.000000                     1.0         34xx            slo   \n38754       792.666667                     1.0         34xx             SI   \n38755      1286.333333                     1.0         60xx             SI   \n38756       612.000000                     1.0         43xx            Slo   \n38757      1902.666667                     1.0         10xx             si   \n38758       875.000000                     1.0         30xx             SI   \n38759       730.666667                     1.0         11xx             SI   \n38760      1271.333333                     NaN         14xx             SI   \n38761       776.666667                     1.0         10xx             SI   \n38762       873.333333                     1.0         14xx             SI   \n38763      3107.666667                     1.0         63xx            Slo   \n38764       800.000000                     0.0         42xx             SI   \n38765      1365.000000                     NaN         84xx             SI   \n38766        70.000000                     1.0         33xx             SI   \n\n      ApplicantEmplLength     ApplicantHomeOwn  LoanAmount  LoanTerm  \\\n38742             10+ let                NAJEM     47250.0      90.0   \n38743              3 leta                NAJEM     64750.0      90.0   \n38744               5 let                NAJEM     84000.0      45.0   \n38745             10+ let                NAJEM     38150.0      90.0   \n38746              1 leto  STANOVANJSKI KREDIT     42000.0      90.0   \n38747               7 let  STANOVANJSKI KREDIT     24500.0      90.0   \n38748             10+ let               LASTNO    100100.0      90.0   \n38749               5 let  STANOVANJSKI KREDIT     49700.0      90.0   \n38750             10+ let  STANOVANJSKI KREDIT     10500.0      45.0   \n38751               9 let                NAJEM     30800.0      90.0   \n38752             10+ let               LASTNO      3150.0      90.0   \n38753                 NaN               LASTNO     38500.0      90.0   \n38754                 NaN  STANOVANJSKI KREDIT     66500.0      90.0   \n38755             10+ let                NAJEM     44100.0      90.0   \n38756             10+ let  STANOVANJSKI KREDIT     35000.0      90.0   \n38757             10+ let                NAJEM     23450.0      90.0   \n38758             10+ let  STANOVANJSKI KREDIT         NaN      90.0   \n38759                 NaN                NAJEM     44800.0      90.0   \n38760               6 let  STANOVANJSKI KREDIT     39200.0      90.0   \n38761             10+ let  STANOVANJSKI KREDIT    115500.0      90.0   \n38762                 NaN                NAJEM     57750.0      90.0   \n38763              3 leta  STANOVANJSKI KREDIT     17500.0      90.0   \n38764              2 leti               LASTNO     58800.0      90.0   \n38765              3 leta  STANOVANJSKI KREDIT     43050.0     120.0   \n38766              3 leta                NAJEM     43750.0      90.0   \n\n      LoanIntRate                                           LoanDesc  \\\n38742       1.78%   Posojilojemalec je dodal 02-06-14 > Zmanjanj...   \n38743       4.10%                                                NaN   \n38744       2.89%                                                NaN   \n38745       2.80%                                                NaN   \n38746       2.40%                                                NaN   \n38747       3.25%                                                NaN   \n38748       3.51%                                                NaN   \n38749       3.25%   Posojilojemalec je dodal na 02-06-14 > Za pla...   \n38750       3.51%                                                NaN   \n38751       2.89%                                                NaN   \n38752       4.82%                                                NaN   \n38753       2.40%   Posojilojemalec je dodal na 02-06-14 > za pla...   \n38754       2.40%   Posojilojemalec je dodal na 02-06-14 > Saldo ...   \n38755       4.82%                                                NaN   \n38756       3.51%   Posojilojemalec je dodal na 02-06-14 > za pla...   \n38757       4.74%   Posojilojemalec je dodal na 02-06-14 > Da bi ...   \n38758       2.57%                                                NaN   \n38759       4.74%                                                NaN   \n38760       3.65%   Posojilojemalec je dodal na 02-06-14 > To pos...   \n38761       2.80%                                                NaN   \n38762       2.89%                                                NaN   \n38763       1.52%   Posojilojemalec je dodal na 02-06-14 > Samo o...   \n38764       2.50%                                                NaN   \n38765       1.78%                                                NaN   \n38766       2.40%   Posojilojemalec je dodal na 02-06-14 > Refina...   \n\n      LoanPurpose LoanApproved  \n38742         NaN            Y  \n38743         NaN            Y  \n38744         NaN            Y  \n38745         NaN            Y  \n38746         NaN            Y  \n38747         NaN            Y  \n38748         NaN            Y  \n38749         NaN            Y  \n38750         NaN            Y  \n38751     kartica            Y  \n38752         NaN            N  \n38753     kartica            Y  \n38754         NaN            Y  \n38755       drugo            Y  \n38756         NaN            Y  \n38757         NaN            Y  \n38758     kartica            Y  \n38759         NaN            Y  \n38760         NaN            Y  \n38761     kartica            Y  \n38762     kartica            Y  \n38763         NaN            Y  \n38764         NaN            N  \n38765         NaN            Y  \n38766     kartica            Y  ",
      "text/html": "<div>\n<style scoped>\n    .dataframe tbody tr th:only-of-type {\n        vertical-align: middle;\n    }\n\n    .dataframe tbody tr th {\n        vertical-align: top;\n    }\n\n    .dataframe thead th {\n        text-align: right;\n    }\n</style>\n<table border=\"1\" class=\"dataframe\">\n  <thead>\n    <tr style=\"text-align: right;\">\n      <th></th>\n      <th>LoanID</th>\n      <th>ApplicantID</th>\n      <th>ApplicantGender</th>\n      <th>ApplicantMarried</th>\n      <th>ApplicantDependents</th>\n      <th>ApplicantEducation</th>\n      <th>ApplicantSelfEmployed</th>\n      <th>ApplicantIncome</th>\n      <th>ApplicantCreditHistory</th>\n      <th>ApplicantZIP</th>\n      <th>ApplicantState</th>\n      <th>ApplicantEmplLength</th>\n      <th>ApplicantHomeOwn</th>\n      <th>LoanAmount</th>\n      <th>LoanTerm</th>\n      <th>LoanIntRate</th>\n      <th>LoanDesc</th>\n      <th>LoanPurpose</th>\n      <th>LoanApproved</th>\n    </tr>\n  </thead>\n  <tbody>\n    <tr>\n      <th>38742</th>\n      <td>9643</td>\n      <td>48615</td>\n      <td>Moški</td>\n      <td>NE</td>\n      <td>2 osebi</td>\n      <td>Diplomiral</td>\n      <td>NE</td>\n      <td>694.333333</td>\n      <td>1.0</td>\n      <td>34xx</td>\n      <td>si</td>\n      <td>10+ let</td>\n      <td>NAJEM</td>\n      <td>47250.0</td>\n      <td>90.0</td>\n      <td>1.78%</td>\n      <td>Posojilojemalec je dodal 02-06-14 &gt; Zmanjanj...</td>\n      <td>NaN</td>\n      <td>Y</td>\n    </tr>\n    <tr>\n      <th>38743</th>\n      <td>18904</td>\n      <td>41403</td>\n      <td>Ženska</td>\n      <td>DA</td>\n      <td>0 oseb</td>\n      <td>Brez diplome</td>\n      <td>NE</td>\n      <td>586.333333</td>\n      <td>NaN</td>\n      <td>40xx</td>\n      <td>SI</td>\n      <td>3 leta</td>\n      <td>NAJEM</td>\n      <td>64750.0</td>\n      <td>90.0</td>\n      <td>4.10%</td>\n      <td>NaN</td>\n      <td>NaN</td>\n      <td>Y</td>\n    </tr>\n    <tr>\n      <th>38744</th>\n      <td>20421</td>\n      <td>7408</td>\n      <td>Moški</td>\n      <td>NE</td>\n      <td>0 oseb</td>\n      <td>Diplomiral</td>\n      <td>NE</td>\n      <td>1286.333333</td>\n      <td>1.0</td>\n      <td>10xx</td>\n      <td>SI</td>\n      <td>5 let</td>\n      <td>NAJEM</td>\n      <td>84000.0</td>\n      <td>45.0</td>\n      <td>2.89%</td>\n      <td>NaN</td>\n      <td>NaN</td>\n      <td>Y</td>\n    </tr>\n    <tr>\n      <th>38745</th>\n      <td>67635</td>\n      <td>31925</td>\n      <td>Moški</td>\n      <td>DA</td>\n      <td>2 osebi</td>\n      <td>Diplomiral</td>\n      <td>NE</td>\n      <td>1139.333333</td>\n      <td>1.0</td>\n      <td>11xx</td>\n      <td>SI</td>\n      <td>10+ let</td>\n      <td>NAJEM</td>\n      <td>38150.0</td>\n      <td>90.0</td>\n      <td>2.80%</td>\n      <td>NaN</td>\n      <td>NaN</td>\n      <td>Y</td>\n    </tr>\n    <tr>\n      <th>38746</th>\n      <td>57288</td>\n      <td>439</td>\n      <td>Moški</td>\n      <td>DA</td>\n      <td>2 osebi</td>\n      <td>Diplomiral</td>\n      <td>NE</td>\n      <td>1170.000000</td>\n      <td>1.0</td>\n      <td>64xx</td>\n      <td>SI</td>\n      <td>1 leto</td>\n      <td>STANOVANJSKI KREDIT</td>\n      <td>42000.0</td>\n      <td>90.0</td>\n      <td>2.40%</td>\n      <td>NaN</td>\n      <td>NaN</td>\n      <td>Y</td>\n    </tr>\n    <tr>\n      <th>38747</th>\n      <td>45892</td>\n      <td>4807</td>\n      <td>Moški</td>\n      <td>NE</td>\n      <td>1 oseba</td>\n      <td>Diplomiral</td>\n      <td>NE</td>\n      <td>1585.000000</td>\n      <td>1.0</td>\n      <td>34xx</td>\n      <td>Slovenija</td>\n      <td>7 let</td>\n      <td>STANOVANJSKI KREDIT</td>\n      <td>24500.0</td>\n      <td>90.0</td>\n      <td>3.25%</td>\n      <td>NaN</td>\n      <td>NaN</td>\n      <td>Y</td>\n    </tr>\n    <tr>\n      <th>38748</th>\n      <td>43858</td>\n      <td>43206</td>\n      <td>Moški</td>\n      <td>NE</td>\n      <td>3+ osebe</td>\n      <td>Diplomiral</td>\n      <td>NE</td>\n      <td>5564.000000</td>\n      <td>1.0</td>\n      <td>10xx</td>\n      <td>SI</td>\n      <td>10+ let</td>\n      <td>LASTNO</td>\n      <td>100100.0</td>\n      <td>90.0</td>\n      <td>3.51%</td>\n      <td>NaN</td>\n      <td>NaN</td>\n      <td>Y</td>\n    </tr>\n    <tr>\n      <th>38749</th>\n      <td>58816</td>\n      <td>17464</td>\n      <td>Moški</td>\n      <td>NE</td>\n      <td>0 oseb</td>\n      <td>Brez diplome</td>\n      <td>NE</td>\n      <td>609.333333</td>\n      <td>1.0</td>\n      <td>32xx</td>\n      <td>Slovenija</td>\n      <td>5 let</td>\n      <td>STANOVANJSKI KREDIT</td>\n      <td>49700.0</td>\n      <td>90.0</td>\n      <td>3.25%</td>\n      <td>Posojilojemalec je dodal na 02-06-14 &gt; Za pla...</td>\n      <td>NaN</td>\n      <td>Y</td>\n    </tr>\n    <tr>\n      <th>38750</th>\n      <td>3971</td>\n      <td>46270</td>\n      <td>Moški</td>\n      <td>DA</td>\n      <td>1 oseba</td>\n      <td>Diplomiral</td>\n      <td>NE</td>\n      <td>1915.333333</td>\n      <td>1.0</td>\n      <td>02xx</td>\n      <td>SI</td>\n      <td>10+ let</td>\n      <td>STANOVANJSKI KREDIT</td>\n      <td>10500.0</td>\n      <td>45.0</td>\n      <td>3.51%</td>\n      <td>NaN</td>\n      <td>NaN</td>\n      <td>Y</td>\n    </tr>\n    <tr>\n      <th>38751</th>\n      <td>63763</td>\n      <td>65046</td>\n      <td>Moški</td>\n      <td>NE</td>\n      <td>0 oseb</td>\n      <td>Diplomiral</td>\n      <td>NE</td>\n      <td>3379.666667</td>\n      <td>1.0</td>\n      <td>13xx</td>\n      <td>slo</td>\n      <td>9 let</td>\n      <td>NAJEM</td>\n      <td>30800.0</td>\n      <td>90.0</td>\n      <td>2.89%</td>\n      <td>NaN</td>\n      <td>kartica</td>\n      <td>Y</td>\n    </tr>\n    <tr>\n      <th>38752</th>\n      <td>47610</td>\n      <td>26288</td>\n      <td>Moški</td>\n      <td>NaN</td>\n      <td>3+ osebe</td>\n      <td>Diplomiral</td>\n      <td>NE</td>\n      <td>866.666667</td>\n      <td>0.0</td>\n      <td>70xx</td>\n      <td>SI</td>\n      <td>10+ let</td>\n      <td>LASTNO</td>\n      <td>3150.0</td>\n      <td>90.0</td>\n      <td>4.82%</td>\n      <td>NaN</td>\n      <td>NaN</td>\n      <td>N</td>\n    </tr>\n    <tr>\n      <th>38753</th>\n      <td>57403</td>\n      <td>12475</td>\n      <td>Moški</td>\n      <td>DA</td>\n      <td>2 osebi</td>\n      <td>Diplomiral</td>\n      <td>NE</td>\n      <td>1329.000000</td>\n      <td>1.0</td>\n      <td>34xx</td>\n      <td>slo</td>\n      <td>NaN</td>\n      <td>LASTNO</td>\n      <td>38500.0</td>\n      <td>90.0</td>\n      <td>2.40%</td>\n      <td>Posojilojemalec je dodal na 02-06-14 &gt; za pla...</td>\n      <td>kartica</td>\n      <td>Y</td>\n    </tr>\n    <tr>\n      <th>38754</th>\n      <td>67137</td>\n      <td>32259</td>\n      <td>Moški</td>\n      <td>DA</td>\n      <td>0 oseb</td>\n      <td>Diplomiral</td>\n      <td>NE</td>\n      <td>792.666667</td>\n      <td>1.0</td>\n      <td>34xx</td>\n      <td>SI</td>\n      <td>NaN</td>\n      <td>STANOVANJSKI KREDIT</td>\n      <td>66500.0</td>\n      <td>90.0</td>\n      <td>2.40%</td>\n      <td>Posojilojemalec je dodal na 02-06-14 &gt; Saldo ...</td>\n      <td>NaN</td>\n      <td>Y</td>\n    </tr>\n    <tr>\n      <th>38755</th>\n      <td>48137</td>\n      <td>14253</td>\n      <td>Moški</td>\n      <td>DA</td>\n      <td>0 oseb</td>\n      <td>Diplomiral</td>\n      <td>NE</td>\n      <td>1286.333333</td>\n      <td>1.0</td>\n      <td>60xx</td>\n      <td>SI</td>\n      <td>10+ let</td>\n      <td>NAJEM</td>\n      <td>44100.0</td>\n      <td>90.0</td>\n      <td>4.82%</td>\n      <td>NaN</td>\n      <td>drugo</td>\n      <td>Y</td>\n    </tr>\n    <tr>\n      <th>38756</th>\n      <td>20233</td>\n      <td>37290</td>\n      <td>Moški</td>\n      <td>NE</td>\n      <td>2 osebi</td>\n      <td>Diplomiral</td>\n      <td>NE</td>\n      <td>612.000000</td>\n      <td>1.0</td>\n      <td>43xx</td>\n      <td>Slo</td>\n      <td>10+ let</td>\n      <td>STANOVANJSKI KREDIT</td>\n      <td>35000.0</td>\n      <td>90.0</td>\n      <td>3.51%</td>\n      <td>Posojilojemalec je dodal na 02-06-14 &gt; za pla...</td>\n      <td>NaN</td>\n      <td>Y</td>\n    </tr>\n    <tr>\n      <th>38757</th>\n      <td>24855</td>\n      <td>52785</td>\n      <td>Moški</td>\n      <td>NE</td>\n      <td>3+ osebe</td>\n      <td>Brez diplome</td>\n      <td>NE</td>\n      <td>1902.666667</td>\n      <td>1.0</td>\n      <td>10xx</td>\n      <td>si</td>\n      <td>10+ let</td>\n      <td>NAJEM</td>\n      <td>23450.0</td>\n      <td>90.0</td>\n      <td>4.74%</td>\n      <td>Posojilojemalec je dodal na 02-06-14 &gt; Da bi ...</td>\n      <td>NaN</td>\n      <td>Y</td>\n    </tr>\n    <tr>\n      <th>38758</th>\n      <td>10052</td>\n      <td>4802</td>\n      <td>Moški</td>\n      <td>NE</td>\n      <td>0 oseb</td>\n      <td>Diplomiral</td>\n      <td>DA</td>\n      <td>875.000000</td>\n      <td>1.0</td>\n      <td>30xx</td>\n      <td>SI</td>\n      <td>10+ let</td>\n      <td>STANOVANJSKI KREDIT</td>\n      <td>NaN</td>\n      <td>90.0</td>\n      <td>2.57%</td>\n      <td>NaN</td>\n      <td>kartica</td>\n      <td>Y</td>\n    </tr>\n    <tr>\n      <th>38759</th>\n      <td>62223</td>\n      <td>30205</td>\n      <td>Moški</td>\n      <td>DA</td>\n      <td>2 osebi</td>\n      <td>Brez diplome</td>\n      <td>NE</td>\n      <td>730.666667</td>\n      <td>1.0</td>\n      <td>11xx</td>\n      <td>SI</td>\n      <td>NaN</td>\n      <td>NAJEM</td>\n      <td>44800.0</td>\n      <td>90.0</td>\n      <td>4.74%</td>\n      <td>NaN</td>\n      <td>NaN</td>\n      <td>Y</td>\n    </tr>\n    <tr>\n      <th>38760</th>\n      <td>51071</td>\n      <td>57493</td>\n      <td>Moški</td>\n      <td>NE</td>\n      <td>0 oseb</td>\n      <td>Diplomiral</td>\n      <td>NE</td>\n      <td>1271.333333</td>\n      <td>NaN</td>\n      <td>14xx</td>\n      <td>SI</td>\n      <td>6 let</td>\n      <td>STANOVANJSKI KREDIT</td>\n      <td>39200.0</td>\n      <td>90.0</td>\n      <td>3.65%</td>\n      <td>Posojilojemalec je dodal na 02-06-14 &gt; To pos...</td>\n      <td>NaN</td>\n      <td>Y</td>\n    </tr>\n    <tr>\n      <th>38761</th>\n      <td>6206</td>\n      <td>9603</td>\n      <td>Moški</td>\n      <td>DA</td>\n      <td>0 oseb</td>\n      <td>Diplomiral</td>\n      <td>NE</td>\n      <td>776.666667</td>\n      <td>1.0</td>\n      <td>10xx</td>\n      <td>SI</td>\n      <td>10+ let</td>\n      <td>STANOVANJSKI KREDIT</td>\n      <td>115500.0</td>\n      <td>90.0</td>\n      <td>2.80%</td>\n      <td>NaN</td>\n      <td>kartica</td>\n      <td>Y</td>\n    </tr>\n    <tr>\n      <th>38762</th>\n      <td>19296</td>\n      <td>7212</td>\n      <td>NaN</td>\n      <td>DA</td>\n      <td>1 oseba</td>\n      <td>Diplomiral</td>\n      <td>NE</td>\n      <td>873.333333</td>\n      <td>1.0</td>\n      <td>14xx</td>\n      <td>SI</td>\n      <td>NaN</td>\n      <td>NAJEM</td>\n      <td>57750.0</td>\n      <td>90.0</td>\n      <td>2.89%</td>\n      <td>NaN</td>\n      <td>kartica</td>\n      <td>Y</td>\n    </tr>\n    <tr>\n      <th>38763</th>\n      <td>20271</td>\n      <td>32616</td>\n      <td>Moški</td>\n      <td>NE</td>\n      <td>0 oseb</td>\n      <td>Diplomiral</td>\n      <td>NE</td>\n      <td>3107.666667</td>\n      <td>1.0</td>\n      <td>63xx</td>\n      <td>Slo</td>\n      <td>3 leta</td>\n      <td>STANOVANJSKI KREDIT</td>\n      <td>17500.0</td>\n      <td>90.0</td>\n      <td>1.52%</td>\n      <td>Posojilojemalec je dodal na 02-06-14 &gt; Samo o...</td>\n      <td>NaN</td>\n      <td>Y</td>\n    </tr>\n    <tr>\n      <th>38764</th>\n      <td>27733</td>\n      <td>46393</td>\n      <td>Ženska</td>\n      <td>DA</td>\n      <td>NaN</td>\n      <td>Diplomiral</td>\n      <td>DA</td>\n      <td>800.000000</td>\n      <td>0.0</td>\n      <td>42xx</td>\n      <td>SI</td>\n      <td>2 leti</td>\n      <td>LASTNO</td>\n      <td>58800.0</td>\n      <td>90.0</td>\n      <td>2.50%</td>\n      <td>NaN</td>\n      <td>NaN</td>\n      <td>N</td>\n    </tr>\n    <tr>\n      <th>38765</th>\n      <td>42707</td>\n      <td>20062</td>\n      <td>Moški</td>\n      <td>DA</td>\n      <td>3+ osebe</td>\n      <td>Diplomiral</td>\n      <td>NE</td>\n      <td>1365.000000</td>\n      <td>NaN</td>\n      <td>84xx</td>\n      <td>SI</td>\n      <td>3 leta</td>\n      <td>STANOVANJSKI KREDIT</td>\n      <td>43050.0</td>\n      <td>120.0</td>\n      <td>1.78%</td>\n      <td>NaN</td>\n      <td>NaN</td>\n      <td>Y</td>\n    </tr>\n    <tr>\n      <th>38766</th>\n      <td>3927</td>\n      <td>65276</td>\n      <td>Moški</td>\n      <td>DA</td>\n      <td>2 osebi</td>\n      <td>Brez diplome</td>\n      <td>NE</td>\n      <td>70.000000</td>\n      <td>1.0</td>\n      <td>33xx</td>\n      <td>SI</td>\n      <td>3 leta</td>\n      <td>NAJEM</td>\n      <td>43750.0</td>\n      <td>90.0</td>\n      <td>2.40%</td>\n      <td>Posojilojemalec je dodal na 02-06-14 &gt; Refina...</td>\n      <td>kartica</td>\n      <td>Y</td>\n    </tr>\n  </tbody>\n</table>\n</div>"
     },
     "execution_count": 25,
     "metadata": {},
     "output_type": "execute_result"
    }
   ],
   "execution_count": 25
  },
  {
   "metadata": {},
   "cell_type": "markdown",
   "source": [
    "Aggregating Data"
   ],
   "id": "54f8a8a953d46c68"
  },
  {
   "metadata": {
    "ExecuteTime": {
     "end_time": "2024-11-03T10:29:03.670874500Z",
     "start_time": "2024-11-03T10:21:37.572636400Z"
    }
   },
   "cell_type": "code",
   "source": [
    "income_aggregation = data.groupby('LoanApproved')['ApplicantIncome'].agg(['mean', 'median', 'count'])\n",
    "\n",
    "display(income_aggregation)"
   ],
   "id": "a20c9e095fb8b3c9",
   "outputs": [
    {
     "data": {
      "text/plain": "                     mean       median  count\nLoanApproved                                 \nN             1774.368390  1270.666667   6285\nY             1806.872411  1271.000000  32482",
      "text/html": "<div>\n<style scoped>\n    .dataframe tbody tr th:only-of-type {\n        vertical-align: middle;\n    }\n\n    .dataframe tbody tr th {\n        vertical-align: top;\n    }\n\n    .dataframe thead th {\n        text-align: right;\n    }\n</style>\n<table border=\"1\" class=\"dataframe\">\n  <thead>\n    <tr style=\"text-align: right;\">\n      <th></th>\n      <th>mean</th>\n      <th>median</th>\n      <th>count</th>\n    </tr>\n    <tr>\n      <th>LoanApproved</th>\n      <th></th>\n      <th></th>\n      <th></th>\n    </tr>\n  </thead>\n  <tbody>\n    <tr>\n      <th>N</th>\n      <td>1774.368390</td>\n      <td>1270.666667</td>\n      <td>6285</td>\n    </tr>\n    <tr>\n      <th>Y</th>\n      <td>1806.872411</td>\n      <td>1271.000000</td>\n      <td>32482</td>\n    </tr>\n  </tbody>\n</table>\n</div>"
     },
     "metadata": {},
     "output_type": "display_data"
    }
   ],
   "execution_count": 26
  },
  {
   "metadata": {
    "ExecuteTime": {
     "end_time": "2024-11-03T10:29:03.672861900Z",
     "start_time": "2024-11-03T10:21:37.665581800Z"
    }
   },
   "cell_type": "code",
   "source": [
    "loan_amunt_aggregation = data.groupby('ApplicantDependents')['LoanAmount'].agg(['sum','mean','count'])\n",
    "\n",
    "display(loan_amunt_aggregation)"
   ],
   "id": "fa2bf5b45a5108aa",
   "outputs": [
    {
     "data": {
      "text/plain": "                              sum          mean  count\nApplicantDependents                                   \n0 oseb               1.070371e+09  50977.332476  20997\n1 oseba              3.173835e+08  51531.660984   6159\n2 osebi              3.125220e+08  51065.686275   6120\n3+ osebe             1.606182e+08  51184.878904   3138",
      "text/html": "<div>\n<style scoped>\n    .dataframe tbody tr th:only-of-type {\n        vertical-align: middle;\n    }\n\n    .dataframe tbody tr th {\n        vertical-align: top;\n    }\n\n    .dataframe thead th {\n        text-align: right;\n    }\n</style>\n<table border=\"1\" class=\"dataframe\">\n  <thead>\n    <tr style=\"text-align: right;\">\n      <th></th>\n      <th>sum</th>\n      <th>mean</th>\n      <th>count</th>\n    </tr>\n    <tr>\n      <th>ApplicantDependents</th>\n      <th></th>\n      <th></th>\n      <th></th>\n    </tr>\n  </thead>\n  <tbody>\n    <tr>\n      <th>0 oseb</th>\n      <td>1.070371e+09</td>\n      <td>50977.332476</td>\n      <td>20997</td>\n    </tr>\n    <tr>\n      <th>1 oseba</th>\n      <td>3.173835e+08</td>\n      <td>51531.660984</td>\n      <td>6159</td>\n    </tr>\n    <tr>\n      <th>2 osebi</th>\n      <td>3.125220e+08</td>\n      <td>51065.686275</td>\n      <td>6120</td>\n    </tr>\n    <tr>\n      <th>3+ osebe</th>\n      <td>1.606182e+08</td>\n      <td>51184.878904</td>\n      <td>3138</td>\n    </tr>\n  </tbody>\n</table>\n</div>"
     },
     "metadata": {},
     "output_type": "display_data"
    }
   ],
   "execution_count": 27
  },
  {
   "metadata": {
    "ExecuteTime": {
     "end_time": "2024-11-03T10:29:03.675841700Z",
     "start_time": "2024-11-03T10:21:37.766524400Z"
    }
   },
   "cell_type": "code",
   "source": [
    "loan_city_aggregation = data.groupby('ApplicantZIP')['LoanAmount'].agg(['min', 'max'])\n",
    "display(loan_city_aggregation)"
   ],
   "id": "a209cb810b24e9d4",
   "outputs": [
    {
     "data": {
      "text/plain": "                  min       max\nApplicantZIP                   \n00xx              NaN       NaN\n01xx           3150.0  245000.0\n02xx           3150.0  245000.0\n03xx           5950.0  245000.0\n04xx          74900.0   74900.0\n10xx           3150.0  245000.0\n11xx           3150.0  245000.0\n12xx           3150.0  245000.0\n13xx           8750.0  245000.0\n14xx           3150.0  245000.0\n20xx           3150.0  245000.0\n21xx           3150.0  227500.0\n22xx           3150.0  245000.0\n23xx           3150.0  245000.0\n24xx           3150.0  245000.0\n30xx           3150.0  245000.0\n31xx           3150.0  227500.0\n32xx           3150.0  245000.0\n33xx           3150.0  245000.0\n34xx           5950.0  245000.0\n40xx           3150.0  210000.0\n41xx           9100.0  245000.0\n42xx           8750.0  227500.0\n43xx           3150.0  245000.0\n44xx           3150.0  227500.0\n51xx          23450.0   65450.0\n52xx          39550.0   66850.0\n53xx           8750.0  227500.0\n54xx           8750.0  210000.0\n60xx           3150.0  245000.0\n61xx           3150.0  227500.0\n62xx           3150.0  227500.0\n63xx           3150.0  210000.0\n64xx           8750.0  245000.0\n70xx           3150.0  210000.0\n71xx           3150.0  245000.0\n72xx           3150.0  245000.0\n73xx           3150.0  227500.0\n74xx           5950.0  227500.0\n80xx           3150.0  245000.0\n81xx           5950.0  199500.0\n82xx          10500.0  245000.0\n83xx          19250.0  173600.0\n84xx           3150.0  245000.0",
      "text/html": "<div>\n<style scoped>\n    .dataframe tbody tr th:only-of-type {\n        vertical-align: middle;\n    }\n\n    .dataframe tbody tr th {\n        vertical-align: top;\n    }\n\n    .dataframe thead th {\n        text-align: right;\n    }\n</style>\n<table border=\"1\" class=\"dataframe\">\n  <thead>\n    <tr style=\"text-align: right;\">\n      <th></th>\n      <th>min</th>\n      <th>max</th>\n    </tr>\n    <tr>\n      <th>ApplicantZIP</th>\n      <th></th>\n      <th></th>\n    </tr>\n  </thead>\n  <tbody>\n    <tr>\n      <th>00xx</th>\n      <td>NaN</td>\n      <td>NaN</td>\n    </tr>\n    <tr>\n      <th>01xx</th>\n      <td>3150.0</td>\n      <td>245000.0</td>\n    </tr>\n    <tr>\n      <th>02xx</th>\n      <td>3150.0</td>\n      <td>245000.0</td>\n    </tr>\n    <tr>\n      <th>03xx</th>\n      <td>5950.0</td>\n      <td>245000.0</td>\n    </tr>\n    <tr>\n      <th>04xx</th>\n      <td>74900.0</td>\n      <td>74900.0</td>\n    </tr>\n    <tr>\n      <th>10xx</th>\n      <td>3150.0</td>\n      <td>245000.0</td>\n    </tr>\n    <tr>\n      <th>11xx</th>\n      <td>3150.0</td>\n      <td>245000.0</td>\n    </tr>\n    <tr>\n      <th>12xx</th>\n      <td>3150.0</td>\n      <td>245000.0</td>\n    </tr>\n    <tr>\n      <th>13xx</th>\n      <td>8750.0</td>\n      <td>245000.0</td>\n    </tr>\n    <tr>\n      <th>14xx</th>\n      <td>3150.0</td>\n      <td>245000.0</td>\n    </tr>\n    <tr>\n      <th>20xx</th>\n      <td>3150.0</td>\n      <td>245000.0</td>\n    </tr>\n    <tr>\n      <th>21xx</th>\n      <td>3150.0</td>\n      <td>227500.0</td>\n    </tr>\n    <tr>\n      <th>22xx</th>\n      <td>3150.0</td>\n      <td>245000.0</td>\n    </tr>\n    <tr>\n      <th>23xx</th>\n      <td>3150.0</td>\n      <td>245000.0</td>\n    </tr>\n    <tr>\n      <th>24xx</th>\n      <td>3150.0</td>\n      <td>245000.0</td>\n    </tr>\n    <tr>\n      <th>30xx</th>\n      <td>3150.0</td>\n      <td>245000.0</td>\n    </tr>\n    <tr>\n      <th>31xx</th>\n      <td>3150.0</td>\n      <td>227500.0</td>\n    </tr>\n    <tr>\n      <th>32xx</th>\n      <td>3150.0</td>\n      <td>245000.0</td>\n    </tr>\n    <tr>\n      <th>33xx</th>\n      <td>3150.0</td>\n      <td>245000.0</td>\n    </tr>\n    <tr>\n      <th>34xx</th>\n      <td>5950.0</td>\n      <td>245000.0</td>\n    </tr>\n    <tr>\n      <th>40xx</th>\n      <td>3150.0</td>\n      <td>210000.0</td>\n    </tr>\n    <tr>\n      <th>41xx</th>\n      <td>9100.0</td>\n      <td>245000.0</td>\n    </tr>\n    <tr>\n      <th>42xx</th>\n      <td>8750.0</td>\n      <td>227500.0</td>\n    </tr>\n    <tr>\n      <th>43xx</th>\n      <td>3150.0</td>\n      <td>245000.0</td>\n    </tr>\n    <tr>\n      <th>44xx</th>\n      <td>3150.0</td>\n      <td>227500.0</td>\n    </tr>\n    <tr>\n      <th>51xx</th>\n      <td>23450.0</td>\n      <td>65450.0</td>\n    </tr>\n    <tr>\n      <th>52xx</th>\n      <td>39550.0</td>\n      <td>66850.0</td>\n    </tr>\n    <tr>\n      <th>53xx</th>\n      <td>8750.0</td>\n      <td>227500.0</td>\n    </tr>\n    <tr>\n      <th>54xx</th>\n      <td>8750.0</td>\n      <td>210000.0</td>\n    </tr>\n    <tr>\n      <th>60xx</th>\n      <td>3150.0</td>\n      <td>245000.0</td>\n    </tr>\n    <tr>\n      <th>61xx</th>\n      <td>3150.0</td>\n      <td>227500.0</td>\n    </tr>\n    <tr>\n      <th>62xx</th>\n      <td>3150.0</td>\n      <td>227500.0</td>\n    </tr>\n    <tr>\n      <th>63xx</th>\n      <td>3150.0</td>\n      <td>210000.0</td>\n    </tr>\n    <tr>\n      <th>64xx</th>\n      <td>8750.0</td>\n      <td>245000.0</td>\n    </tr>\n    <tr>\n      <th>70xx</th>\n      <td>3150.0</td>\n      <td>210000.0</td>\n    </tr>\n    <tr>\n      <th>71xx</th>\n      <td>3150.0</td>\n      <td>245000.0</td>\n    </tr>\n    <tr>\n      <th>72xx</th>\n      <td>3150.0</td>\n      <td>245000.0</td>\n    </tr>\n    <tr>\n      <th>73xx</th>\n      <td>3150.0</td>\n      <td>227500.0</td>\n    </tr>\n    <tr>\n      <th>74xx</th>\n      <td>5950.0</td>\n      <td>227500.0</td>\n    </tr>\n    <tr>\n      <th>80xx</th>\n      <td>3150.0</td>\n      <td>245000.0</td>\n    </tr>\n    <tr>\n      <th>81xx</th>\n      <td>5950.0</td>\n      <td>199500.0</td>\n    </tr>\n    <tr>\n      <th>82xx</th>\n      <td>10500.0</td>\n      <td>245000.0</td>\n    </tr>\n    <tr>\n      <th>83xx</th>\n      <td>19250.0</td>\n      <td>173600.0</td>\n    </tr>\n    <tr>\n      <th>84xx</th>\n      <td>3150.0</td>\n      <td>245000.0</td>\n    </tr>\n  </tbody>\n</table>\n</div>"
     },
     "metadata": {},
     "output_type": "display_data"
    }
   ],
   "execution_count": 28
  },
  {
   "cell_type": "markdown",
   "source": [
    "Sampling"
   ],
   "metadata": {
    "collapsed": false
   },
   "id": "282b6d8d8f9d0e6c"
  },
  {
   "metadata": {
    "ExecuteTime": {
     "end_time": "2024-11-03T10:29:03.677826900Z",
     "start_time": "2024-11-03T10:21:37.855474200Z"
    }
   },
   "cell_type": "code",
   "source": [
    "data_sample = data.sample(frac=0.3, random_state=42)"
   ],
   "id": "e78f1f04b9d346c6",
   "outputs": [],
   "execution_count": 29
  },
  {
   "metadata": {
    "ExecuteTime": {
     "end_time": "2024-11-03T10:29:03.678822100Z",
     "start_time": "2024-11-03T10:21:37.921435100Z"
    }
   },
   "cell_type": "code",
   "source": [
    "data_sample.shape"
   ],
   "id": "abb27ec0a0e454e5",
   "outputs": [
    {
     "data": {
      "text/plain": "(11630, 19)"
     },
     "execution_count": 30,
     "metadata": {},
     "output_type": "execute_result"
    }
   ],
   "execution_count": 30
  },
  {
   "cell_type": "markdown",
   "source": [
    "Data cleaning and transformation"
   ],
   "metadata": {
    "collapsed": false
   },
   "id": "5b310cbbfaab81a9"
  },
  {
   "cell_type": "code",
   "source": [
    "#convert Applicant Dependents to numeric values \n",
    "data_sample['ApplicantDependents'] = data_sample['ApplicantDependents'].replace({\n",
    "    '0 oseb': 0, '1 oseba': 1, '2 osebi': 2, '3+ osebe': 3\n",
    "}).astype('float')"
   ],
   "metadata": {
    "collapsed": false,
    "ExecuteTime": {
     "end_time": "2024-11-03T10:29:03.679815200Z",
     "start_time": "2024-11-03T10:21:37.970406700Z"
    }
   },
   "id": "e1129d7c4ede7a46",
   "outputs": [],
   "execution_count": 31
  },
  {
   "cell_type": "code",
   "execution_count": 32,
   "outputs": [
    {
     "name": "stdout",
     "output_type": "stream",
     "text": [
      "       ApplicantZIP\n",
      "22726            10\n",
      "429              11\n",
      "25021            14\n",
      "31218            30\n",
      "12257            44\n"
     ]
    }
   ],
   "source": [
    "data_sample['ApplicantZIP'] = data_sample['ApplicantZIP'].str.replace('xx', '').astype(int)\n",
    "\n",
    "print(data_sample[['ApplicantZIP']].head())"
   ],
   "metadata": {
    "collapsed": false,
    "ExecuteTime": {
     "end_time": "2024-11-03T10:29:03.680809400Z",
     "start_time": "2024-11-03T10:21:38.032371500Z"
    }
   },
   "id": "45a96899f8dbe320"
  },
  {
   "cell_type": "code",
   "execution_count": 33,
   "outputs": [
    {
     "data": {
      "text/plain": "       LoanID  ApplicantID ApplicantGender ApplicantMarried  \\\n22726   45554         5525           Moški               DA   \n429     16322         2432          Ženska               NE   \n25021   41728        34624           Moški               NE   \n31218   20705        26652           Moški               NE   \n12257   55115        19275           Moški               NE   \n...       ...          ...             ...              ...   \n3562    46818         8528             NaN               DA   \n29399   58504        17768           Moški               NE   \n6198    39378         1500           Moški               NE   \n4999     5117        51388          Ženska               DA   \n15192   52038        19725           Moški               DA   \n\n       ApplicantDependents ApplicantEducation ApplicantSelfEmployed  \\\n22726                  0.0         Diplomiral                    DA   \n429                    3.0       Brez diplome                    NE   \n25021                  2.0       Brez diplome                    NE   \n31218                  0.0         Diplomiral                    DA   \n12257                  2.0         Diplomiral                    NE   \n...                    ...                ...                   ...   \n3562                   1.0         Diplomiral                    NE   \n29399                  0.0       Brez diplome                    DA   \n6198                   0.0         Diplomiral                    NE   \n4999                   2.0         Diplomiral                   NaN   \n15192                  0.0         Diplomiral                    DA   \n\n       ApplicantIncome  ApplicantCreditHistory  ApplicantZIP ApplicantState  \\\n22726      1033.333333                     0.0            10             SI   \n429        2011.000000                     1.0            11             si   \n25021      6055.000000                     1.0            14      Slovenija   \n31218       716.333333                     NaN            30             SI   \n12257       826.333333                     1.0            44             si   \n...                ...                     ...           ...            ...   \n3562       2000.000000                     1.0            32             SI   \n29399      2555.666667                     1.0            44             SI   \n6198       2274.000000                     1.0            12      Slovenija   \n4999       1856.000000                     1.0            44            Slo   \n15192      1119.000000                     1.0            80             SI   \n\n      ApplicantEmplLength     ApplicantHomeOwn  LoanAmount  LoanTerm  \\\n22726               6 let                NAJEM     17500.0      45.0   \n429                 8 let                NAJEM     19600.0      90.0   \n25021               7 let  STANOVANJSKI KREDIT     35000.0      90.0   \n31218             10+ let  STANOVANJSKI KREDIT     39200.0      90.0   \n12257               9 let  STANOVANJSKI KREDIT     50050.0      90.0   \n...                   ...                  ...         ...       ...   \n3562               4 leta  STANOVANJSKI KREDIT     39550.0      45.0   \n29399              1 leto  STANOVANJSKI KREDIT     52850.0      21.0   \n6198                9 let                NAJEM     60200.0      90.0   \n4999               2 leti                NAJEM     44100.0      90.0   \n15192             10+ let                NAJEM     65450.0      90.0   \n\n      LoanIntRate LoanDesc LoanPurpose LoanApproved  \n22726       3.12%      NaN         NaN            N  \n429         1.30%      NaN         NaN            Y  \n25021       1.21%      NaN         NaN            Y  \n31218       1.52%      NaN     kartica            Y  \n12257       3.80%      NaN         NaN            Y  \n...           ...      ...         ...          ...  \n3562        4.69%      NaN         NaN            Y  \n29399       2.83%      NaN         NaN            Y  \n6198        2.50%      NaN       drugo            Y  \n4999        2.50%      NaN         NaN            Y  \n15192       2.20%      NaN         NaN            Y  \n\n[11630 rows x 19 columns]",
      "text/html": "<div>\n<style scoped>\n    .dataframe tbody tr th:only-of-type {\n        vertical-align: middle;\n    }\n\n    .dataframe tbody tr th {\n        vertical-align: top;\n    }\n\n    .dataframe thead th {\n        text-align: right;\n    }\n</style>\n<table border=\"1\" class=\"dataframe\">\n  <thead>\n    <tr style=\"text-align: right;\">\n      <th></th>\n      <th>LoanID</th>\n      <th>ApplicantID</th>\n      <th>ApplicantGender</th>\n      <th>ApplicantMarried</th>\n      <th>ApplicantDependents</th>\n      <th>ApplicantEducation</th>\n      <th>ApplicantSelfEmployed</th>\n      <th>ApplicantIncome</th>\n      <th>ApplicantCreditHistory</th>\n      <th>ApplicantZIP</th>\n      <th>ApplicantState</th>\n      <th>ApplicantEmplLength</th>\n      <th>ApplicantHomeOwn</th>\n      <th>LoanAmount</th>\n      <th>LoanTerm</th>\n      <th>LoanIntRate</th>\n      <th>LoanDesc</th>\n      <th>LoanPurpose</th>\n      <th>LoanApproved</th>\n    </tr>\n  </thead>\n  <tbody>\n    <tr>\n      <th>22726</th>\n      <td>45554</td>\n      <td>5525</td>\n      <td>Moški</td>\n      <td>DA</td>\n      <td>0.0</td>\n      <td>Diplomiral</td>\n      <td>DA</td>\n      <td>1033.333333</td>\n      <td>0.0</td>\n      <td>10</td>\n      <td>SI</td>\n      <td>6 let</td>\n      <td>NAJEM</td>\n      <td>17500.0</td>\n      <td>45.0</td>\n      <td>3.12%</td>\n      <td>NaN</td>\n      <td>NaN</td>\n      <td>N</td>\n    </tr>\n    <tr>\n      <th>429</th>\n      <td>16322</td>\n      <td>2432</td>\n      <td>Ženska</td>\n      <td>NE</td>\n      <td>3.0</td>\n      <td>Brez diplome</td>\n      <td>NE</td>\n      <td>2011.000000</td>\n      <td>1.0</td>\n      <td>11</td>\n      <td>si</td>\n      <td>8 let</td>\n      <td>NAJEM</td>\n      <td>19600.0</td>\n      <td>90.0</td>\n      <td>1.30%</td>\n      <td>NaN</td>\n      <td>NaN</td>\n      <td>Y</td>\n    </tr>\n    <tr>\n      <th>25021</th>\n      <td>41728</td>\n      <td>34624</td>\n      <td>Moški</td>\n      <td>NE</td>\n      <td>2.0</td>\n      <td>Brez diplome</td>\n      <td>NE</td>\n      <td>6055.000000</td>\n      <td>1.0</td>\n      <td>14</td>\n      <td>Slovenija</td>\n      <td>7 let</td>\n      <td>STANOVANJSKI KREDIT</td>\n      <td>35000.0</td>\n      <td>90.0</td>\n      <td>1.21%</td>\n      <td>NaN</td>\n      <td>NaN</td>\n      <td>Y</td>\n    </tr>\n    <tr>\n      <th>31218</th>\n      <td>20705</td>\n      <td>26652</td>\n      <td>Moški</td>\n      <td>NE</td>\n      <td>0.0</td>\n      <td>Diplomiral</td>\n      <td>DA</td>\n      <td>716.333333</td>\n      <td>NaN</td>\n      <td>30</td>\n      <td>SI</td>\n      <td>10+ let</td>\n      <td>STANOVANJSKI KREDIT</td>\n      <td>39200.0</td>\n      <td>90.0</td>\n      <td>1.52%</td>\n      <td>NaN</td>\n      <td>kartica</td>\n      <td>Y</td>\n    </tr>\n    <tr>\n      <th>12257</th>\n      <td>55115</td>\n      <td>19275</td>\n      <td>Moški</td>\n      <td>NE</td>\n      <td>2.0</td>\n      <td>Diplomiral</td>\n      <td>NE</td>\n      <td>826.333333</td>\n      <td>1.0</td>\n      <td>44</td>\n      <td>si</td>\n      <td>9 let</td>\n      <td>STANOVANJSKI KREDIT</td>\n      <td>50050.0</td>\n      <td>90.0</td>\n      <td>3.80%</td>\n      <td>NaN</td>\n      <td>NaN</td>\n      <td>Y</td>\n    </tr>\n    <tr>\n      <th>...</th>\n      <td>...</td>\n      <td>...</td>\n      <td>...</td>\n      <td>...</td>\n      <td>...</td>\n      <td>...</td>\n      <td>...</td>\n      <td>...</td>\n      <td>...</td>\n      <td>...</td>\n      <td>...</td>\n      <td>...</td>\n      <td>...</td>\n      <td>...</td>\n      <td>...</td>\n      <td>...</td>\n      <td>...</td>\n      <td>...</td>\n      <td>...</td>\n    </tr>\n    <tr>\n      <th>3562</th>\n      <td>46818</td>\n      <td>8528</td>\n      <td>NaN</td>\n      <td>DA</td>\n      <td>1.0</td>\n      <td>Diplomiral</td>\n      <td>NE</td>\n      <td>2000.000000</td>\n      <td>1.0</td>\n      <td>32</td>\n      <td>SI</td>\n      <td>4 leta</td>\n      <td>STANOVANJSKI KREDIT</td>\n      <td>39550.0</td>\n      <td>45.0</td>\n      <td>4.69%</td>\n      <td>NaN</td>\n      <td>NaN</td>\n      <td>Y</td>\n    </tr>\n    <tr>\n      <th>29399</th>\n      <td>58504</td>\n      <td>17768</td>\n      <td>Moški</td>\n      <td>NE</td>\n      <td>0.0</td>\n      <td>Brez diplome</td>\n      <td>DA</td>\n      <td>2555.666667</td>\n      <td>1.0</td>\n      <td>44</td>\n      <td>SI</td>\n      <td>1 leto</td>\n      <td>STANOVANJSKI KREDIT</td>\n      <td>52850.0</td>\n      <td>21.0</td>\n      <td>2.83%</td>\n      <td>NaN</td>\n      <td>NaN</td>\n      <td>Y</td>\n    </tr>\n    <tr>\n      <th>6198</th>\n      <td>39378</td>\n      <td>1500</td>\n      <td>Moški</td>\n      <td>NE</td>\n      <td>0.0</td>\n      <td>Diplomiral</td>\n      <td>NE</td>\n      <td>2274.000000</td>\n      <td>1.0</td>\n      <td>12</td>\n      <td>Slovenija</td>\n      <td>9 let</td>\n      <td>NAJEM</td>\n      <td>60200.0</td>\n      <td>90.0</td>\n      <td>2.50%</td>\n      <td>NaN</td>\n      <td>drugo</td>\n      <td>Y</td>\n    </tr>\n    <tr>\n      <th>4999</th>\n      <td>5117</td>\n      <td>51388</td>\n      <td>Ženska</td>\n      <td>DA</td>\n      <td>2.0</td>\n      <td>Diplomiral</td>\n      <td>NaN</td>\n      <td>1856.000000</td>\n      <td>1.0</td>\n      <td>44</td>\n      <td>Slo</td>\n      <td>2 leti</td>\n      <td>NAJEM</td>\n      <td>44100.0</td>\n      <td>90.0</td>\n      <td>2.50%</td>\n      <td>NaN</td>\n      <td>NaN</td>\n      <td>Y</td>\n    </tr>\n    <tr>\n      <th>15192</th>\n      <td>52038</td>\n      <td>19725</td>\n      <td>Moški</td>\n      <td>DA</td>\n      <td>0.0</td>\n      <td>Diplomiral</td>\n      <td>DA</td>\n      <td>1119.000000</td>\n      <td>1.0</td>\n      <td>80</td>\n      <td>SI</td>\n      <td>10+ let</td>\n      <td>NAJEM</td>\n      <td>65450.0</td>\n      <td>90.0</td>\n      <td>2.20%</td>\n      <td>NaN</td>\n      <td>NaN</td>\n      <td>Y</td>\n    </tr>\n  </tbody>\n</table>\n<p>11630 rows × 19 columns</p>\n</div>"
     },
     "execution_count": 33,
     "metadata": {},
     "output_type": "execute_result"
    }
   ],
   "source": [
    "data_sample"
   ],
   "metadata": {
    "collapsed": false,
    "ExecuteTime": {
     "end_time": "2024-11-03T10:29:03.681803200Z",
     "start_time": "2024-11-03T10:21:38.126318Z"
    }
   },
   "id": "bc861af0179e634a"
  },
  {
   "cell_type": "code",
   "source": [
    "# standardize 'ApplicantEmplLength' by capturing numbers and converting \"< 1 leto\" as 0.5\n",
    "def clean_employment_length(value):\n",
    "    if isinstance(value, str):\n",
    "        match = re.search(r\"(\\d+)\", value)\n",
    "        if match:\n",
    "            return float(match.group(1))\n",
    "        elif \"< 1\" in value:\n",
    "            return 0.5\n",
    "    return value\n"
   ],
   "metadata": {
    "collapsed": false,
    "ExecuteTime": {
     "end_time": "2024-11-03T10:29:03.682795600Z",
     "start_time": "2024-11-03T10:21:38.321207600Z"
    }
   },
   "id": "1170492722f6c19a",
   "outputs": [],
   "execution_count": 34
  },
  {
   "cell_type": "code",
   "source": [
    "data_sample['ApplicantEmplLength'] = data_sample['ApplicantEmplLength'].apply(clean_employment_length).astype('float')\n",
    "data_sample"
   ],
   "metadata": {
    "collapsed": false,
    "ExecuteTime": {
     "end_time": "2024-11-03T10:29:03.683788800Z",
     "start_time": "2024-11-03T10:21:38.387683500Z"
    }
   },
   "id": "f823bc8192aec2b3",
   "outputs": [
    {
     "data": {
      "text/plain": "       LoanID  ApplicantID ApplicantGender ApplicantMarried  \\\n22726   45554         5525           Moški               DA   \n429     16322         2432          Ženska               NE   \n25021   41728        34624           Moški               NE   \n31218   20705        26652           Moški               NE   \n12257   55115        19275           Moški               NE   \n...       ...          ...             ...              ...   \n3562    46818         8528             NaN               DA   \n29399   58504        17768           Moški               NE   \n6198    39378         1500           Moški               NE   \n4999     5117        51388          Ženska               DA   \n15192   52038        19725           Moški               DA   \n\n       ApplicantDependents ApplicantEducation ApplicantSelfEmployed  \\\n22726                  0.0         Diplomiral                    DA   \n429                    3.0       Brez diplome                    NE   \n25021                  2.0       Brez diplome                    NE   \n31218                  0.0         Diplomiral                    DA   \n12257                  2.0         Diplomiral                    NE   \n...                    ...                ...                   ...   \n3562                   1.0         Diplomiral                    NE   \n29399                  0.0       Brez diplome                    DA   \n6198                   0.0         Diplomiral                    NE   \n4999                   2.0         Diplomiral                   NaN   \n15192                  0.0         Diplomiral                    DA   \n\n       ApplicantIncome  ApplicantCreditHistory  ApplicantZIP ApplicantState  \\\n22726      1033.333333                     0.0            10             SI   \n429        2011.000000                     1.0            11             si   \n25021      6055.000000                     1.0            14      Slovenija   \n31218       716.333333                     NaN            30             SI   \n12257       826.333333                     1.0            44             si   \n...                ...                     ...           ...            ...   \n3562       2000.000000                     1.0            32             SI   \n29399      2555.666667                     1.0            44             SI   \n6198       2274.000000                     1.0            12      Slovenija   \n4999       1856.000000                     1.0            44            Slo   \n15192      1119.000000                     1.0            80             SI   \n\n       ApplicantEmplLength     ApplicantHomeOwn  LoanAmount  LoanTerm  \\\n22726                  6.0                NAJEM     17500.0      45.0   \n429                    8.0                NAJEM     19600.0      90.0   \n25021                  7.0  STANOVANJSKI KREDIT     35000.0      90.0   \n31218                 10.0  STANOVANJSKI KREDIT     39200.0      90.0   \n12257                  9.0  STANOVANJSKI KREDIT     50050.0      90.0   \n...                    ...                  ...         ...       ...   \n3562                   4.0  STANOVANJSKI KREDIT     39550.0      45.0   \n29399                  1.0  STANOVANJSKI KREDIT     52850.0      21.0   \n6198                   9.0                NAJEM     60200.0      90.0   \n4999                   2.0                NAJEM     44100.0      90.0   \n15192                 10.0                NAJEM     65450.0      90.0   \n\n      LoanIntRate LoanDesc LoanPurpose LoanApproved  \n22726       3.12%      NaN         NaN            N  \n429         1.30%      NaN         NaN            Y  \n25021       1.21%      NaN         NaN            Y  \n31218       1.52%      NaN     kartica            Y  \n12257       3.80%      NaN         NaN            Y  \n...           ...      ...         ...          ...  \n3562        4.69%      NaN         NaN            Y  \n29399       2.83%      NaN         NaN            Y  \n6198        2.50%      NaN       drugo            Y  \n4999        2.50%      NaN         NaN            Y  \n15192       2.20%      NaN         NaN            Y  \n\n[11630 rows x 19 columns]",
      "text/html": "<div>\n<style scoped>\n    .dataframe tbody tr th:only-of-type {\n        vertical-align: middle;\n    }\n\n    .dataframe tbody tr th {\n        vertical-align: top;\n    }\n\n    .dataframe thead th {\n        text-align: right;\n    }\n</style>\n<table border=\"1\" class=\"dataframe\">\n  <thead>\n    <tr style=\"text-align: right;\">\n      <th></th>\n      <th>LoanID</th>\n      <th>ApplicantID</th>\n      <th>ApplicantGender</th>\n      <th>ApplicantMarried</th>\n      <th>ApplicantDependents</th>\n      <th>ApplicantEducation</th>\n      <th>ApplicantSelfEmployed</th>\n      <th>ApplicantIncome</th>\n      <th>ApplicantCreditHistory</th>\n      <th>ApplicantZIP</th>\n      <th>ApplicantState</th>\n      <th>ApplicantEmplLength</th>\n      <th>ApplicantHomeOwn</th>\n      <th>LoanAmount</th>\n      <th>LoanTerm</th>\n      <th>LoanIntRate</th>\n      <th>LoanDesc</th>\n      <th>LoanPurpose</th>\n      <th>LoanApproved</th>\n    </tr>\n  </thead>\n  <tbody>\n    <tr>\n      <th>22726</th>\n      <td>45554</td>\n      <td>5525</td>\n      <td>Moški</td>\n      <td>DA</td>\n      <td>0.0</td>\n      <td>Diplomiral</td>\n      <td>DA</td>\n      <td>1033.333333</td>\n      <td>0.0</td>\n      <td>10</td>\n      <td>SI</td>\n      <td>6.0</td>\n      <td>NAJEM</td>\n      <td>17500.0</td>\n      <td>45.0</td>\n      <td>3.12%</td>\n      <td>NaN</td>\n      <td>NaN</td>\n      <td>N</td>\n    </tr>\n    <tr>\n      <th>429</th>\n      <td>16322</td>\n      <td>2432</td>\n      <td>Ženska</td>\n      <td>NE</td>\n      <td>3.0</td>\n      <td>Brez diplome</td>\n      <td>NE</td>\n      <td>2011.000000</td>\n      <td>1.0</td>\n      <td>11</td>\n      <td>si</td>\n      <td>8.0</td>\n      <td>NAJEM</td>\n      <td>19600.0</td>\n      <td>90.0</td>\n      <td>1.30%</td>\n      <td>NaN</td>\n      <td>NaN</td>\n      <td>Y</td>\n    </tr>\n    <tr>\n      <th>25021</th>\n      <td>41728</td>\n      <td>34624</td>\n      <td>Moški</td>\n      <td>NE</td>\n      <td>2.0</td>\n      <td>Brez diplome</td>\n      <td>NE</td>\n      <td>6055.000000</td>\n      <td>1.0</td>\n      <td>14</td>\n      <td>Slovenija</td>\n      <td>7.0</td>\n      <td>STANOVANJSKI KREDIT</td>\n      <td>35000.0</td>\n      <td>90.0</td>\n      <td>1.21%</td>\n      <td>NaN</td>\n      <td>NaN</td>\n      <td>Y</td>\n    </tr>\n    <tr>\n      <th>31218</th>\n      <td>20705</td>\n      <td>26652</td>\n      <td>Moški</td>\n      <td>NE</td>\n      <td>0.0</td>\n      <td>Diplomiral</td>\n      <td>DA</td>\n      <td>716.333333</td>\n      <td>NaN</td>\n      <td>30</td>\n      <td>SI</td>\n      <td>10.0</td>\n      <td>STANOVANJSKI KREDIT</td>\n      <td>39200.0</td>\n      <td>90.0</td>\n      <td>1.52%</td>\n      <td>NaN</td>\n      <td>kartica</td>\n      <td>Y</td>\n    </tr>\n    <tr>\n      <th>12257</th>\n      <td>55115</td>\n      <td>19275</td>\n      <td>Moški</td>\n      <td>NE</td>\n      <td>2.0</td>\n      <td>Diplomiral</td>\n      <td>NE</td>\n      <td>826.333333</td>\n      <td>1.0</td>\n      <td>44</td>\n      <td>si</td>\n      <td>9.0</td>\n      <td>STANOVANJSKI KREDIT</td>\n      <td>50050.0</td>\n      <td>90.0</td>\n      <td>3.80%</td>\n      <td>NaN</td>\n      <td>NaN</td>\n      <td>Y</td>\n    </tr>\n    <tr>\n      <th>...</th>\n      <td>...</td>\n      <td>...</td>\n      <td>...</td>\n      <td>...</td>\n      <td>...</td>\n      <td>...</td>\n      <td>...</td>\n      <td>...</td>\n      <td>...</td>\n      <td>...</td>\n      <td>...</td>\n      <td>...</td>\n      <td>...</td>\n      <td>...</td>\n      <td>...</td>\n      <td>...</td>\n      <td>...</td>\n      <td>...</td>\n      <td>...</td>\n    </tr>\n    <tr>\n      <th>3562</th>\n      <td>46818</td>\n      <td>8528</td>\n      <td>NaN</td>\n      <td>DA</td>\n      <td>1.0</td>\n      <td>Diplomiral</td>\n      <td>NE</td>\n      <td>2000.000000</td>\n      <td>1.0</td>\n      <td>32</td>\n      <td>SI</td>\n      <td>4.0</td>\n      <td>STANOVANJSKI KREDIT</td>\n      <td>39550.0</td>\n      <td>45.0</td>\n      <td>4.69%</td>\n      <td>NaN</td>\n      <td>NaN</td>\n      <td>Y</td>\n    </tr>\n    <tr>\n      <th>29399</th>\n      <td>58504</td>\n      <td>17768</td>\n      <td>Moški</td>\n      <td>NE</td>\n      <td>0.0</td>\n      <td>Brez diplome</td>\n      <td>DA</td>\n      <td>2555.666667</td>\n      <td>1.0</td>\n      <td>44</td>\n      <td>SI</td>\n      <td>1.0</td>\n      <td>STANOVANJSKI KREDIT</td>\n      <td>52850.0</td>\n      <td>21.0</td>\n      <td>2.83%</td>\n      <td>NaN</td>\n      <td>NaN</td>\n      <td>Y</td>\n    </tr>\n    <tr>\n      <th>6198</th>\n      <td>39378</td>\n      <td>1500</td>\n      <td>Moški</td>\n      <td>NE</td>\n      <td>0.0</td>\n      <td>Diplomiral</td>\n      <td>NE</td>\n      <td>2274.000000</td>\n      <td>1.0</td>\n      <td>12</td>\n      <td>Slovenija</td>\n      <td>9.0</td>\n      <td>NAJEM</td>\n      <td>60200.0</td>\n      <td>90.0</td>\n      <td>2.50%</td>\n      <td>NaN</td>\n      <td>drugo</td>\n      <td>Y</td>\n    </tr>\n    <tr>\n      <th>4999</th>\n      <td>5117</td>\n      <td>51388</td>\n      <td>Ženska</td>\n      <td>DA</td>\n      <td>2.0</td>\n      <td>Diplomiral</td>\n      <td>NaN</td>\n      <td>1856.000000</td>\n      <td>1.0</td>\n      <td>44</td>\n      <td>Slo</td>\n      <td>2.0</td>\n      <td>NAJEM</td>\n      <td>44100.0</td>\n      <td>90.0</td>\n      <td>2.50%</td>\n      <td>NaN</td>\n      <td>NaN</td>\n      <td>Y</td>\n    </tr>\n    <tr>\n      <th>15192</th>\n      <td>52038</td>\n      <td>19725</td>\n      <td>Moški</td>\n      <td>DA</td>\n      <td>0.0</td>\n      <td>Diplomiral</td>\n      <td>DA</td>\n      <td>1119.000000</td>\n      <td>1.0</td>\n      <td>80</td>\n      <td>SI</td>\n      <td>10.0</td>\n      <td>NAJEM</td>\n      <td>65450.0</td>\n      <td>90.0</td>\n      <td>2.20%</td>\n      <td>NaN</td>\n      <td>NaN</td>\n      <td>Y</td>\n    </tr>\n  </tbody>\n</table>\n<p>11630 rows × 19 columns</p>\n</div>"
     },
     "execution_count": 35,
     "metadata": {},
     "output_type": "execute_result"
    }
   ],
   "execution_count": 35
  },
  {
   "cell_type": "code",
   "source": [
    "#covert 'LoanIntRate' to float by removing % symbol \n",
    "data_sample['LoanIntRate']= data_sample['LoanIntRate'].str.replace('%','').astype('float')\n",
    "data_sample"
   ],
   "metadata": {
    "collapsed": false,
    "ExecuteTime": {
     "end_time": "2024-11-03T10:29:03.685774300Z",
     "start_time": "2024-11-03T10:21:38.607557500Z"
    }
   },
   "id": "93fea3812370fc7d",
   "outputs": [
    {
     "data": {
      "text/plain": "       LoanID  ApplicantID ApplicantGender ApplicantMarried  \\\n22726   45554         5525           Moški               DA   \n429     16322         2432          Ženska               NE   \n25021   41728        34624           Moški               NE   \n31218   20705        26652           Moški               NE   \n12257   55115        19275           Moški               NE   \n...       ...          ...             ...              ...   \n3562    46818         8528             NaN               DA   \n29399   58504        17768           Moški               NE   \n6198    39378         1500           Moški               NE   \n4999     5117        51388          Ženska               DA   \n15192   52038        19725           Moški               DA   \n\n       ApplicantDependents ApplicantEducation ApplicantSelfEmployed  \\\n22726                  0.0         Diplomiral                    DA   \n429                    3.0       Brez diplome                    NE   \n25021                  2.0       Brez diplome                    NE   \n31218                  0.0         Diplomiral                    DA   \n12257                  2.0         Diplomiral                    NE   \n...                    ...                ...                   ...   \n3562                   1.0         Diplomiral                    NE   \n29399                  0.0       Brez diplome                    DA   \n6198                   0.0         Diplomiral                    NE   \n4999                   2.0         Diplomiral                   NaN   \n15192                  0.0         Diplomiral                    DA   \n\n       ApplicantIncome  ApplicantCreditHistory  ApplicantZIP ApplicantState  \\\n22726      1033.333333                     0.0            10             SI   \n429        2011.000000                     1.0            11             si   \n25021      6055.000000                     1.0            14      Slovenija   \n31218       716.333333                     NaN            30             SI   \n12257       826.333333                     1.0            44             si   \n...                ...                     ...           ...            ...   \n3562       2000.000000                     1.0            32             SI   \n29399      2555.666667                     1.0            44             SI   \n6198       2274.000000                     1.0            12      Slovenija   \n4999       1856.000000                     1.0            44            Slo   \n15192      1119.000000                     1.0            80             SI   \n\n       ApplicantEmplLength     ApplicantHomeOwn  LoanAmount  LoanTerm  \\\n22726                  6.0                NAJEM     17500.0      45.0   \n429                    8.0                NAJEM     19600.0      90.0   \n25021                  7.0  STANOVANJSKI KREDIT     35000.0      90.0   \n31218                 10.0  STANOVANJSKI KREDIT     39200.0      90.0   \n12257                  9.0  STANOVANJSKI KREDIT     50050.0      90.0   \n...                    ...                  ...         ...       ...   \n3562                   4.0  STANOVANJSKI KREDIT     39550.0      45.0   \n29399                  1.0  STANOVANJSKI KREDIT     52850.0      21.0   \n6198                   9.0                NAJEM     60200.0      90.0   \n4999                   2.0                NAJEM     44100.0      90.0   \n15192                 10.0                NAJEM     65450.0      90.0   \n\n       LoanIntRate LoanDesc LoanPurpose LoanApproved  \n22726         3.12      NaN         NaN            N  \n429           1.30      NaN         NaN            Y  \n25021         1.21      NaN         NaN            Y  \n31218         1.52      NaN     kartica            Y  \n12257         3.80      NaN         NaN            Y  \n...            ...      ...         ...          ...  \n3562          4.69      NaN         NaN            Y  \n29399         2.83      NaN         NaN            Y  \n6198          2.50      NaN       drugo            Y  \n4999          2.50      NaN         NaN            Y  \n15192         2.20      NaN         NaN            Y  \n\n[11630 rows x 19 columns]",
      "text/html": "<div>\n<style scoped>\n    .dataframe tbody tr th:only-of-type {\n        vertical-align: middle;\n    }\n\n    .dataframe tbody tr th {\n        vertical-align: top;\n    }\n\n    .dataframe thead th {\n        text-align: right;\n    }\n</style>\n<table border=\"1\" class=\"dataframe\">\n  <thead>\n    <tr style=\"text-align: right;\">\n      <th></th>\n      <th>LoanID</th>\n      <th>ApplicantID</th>\n      <th>ApplicantGender</th>\n      <th>ApplicantMarried</th>\n      <th>ApplicantDependents</th>\n      <th>ApplicantEducation</th>\n      <th>ApplicantSelfEmployed</th>\n      <th>ApplicantIncome</th>\n      <th>ApplicantCreditHistory</th>\n      <th>ApplicantZIP</th>\n      <th>ApplicantState</th>\n      <th>ApplicantEmplLength</th>\n      <th>ApplicantHomeOwn</th>\n      <th>LoanAmount</th>\n      <th>LoanTerm</th>\n      <th>LoanIntRate</th>\n      <th>LoanDesc</th>\n      <th>LoanPurpose</th>\n      <th>LoanApproved</th>\n    </tr>\n  </thead>\n  <tbody>\n    <tr>\n      <th>22726</th>\n      <td>45554</td>\n      <td>5525</td>\n      <td>Moški</td>\n      <td>DA</td>\n      <td>0.0</td>\n      <td>Diplomiral</td>\n      <td>DA</td>\n      <td>1033.333333</td>\n      <td>0.0</td>\n      <td>10</td>\n      <td>SI</td>\n      <td>6.0</td>\n      <td>NAJEM</td>\n      <td>17500.0</td>\n      <td>45.0</td>\n      <td>3.12</td>\n      <td>NaN</td>\n      <td>NaN</td>\n      <td>N</td>\n    </tr>\n    <tr>\n      <th>429</th>\n      <td>16322</td>\n      <td>2432</td>\n      <td>Ženska</td>\n      <td>NE</td>\n      <td>3.0</td>\n      <td>Brez diplome</td>\n      <td>NE</td>\n      <td>2011.000000</td>\n      <td>1.0</td>\n      <td>11</td>\n      <td>si</td>\n      <td>8.0</td>\n      <td>NAJEM</td>\n      <td>19600.0</td>\n      <td>90.0</td>\n      <td>1.30</td>\n      <td>NaN</td>\n      <td>NaN</td>\n      <td>Y</td>\n    </tr>\n    <tr>\n      <th>25021</th>\n      <td>41728</td>\n      <td>34624</td>\n      <td>Moški</td>\n      <td>NE</td>\n      <td>2.0</td>\n      <td>Brez diplome</td>\n      <td>NE</td>\n      <td>6055.000000</td>\n      <td>1.0</td>\n      <td>14</td>\n      <td>Slovenija</td>\n      <td>7.0</td>\n      <td>STANOVANJSKI KREDIT</td>\n      <td>35000.0</td>\n      <td>90.0</td>\n      <td>1.21</td>\n      <td>NaN</td>\n      <td>NaN</td>\n      <td>Y</td>\n    </tr>\n    <tr>\n      <th>31218</th>\n      <td>20705</td>\n      <td>26652</td>\n      <td>Moški</td>\n      <td>NE</td>\n      <td>0.0</td>\n      <td>Diplomiral</td>\n      <td>DA</td>\n      <td>716.333333</td>\n      <td>NaN</td>\n      <td>30</td>\n      <td>SI</td>\n      <td>10.0</td>\n      <td>STANOVANJSKI KREDIT</td>\n      <td>39200.0</td>\n      <td>90.0</td>\n      <td>1.52</td>\n      <td>NaN</td>\n      <td>kartica</td>\n      <td>Y</td>\n    </tr>\n    <tr>\n      <th>12257</th>\n      <td>55115</td>\n      <td>19275</td>\n      <td>Moški</td>\n      <td>NE</td>\n      <td>2.0</td>\n      <td>Diplomiral</td>\n      <td>NE</td>\n      <td>826.333333</td>\n      <td>1.0</td>\n      <td>44</td>\n      <td>si</td>\n      <td>9.0</td>\n      <td>STANOVANJSKI KREDIT</td>\n      <td>50050.0</td>\n      <td>90.0</td>\n      <td>3.80</td>\n      <td>NaN</td>\n      <td>NaN</td>\n      <td>Y</td>\n    </tr>\n    <tr>\n      <th>...</th>\n      <td>...</td>\n      <td>...</td>\n      <td>...</td>\n      <td>...</td>\n      <td>...</td>\n      <td>...</td>\n      <td>...</td>\n      <td>...</td>\n      <td>...</td>\n      <td>...</td>\n      <td>...</td>\n      <td>...</td>\n      <td>...</td>\n      <td>...</td>\n      <td>...</td>\n      <td>...</td>\n      <td>...</td>\n      <td>...</td>\n      <td>...</td>\n    </tr>\n    <tr>\n      <th>3562</th>\n      <td>46818</td>\n      <td>8528</td>\n      <td>NaN</td>\n      <td>DA</td>\n      <td>1.0</td>\n      <td>Diplomiral</td>\n      <td>NE</td>\n      <td>2000.000000</td>\n      <td>1.0</td>\n      <td>32</td>\n      <td>SI</td>\n      <td>4.0</td>\n      <td>STANOVANJSKI KREDIT</td>\n      <td>39550.0</td>\n      <td>45.0</td>\n      <td>4.69</td>\n      <td>NaN</td>\n      <td>NaN</td>\n      <td>Y</td>\n    </tr>\n    <tr>\n      <th>29399</th>\n      <td>58504</td>\n      <td>17768</td>\n      <td>Moški</td>\n      <td>NE</td>\n      <td>0.0</td>\n      <td>Brez diplome</td>\n      <td>DA</td>\n      <td>2555.666667</td>\n      <td>1.0</td>\n      <td>44</td>\n      <td>SI</td>\n      <td>1.0</td>\n      <td>STANOVANJSKI KREDIT</td>\n      <td>52850.0</td>\n      <td>21.0</td>\n      <td>2.83</td>\n      <td>NaN</td>\n      <td>NaN</td>\n      <td>Y</td>\n    </tr>\n    <tr>\n      <th>6198</th>\n      <td>39378</td>\n      <td>1500</td>\n      <td>Moški</td>\n      <td>NE</td>\n      <td>0.0</td>\n      <td>Diplomiral</td>\n      <td>NE</td>\n      <td>2274.000000</td>\n      <td>1.0</td>\n      <td>12</td>\n      <td>Slovenija</td>\n      <td>9.0</td>\n      <td>NAJEM</td>\n      <td>60200.0</td>\n      <td>90.0</td>\n      <td>2.50</td>\n      <td>NaN</td>\n      <td>drugo</td>\n      <td>Y</td>\n    </tr>\n    <tr>\n      <th>4999</th>\n      <td>5117</td>\n      <td>51388</td>\n      <td>Ženska</td>\n      <td>DA</td>\n      <td>2.0</td>\n      <td>Diplomiral</td>\n      <td>NaN</td>\n      <td>1856.000000</td>\n      <td>1.0</td>\n      <td>44</td>\n      <td>Slo</td>\n      <td>2.0</td>\n      <td>NAJEM</td>\n      <td>44100.0</td>\n      <td>90.0</td>\n      <td>2.50</td>\n      <td>NaN</td>\n      <td>NaN</td>\n      <td>Y</td>\n    </tr>\n    <tr>\n      <th>15192</th>\n      <td>52038</td>\n      <td>19725</td>\n      <td>Moški</td>\n      <td>DA</td>\n      <td>0.0</td>\n      <td>Diplomiral</td>\n      <td>DA</td>\n      <td>1119.000000</td>\n      <td>1.0</td>\n      <td>80</td>\n      <td>SI</td>\n      <td>10.0</td>\n      <td>NAJEM</td>\n      <td>65450.0</td>\n      <td>90.0</td>\n      <td>2.20</td>\n      <td>NaN</td>\n      <td>NaN</td>\n      <td>Y</td>\n    </tr>\n  </tbody>\n</table>\n<p>11630 rows × 19 columns</p>\n</div>"
     },
     "execution_count": 36,
     "metadata": {},
     "output_type": "execute_result"
    }
   ],
   "execution_count": 36
  },
  {
   "cell_type": "code",
   "source": [
    "#fill missing categorical values with mode\n",
    "for column in ['ApplicantGender', 'ApplicantMarried', 'ApplicantSelfEmployed', 'ApplicantCreditHistory']:\n",
    "    data_sample[column].fillna(data_sample[column].mode()[0], inplace=True)\n"
   ],
   "metadata": {
    "collapsed": false,
    "ExecuteTime": {
     "end_time": "2024-11-03T10:29:03.687761300Z",
     "start_time": "2024-11-03T10:21:38.795449300Z"
    }
   },
   "id": "d663c926b8d72e3a",
   "outputs": [],
   "execution_count": 37
  },
  {
   "cell_type": "code",
   "source": [
    "#fill numeric columns with median values \n",
    "for column in ['LoanAmount', 'LoanTerm','ApplicantDependents', 'ApplicantEmplLength']: \n",
    "    data_sample[column].fillna(data_sample[column].median(), inplace=True)"
   ],
   "metadata": {
    "collapsed": false,
    "ExecuteTime": {
     "end_time": "2024-11-03T10:29:03.688754800Z",
     "start_time": "2024-11-03T10:21:38.892394500Z"
    }
   },
   "id": "da7068bc5dc208c2",
   "outputs": [],
   "execution_count": 38
  },
  {
   "cell_type": "code",
   "source": [
    "data_sample['LoanPurpose'].fillna('Unknown', inplace=True)"
   ],
   "metadata": {
    "collapsed": false,
    "ExecuteTime": {
     "end_time": "2024-11-03T10:29:03.693721500Z",
     "start_time": "2024-11-03T10:21:38.995335100Z"
    }
   },
   "id": "c6c8823cf649c13c",
   "outputs": [],
   "execution_count": 39
  },
  {
   "metadata": {
    "ExecuteTime": {
     "end_time": "2024-11-03T10:29:03.694715800Z",
     "start_time": "2024-11-03T10:21:39.209723Z"
    }
   },
   "cell_type": "code",
   "source": [
    "data_sample.drop(columns=['LoanDesc'], inplace=True)"
   ],
   "id": "c817b534d145e24e",
   "outputs": [],
   "execution_count": 40
  },
  {
   "metadata": {
    "ExecuteTime": {
     "end_time": "2024-11-03T10:29:03.695709300Z",
     "start_time": "2024-11-03T10:21:39.209723Z"
    }
   },
   "cell_type": "code",
   "source": [
    "print(\"Remaining Missing Values:\", data_sample.isnull().sum())\n",
    "print(\"Data Types:\", data_sample.dtypes)"
   ],
   "id": "600985d59d036356",
   "outputs": [
    {
     "name": "stdout",
     "output_type": "stream",
     "text": [
      "Remaining Missing Values: LoanID                    0\n",
      "ApplicantID               0\n",
      "ApplicantGender           0\n",
      "ApplicantMarried          0\n",
      "ApplicantDependents       0\n",
      "ApplicantEducation        0\n",
      "ApplicantSelfEmployed     0\n",
      "ApplicantIncome           0\n",
      "ApplicantCreditHistory    0\n",
      "ApplicantZIP              0\n",
      "ApplicantState            0\n",
      "ApplicantEmplLength       0\n",
      "ApplicantHomeOwn          0\n",
      "LoanAmount                0\n",
      "LoanTerm                  0\n",
      "LoanIntRate               0\n",
      "LoanPurpose               0\n",
      "LoanApproved              0\n",
      "dtype: int64\n",
      "Data Types: LoanID                      int64\n",
      "ApplicantID                 int64\n",
      "ApplicantGender            object\n",
      "ApplicantMarried           object\n",
      "ApplicantDependents       float64\n",
      "ApplicantEducation         object\n",
      "ApplicantSelfEmployed      object\n",
      "ApplicantIncome           float64\n",
      "ApplicantCreditHistory    float64\n",
      "ApplicantZIP                int32\n",
      "ApplicantState             object\n",
      "ApplicantEmplLength       float64\n",
      "ApplicantHomeOwn           object\n",
      "LoanAmount                float64\n",
      "LoanTerm                  float64\n",
      "LoanIntRate               float64\n",
      "LoanPurpose                object\n",
      "LoanApproved               object\n",
      "dtype: object\n"
     ]
    }
   ],
   "execution_count": 41
  },
  {
   "metadata": {
    "ExecuteTime": {
     "end_time": "2024-11-03T10:29:03.696705900Z",
     "start_time": "2024-11-03T10:21:39.210723300Z"
    }
   },
   "cell_type": "code",
   "source": [
    "# Binning 'ApplicantIncome' into categories (low, medium, high income)\n",
    "income_bins = [0, 2500, 5000, 10000, data_sample['ApplicantIncome'].max()]\n",
    "income_labels = ['Low', 'Medium', 'High', 'Very High']\n",
    "data_sample['IncomeLevel'] = pd.cut(data_sample['ApplicantIncome'], bins=income_bins, labels=income_labels)"
   ],
   "id": "bae67aaf6f658a27",
   "outputs": [],
   "execution_count": 42
  },
  {
   "metadata": {
    "ExecuteTime": {
     "end_time": "2024-11-03T10:29:03.697695900Z",
     "start_time": "2024-11-03T10:21:39.210723300Z"
    }
   },
   "cell_type": "code",
   "source": [
    "# Binarization: Convert LoanApproved to 0 and 1\n",
    "data_sample['LoanApproved'] = data_sample['LoanApproved'].replace({'Y': 1, 'N': 0})"
   ],
   "id": "6045e918e5c8b07c",
   "outputs": [],
   "execution_count": 43
  },
  {
   "metadata": {
    "ExecuteTime": {
     "end_time": "2024-11-03T10:29:03.697695900Z",
     "start_time": "2024-11-03T10:21:39.241705700Z"
    }
   },
   "cell_type": "code",
   "source": [
    "# Discretizing 'LoanTerm' into short, medium, long-term categories\n",
    "term_bins = [0, 60, 90, 120]  # Bin edges for Loan Term\n",
    "term_labels = ['Short', 'Medium', 'Long']\n",
    "data_sample['LoanTermCategory'] = pd.cut(data_sample['LoanTerm'], bins=term_bins, labels=term_labels)"
   ],
   "id": "c61cafbd3e3a7506",
   "outputs": [],
   "execution_count": 44
  },
  {
   "cell_type": "code",
   "source": [
    "# Transform categorical data into binary format using one-hot encoding\n",
    "df =pd.get_dummies(data_sample, columns=['ApplicantGender', 'ApplicantMarried', \n",
    "                                     'ApplicantEducation', 'ApplicantSelfEmployed', 'ApplicantHomeOwn'\n",
    "                                     ], drop_first=True)"
   ],
   "metadata": {
    "collapsed": false,
    "ExecuteTime": {
     "end_time": "2024-11-03T10:29:03.698688900Z",
     "start_time": "2024-11-03T10:21:39.273689200Z"
    }
   },
   "id": "c65e84c447458f32",
   "outputs": [],
   "execution_count": 45
  },
  {
   "cell_type": "code",
   "source": [
    "print(df['ApplicantState'].unique())\n",
    "#since the applicant state column has a this ['SI' 'si' 'Slovenija' 'Slo' 'slo'] dropping this column is a reasonable choice to simplify the dataset without losing any critical information\n",
    "\n",
    "df.drop(columns=['ApplicantState'], inplace=True)"
   ],
   "metadata": {
    "collapsed": false,
    "ExecuteTime": {
     "end_time": "2024-11-03T10:29:03.700674600Z",
     "start_time": "2024-11-03T10:21:39.749850400Z"
    }
   },
   "id": "77c9dd1549f0e782",
   "outputs": [
    {
     "name": "stdout",
     "output_type": "stream",
     "text": [
      "['SI' 'si' 'Slovenija' 'Slo' 'slo']\n"
     ]
    }
   ],
   "execution_count": 47
  },
  {
   "metadata": {
    "ExecuteTime": {
     "end_time": "2024-11-03T10:29:03.702661600Z",
     "start_time": "2024-11-03T10:21:39.751852700Z"
    }
   },
   "cell_type": "code",
   "source": [
    "# Final Validation\n",
    "remaining_missing_values = data_sample.isnull().sum()\n",
    "data_types = data_sample.dtypes\n",
    "\n",
    "print(\"Remaining Missing Values:\\n\", remaining_missing_values[remaining_missing_values > 0])\n",
    "print(\"\\nData Types:\\n\", data_types)\n",
    "\n",
    "df.head()"
   ],
   "id": "e8c56646a3bd719f",
   "outputs": [
    {
     "name": "stdout",
     "output_type": "stream",
     "text": [
      "Remaining Missing Values:\n",
      " Series([], dtype: int64)\n",
      "\n",
      "Data Types:\n",
      " LoanID                       int64\n",
      "ApplicantID                  int64\n",
      "ApplicantGender             object\n",
      "ApplicantMarried            object\n",
      "ApplicantDependents        float64\n",
      "ApplicantEducation          object\n",
      "ApplicantSelfEmployed       object\n",
      "ApplicantIncome            float64\n",
      "ApplicantCreditHistory     float64\n",
      "ApplicantZIP                 int32\n",
      "ApplicantState              object\n",
      "ApplicantEmplLength        float64\n",
      "ApplicantHomeOwn            object\n",
      "LoanAmount                 float64\n",
      "LoanTerm                   float64\n",
      "LoanIntRate                float64\n",
      "LoanPurpose                 object\n",
      "LoanApproved                 int64\n",
      "IncomeLevel               category\n",
      "LoanTermCategory          category\n",
      "dtype: object\n"
     ]
    },
    {
     "data": {
      "text/plain": "       LoanID  ApplicantID  ApplicantDependents  ApplicantIncome  \\\n22726   45554         5525                  0.0      1033.333333   \n429     16322         2432                  3.0      2011.000000   \n25021   41728        34624                  2.0      6055.000000   \n31218   20705        26652                  0.0       716.333333   \n12257   55115        19275                  2.0       826.333333   \n\n       ApplicantCreditHistory  ApplicantZIP  ApplicantEmplLength  LoanAmount  \\\n22726                     0.0            10                  6.0     17500.0   \n429                       1.0            11                  8.0     19600.0   \n25021                     1.0            14                  7.0     35000.0   \n31218                     1.0            30                 10.0     39200.0   \n12257                     1.0            44                  9.0     50050.0   \n\n       LoanTerm  LoanIntRate LoanPurpose  LoanApproved IncomeLevel  \\\n22726      45.0         3.12     Unknown             0         Low   \n429        90.0         1.30     Unknown             1         Low   \n25021      90.0         1.21     Unknown             1        High   \n31218      90.0         1.52     kartica             1         Low   \n12257      90.0         3.80     Unknown             1         Low   \n\n      LoanTermCategory  ApplicantGender_Ženska  ApplicantMarried_NE  \\\n22726            Short                       0                    0   \n429             Medium                       1                    1   \n25021           Medium                       0                    1   \n31218           Medium                       0                    1   \n12257           Medium                       0                    1   \n\n       ApplicantEducation_Diplomiral  ApplicantSelfEmployed_NE  \\\n22726                              1                         0   \n429                                0                         1   \n25021                              0                         1   \n31218                              1                         0   \n12257                              1                         1   \n\n       ApplicantHomeOwn_NAJEM  ApplicantHomeOwn_STANOVANJSKI KREDIT  \n22726                       1                                     0  \n429                         1                                     0  \n25021                       0                                     1  \n31218                       0                                     1  \n12257                       0                                     1  ",
      "text/html": "<div>\n<style scoped>\n    .dataframe tbody tr th:only-of-type {\n        vertical-align: middle;\n    }\n\n    .dataframe tbody tr th {\n        vertical-align: top;\n    }\n\n    .dataframe thead th {\n        text-align: right;\n    }\n</style>\n<table border=\"1\" class=\"dataframe\">\n  <thead>\n    <tr style=\"text-align: right;\">\n      <th></th>\n      <th>LoanID</th>\n      <th>ApplicantID</th>\n      <th>ApplicantDependents</th>\n      <th>ApplicantIncome</th>\n      <th>ApplicantCreditHistory</th>\n      <th>ApplicantZIP</th>\n      <th>ApplicantEmplLength</th>\n      <th>LoanAmount</th>\n      <th>LoanTerm</th>\n      <th>LoanIntRate</th>\n      <th>LoanPurpose</th>\n      <th>LoanApproved</th>\n      <th>IncomeLevel</th>\n      <th>LoanTermCategory</th>\n      <th>ApplicantGender_Ženska</th>\n      <th>ApplicantMarried_NE</th>\n      <th>ApplicantEducation_Diplomiral</th>\n      <th>ApplicantSelfEmployed_NE</th>\n      <th>ApplicantHomeOwn_NAJEM</th>\n      <th>ApplicantHomeOwn_STANOVANJSKI KREDIT</th>\n    </tr>\n  </thead>\n  <tbody>\n    <tr>\n      <th>22726</th>\n      <td>45554</td>\n      <td>5525</td>\n      <td>0.0</td>\n      <td>1033.333333</td>\n      <td>0.0</td>\n      <td>10</td>\n      <td>6.0</td>\n      <td>17500.0</td>\n      <td>45.0</td>\n      <td>3.12</td>\n      <td>Unknown</td>\n      <td>0</td>\n      <td>Low</td>\n      <td>Short</td>\n      <td>0</td>\n      <td>0</td>\n      <td>1</td>\n      <td>0</td>\n      <td>1</td>\n      <td>0</td>\n    </tr>\n    <tr>\n      <th>429</th>\n      <td>16322</td>\n      <td>2432</td>\n      <td>3.0</td>\n      <td>2011.000000</td>\n      <td>1.0</td>\n      <td>11</td>\n      <td>8.0</td>\n      <td>19600.0</td>\n      <td>90.0</td>\n      <td>1.30</td>\n      <td>Unknown</td>\n      <td>1</td>\n      <td>Low</td>\n      <td>Medium</td>\n      <td>1</td>\n      <td>1</td>\n      <td>0</td>\n      <td>1</td>\n      <td>1</td>\n      <td>0</td>\n    </tr>\n    <tr>\n      <th>25021</th>\n      <td>41728</td>\n      <td>34624</td>\n      <td>2.0</td>\n      <td>6055.000000</td>\n      <td>1.0</td>\n      <td>14</td>\n      <td>7.0</td>\n      <td>35000.0</td>\n      <td>90.0</td>\n      <td>1.21</td>\n      <td>Unknown</td>\n      <td>1</td>\n      <td>High</td>\n      <td>Medium</td>\n      <td>0</td>\n      <td>1</td>\n      <td>0</td>\n      <td>1</td>\n      <td>0</td>\n      <td>1</td>\n    </tr>\n    <tr>\n      <th>31218</th>\n      <td>20705</td>\n      <td>26652</td>\n      <td>0.0</td>\n      <td>716.333333</td>\n      <td>1.0</td>\n      <td>30</td>\n      <td>10.0</td>\n      <td>39200.0</td>\n      <td>90.0</td>\n      <td>1.52</td>\n      <td>kartica</td>\n      <td>1</td>\n      <td>Low</td>\n      <td>Medium</td>\n      <td>0</td>\n      <td>1</td>\n      <td>1</td>\n      <td>0</td>\n      <td>0</td>\n      <td>1</td>\n    </tr>\n    <tr>\n      <th>12257</th>\n      <td>55115</td>\n      <td>19275</td>\n      <td>2.0</td>\n      <td>826.333333</td>\n      <td>1.0</td>\n      <td>44</td>\n      <td>9.0</td>\n      <td>50050.0</td>\n      <td>90.0</td>\n      <td>3.80</td>\n      <td>Unknown</td>\n      <td>1</td>\n      <td>Low</td>\n      <td>Medium</td>\n      <td>0</td>\n      <td>1</td>\n      <td>1</td>\n      <td>1</td>\n      <td>0</td>\n      <td>1</td>\n    </tr>\n  </tbody>\n</table>\n</div>"
     },
     "execution_count": 48,
     "metadata": {},
     "output_type": "execute_result"
    }
   ],
   "execution_count": 48
  },
  {
   "metadata": {
    "ExecuteTime": {
     "end_time": "2024-11-03T10:29:03.703653800Z",
     "start_time": "2024-11-03T10:21:39.787827900Z"
    }
   },
   "cell_type": "code",
   "source": [
    "df.drop(labels=['LoanID','ApplicantID'], axis=1, inplace=True)"
   ],
   "id": "9d9fcdb6435bd136",
   "outputs": [],
   "execution_count": 49
  },
  {
   "metadata": {
    "ExecuteTime": {
     "end_time": "2024-11-03T10:29:03.704648500Z",
     "start_time": "2024-11-03T10:21:39.840797Z"
    }
   },
   "cell_type": "code",
   "source": [
    "df.dtypes"
   ],
   "id": "c46fb86c7caef162",
   "outputs": [
    {
     "data": {
      "text/plain": "ApplicantDependents                      float64\nApplicantIncome                          float64\nApplicantCreditHistory                   float64\nApplicantZIP                               int32\nApplicantEmplLength                      float64\nLoanAmount                               float64\nLoanTerm                                 float64\nLoanIntRate                              float64\nLoanPurpose                               object\nLoanApproved                               int64\nIncomeLevel                             category\nLoanTermCategory                        category\nApplicantGender_Ženska                     uint8\nApplicantMarried_NE                        uint8\nApplicantEducation_Diplomiral              uint8\nApplicantSelfEmployed_NE                   uint8\nApplicantHomeOwn_NAJEM                     uint8\nApplicantHomeOwn_STANOVANJSKI KREDIT       uint8\ndtype: object"
     },
     "execution_count": 50,
     "metadata": {},
     "output_type": "execute_result"
    }
   ],
   "execution_count": 50
  },
  {
   "cell_type": "code",
   "execution_count": 52,
   "outputs": [],
   "source": [
    "# 'LoanPurpose' categories\n",
    "loan_purpose_mapping = {\n",
    "    'Unknown': 0,\n",
    "    'kartica': 1,\n",
    "    'zdravljenje': 2,\n",
    "    'drugo': 3,\n",
    "    'prenova': 4,\n",
    "    'investicija': 5,\n",
    "    'stanovanje': 6,\n",
    "    'selitev': 7,\n",
    "    'poèitnice': 8,\n",
    "    'obnovljivi_viri': 9\n",
    "}\n",
    "\n",
    "df['LoanPurpose'] = df['LoanPurpose'].map(loan_purpose_mapping)\n",
    "df['LoanPurpose'] = df['LoanPurpose'].astype(int)"
   ],
   "metadata": {
    "collapsed": false,
    "ExecuteTime": {
     "end_time": "2024-11-03T10:29:03.708621Z",
     "start_time": "2024-11-03T10:21:40.028864900Z"
    }
   },
   "id": "23b1f22cfce3f81b"
  },
  {
   "cell_type": "code",
   "execution_count": 53,
   "outputs": [
    {
     "data": {
      "text/plain": "ApplicantDependents                      float64\nApplicantIncome                          float64\nApplicantCreditHistory                   float64\nApplicantZIP                               int32\nApplicantEmplLength                      float64\nLoanAmount                               float64\nLoanTerm                                 float64\nLoanIntRate                              float64\nLoanPurpose                                int32\nLoanApproved                               int64\nIncomeLevel                             category\nLoanTermCategory                        category\nApplicantGender_Ženska                     uint8\nApplicantMarried_NE                        uint8\nApplicantEducation_Diplomiral              uint8\nApplicantSelfEmployed_NE                   uint8\nApplicantHomeOwn_NAJEM                     uint8\nApplicantHomeOwn_STANOVANJSKI KREDIT       uint8\ndtype: object"
     },
     "execution_count": 53,
     "metadata": {},
     "output_type": "execute_result"
    }
   ],
   "source": [
    "df.dtypes"
   ],
   "metadata": {
    "collapsed": false,
    "ExecuteTime": {
     "end_time": "2024-11-03T10:29:03.709615400Z",
     "start_time": "2024-11-03T10:21:40.081834700Z"
    }
   },
   "id": "341581081005a7e5"
  },
  {
   "cell_type": "code",
   "execution_count": 57,
   "outputs": [
    {
     "name": "stdout",
     "output_type": "stream",
     "text": [
      "       ApplicantDependents  ApplicantIncome  ApplicantCreditHistory  \\\n",
      "22726                  0.0      1033.333333                     0.0   \n",
      "429                    3.0      2011.000000                     1.0   \n",
      "25021                  2.0      6055.000000                     1.0   \n",
      "31218                  0.0       716.333333                     1.0   \n",
      "12257                  2.0       826.333333                     1.0   \n",
      "\n",
      "       ApplicantZIP  ApplicantEmplLength  LoanAmount  LoanTerm  LoanIntRate  \\\n",
      "22726            10                  6.0     17500.0      45.0         3.12   \n",
      "429              11                  8.0     19600.0      90.0         1.30   \n",
      "25021            14                  7.0     35000.0      90.0         1.21   \n",
      "31218            30                 10.0     39200.0      90.0         1.52   \n",
      "12257            44                  9.0     50050.0      90.0         3.80   \n",
      "\n",
      "       LoanPurpose  ApplicantGender_Ženska  ApplicantMarried_NE  \\\n",
      "22726            0                       0                    0   \n",
      "429              0                       1                    1   \n",
      "25021            0                       0                    1   \n",
      "31218            1                       0                    1   \n",
      "12257            0                       0                    1   \n",
      "\n",
      "       ApplicantEducation_Diplomiral  ApplicantSelfEmployed_NE  \\\n",
      "22726                              1                         0   \n",
      "429                                0                         1   \n",
      "25021                              0                         1   \n",
      "31218                              1                         0   \n",
      "12257                              1                         1   \n",
      "\n",
      "       ApplicantHomeOwn_NAJEM  ApplicantHomeOwn_STANOVANJSKI KREDIT  \\\n",
      "22726                       1                                     0   \n",
      "429                         1                                     0   \n",
      "25021                       0                                     1   \n",
      "31218                       0                                     1   \n",
      "12257                       0                                     1   \n",
      "\n",
      "       IncomeLevel_Medium  IncomeLevel_High  IncomeLevel_Very High  \\\n",
      "22726                   0                 0                      0   \n",
      "429                     0                 0                      0   \n",
      "25021                   0                 1                      0   \n",
      "31218                   0                 0                      0   \n",
      "12257                   0                 0                      0   \n",
      "\n",
      "       LoanTermCategory_Medium  LoanTermCategory_Long  \n",
      "22726                        0                      0  \n",
      "429                          1                      0  \n",
      "25021                        1                      0  \n",
      "31218                        1                      0  \n",
      "12257                        1                      0  \n"
     ]
    }
   ],
   "source": [
    "# categorical_columns = X.select_dtypes(include=['category']).columns\n",
    "# X_encoded = pd.get_dummies(X, columns=categorical_columns, drop_first=True)\n",
    "# print(X_encoded.head())\n"
   ],
   "metadata": {
    "collapsed": false
   },
   "id": "bf099ef9f1da5f33"
  },
  {
   "cell_type": "code",
   "execution_count": 58,
   "outputs": [
    {
     "data": {
      "text/plain": "          0         1  LoanApproved\n0  1.868989 -0.669885           1.0\n1  1.507459 -0.045288           NaN\n2 -1.078944  3.368611           NaN\n3 -1.610697 -0.623614           NaN\n4 -1.413742 -0.470449           1.0",
      "text/html": "<div>\n<style scoped>\n    .dataframe tbody tr th:only-of-type {\n        vertical-align: middle;\n    }\n\n    .dataframe tbody tr th {\n        vertical-align: top;\n    }\n\n    .dataframe thead th {\n        text-align: right;\n    }\n</style>\n<table border=\"1\" class=\"dataframe\">\n  <thead>\n    <tr style=\"text-align: right;\">\n      <th></th>\n      <th>0</th>\n      <th>1</th>\n      <th>LoanApproved</th>\n    </tr>\n  </thead>\n  <tbody>\n    <tr>\n      <th>0</th>\n      <td>1.868989</td>\n      <td>-0.669885</td>\n      <td>1.0</td>\n    </tr>\n    <tr>\n      <th>1</th>\n      <td>1.507459</td>\n      <td>-0.045288</td>\n      <td>NaN</td>\n    </tr>\n    <tr>\n      <th>2</th>\n      <td>-1.078944</td>\n      <td>3.368611</td>\n      <td>NaN</td>\n    </tr>\n    <tr>\n      <th>3</th>\n      <td>-1.610697</td>\n      <td>-0.623614</td>\n      <td>NaN</td>\n    </tr>\n    <tr>\n      <th>4</th>\n      <td>-1.413742</td>\n      <td>-0.470449</td>\n      <td>1.0</td>\n    </tr>\n  </tbody>\n</table>\n</div>"
     },
     "execution_count": 58,
     "metadata": {},
     "output_type": "execute_result"
    }
   ],
   "source": [
    "# PCA_df = pd.DataFrame(PCAPipeline.fit_transform(X_encoded))\n",
    "# PCA_df = pd.concat([PCA_df, y], axis=1)\n",
    "# PCA_df.head()"
   ],
   "metadata": {
    "collapsed": false
   },
   "id": "de3af48f5c400176"
  },
  {
   "metadata": {},
   "cell_type": "markdown",
   "source": [
    "Faza e dyte\n",
    "\n"
   ],
   "id": "4314a1a42f16075"
  },
  {
   "metadata": {
    "ExecuteTime": {
     "end_time": "2024-12-02T17:22:59.665135Z",
     "start_time": "2024-12-02T17:22:59.643191Z"
    }
   },
   "cell_type": "code",
   "source": [
    "# mean = data['ApplicantIncome'].mean()\n",
    "# \n",
    "# # Print results\n",
    "# print(f\"Mean: {mean}\")"
   ],
   "id": "4208316d4750d225",
   "outputs": [
    {
     "name": "stdout",
     "output_type": "stream",
     "text": [
      "Mean: 1801.6027807058092\n"
     ]
    }
   ],
   "execution_count": 6
  },
  {
   "metadata": {
    "ExecuteTime": {
     "end_time": "2024-12-02T17:27:18.696538Z",
     "start_time": "2024-12-02T17:27:15.286278Z"
    }
   },
   "cell_type": "code",
   "source": [
    "# median = data['ApplicantIncome'].median()\n",
    "# \n",
    "# # Print results\n",
    "# print(f\"Median: {median}\")"
   ],
   "id": "2a5724349853b19f",
   "outputs": [
    {
     "name": "stdout",
     "output_type": "stream",
     "text": [
      "Mean: 1271.0\n"
     ]
    }
   ],
   "execution_count": 7
  }
 ],
 "metadata": {
  "kernelspec": {
   "display_name": "Python 3",
   "language": "python",
   "name": "python3"
  },
  "language_info": {
   "codemirror_mode": {
    "name": "ipython",
    "version": 2
   },
   "file_extension": ".py",
   "mimetype": "text/x-python",
   "name": "python",
   "nbconvert_exporter": "python",
   "pygments_lexer": "ipython2",
   "version": "2.7.6"
  }
 },
 "nbformat": 4,
 "nbformat_minor": 5
}
