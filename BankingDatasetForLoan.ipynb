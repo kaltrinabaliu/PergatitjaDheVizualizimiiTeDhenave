{
 "cells": [
  {
   "cell_type": "markdown",
   "source": [
    "1. Para-procesimi i te dhenave përgatitjen e të dhënave për analizë"
   ],
   "metadata": {
    "collapsed": false
   },
   "id": "a0228a58a7366cae"
  },
  {
   "cell_type": "code",
   "execution_count": 1,
   "outputs": [],
   "source": [
    "import re\n",
    "import pandas as pd\n",
    "import numpy as np\n",
    "import seaborn as sns\n",
    "import matplotlib.pyplot as plt\n",
    "from IPython.display import display"
   ],
   "metadata": {
    "collapsed": false,
    "ExecuteTime": {
     "end_time": "2024-11-02T21:15:11.376059300Z",
     "start_time": "2024-11-02T21:15:11.361392700Z"
    }
   },
   "id": "d9877567d3003026"
  },
  {
   "cell_type": "markdown",
   "source": [
    "Mbledhja e të dhënave, definimi i tipeve të dhënave, kualiteti i të\n",
    "dhënave."
   ],
   "metadata": {
    "collapsed": false
   },
   "id": "b62a649e02c8620b"
  },
  {
   "cell_type": "code",
   "execution_count": 2,
   "outputs": [
    {
     "data": {
      "text/plain": "       LoanID  ApplicantID ApplicantGender ApplicantMarried  \\\n0       56026        19874           Moški               NE   \n1       53884        34258           Moški               DA   \n2       48350        66552           Moški               DA   \n3       30455        54844           Moški               DA   \n4         935        18820           Moški               DA   \n...       ...          ...             ...              ...   \n38762   19296         7212             NaN               DA   \n38763   20271        32616           Moški               NE   \n38764   27733        46393          Ženska               DA   \n38765   42707        20062           Moški               DA   \n38766    3927        65276           Moški               DA   \n\n      ApplicantDependents ApplicantEducation ApplicantSelfEmployed  \\\n0                  0 oseb         Diplomiral                    NE   \n1                 1 oseba         Diplomiral                    NE   \n2                  0 oseb       Brez diplome                    NE   \n3                 2 osebi         Diplomiral                    NE   \n4                 2 osebi         Diplomiral                   NaN   \n...                   ...                ...                   ...   \n38762             1 oseba         Diplomiral                    NE   \n38763              0 oseb         Diplomiral                    NE   \n38764                 NaN         Diplomiral                    DA   \n38765            3+ osebe         Diplomiral                    NE   \n38766             2 osebi       Brez diplome                    NE   \n\n       ApplicantIncome  ApplicantCreditHistory ApplicantZIP ApplicantState  \\\n0          1949.666667                     1.0         33xx      Slovenija   \n1          1527.666667                     1.0         64xx      Slovenija   \n2           861.000000                     1.0         30xx             si   \n3          1066.666667                     1.0         84xx             SI   \n4           833.333333                     1.0         60xx             SI   \n...                ...                     ...          ...            ...   \n38762       873.333333                     1.0         14xx             SI   \n38763      3107.666667                     1.0         63xx            Slo   \n38764       800.000000                     0.0         42xx             SI   \n38765      1365.000000                     NaN         84xx             SI   \n38766        70.000000                     1.0         33xx             SI   \n\n      ApplicantEmplLength     ApplicantHomeOwn  LoanAmount  LoanTerm  \\\n0                   5 let  STANOVANJSKI KREDIT         NaN      90.0   \n1                 10+ let                NAJEM     44800.0      90.0   \n2                  3 leta                NAJEM     42000.0      90.0   \n3                  1 leto                NAJEM     24500.0      90.0   \n4                 10+ let  STANOVANJSKI KREDIT     38150.0      90.0   \n...                   ...                  ...         ...       ...   \n38762                 NaN                NAJEM     57750.0      90.0   \n38763              3 leta  STANOVANJSKI KREDIT     17500.0      90.0   \n38764              2 leti               LASTNO     58800.0      90.0   \n38765              3 leta  STANOVANJSKI KREDIT     43050.0     120.0   \n38766              3 leta                NAJEM     43750.0      90.0   \n\n      LoanIntRate                                           LoanDesc  \\\n0           1.42%                                                NaN   \n1           3.90%                                                NaN   \n2           2.80%                                                NaN   \n3           3.26%                                                NaN   \n4           3.26%                                                NaN   \n...           ...                                                ...   \n38762       2.89%                                                NaN   \n38763       1.52%   Posojilojemalec je dodal na 02-06-14 > Samo o...   \n38764       2.50%                                                NaN   \n38765       1.78%                                                NaN   \n38766       2.40%   Posojilojemalec je dodal na 02-06-14 > Refina...   \n\n      LoanPurpose LoanApproved  \n0         prenova            Y  \n1           drugo            N  \n2             NaN            Y  \n3             NaN            Y  \n4             NaN            Y  \n...           ...          ...  \n38762     kartica            Y  \n38763         NaN            Y  \n38764         NaN            N  \n38765         NaN            Y  \n38766     kartica            Y  \n\n[38767 rows x 19 columns]",
      "text/html": "<div>\n<style scoped>\n    .dataframe tbody tr th:only-of-type {\n        vertical-align: middle;\n    }\n\n    .dataframe tbody tr th {\n        vertical-align: top;\n    }\n\n    .dataframe thead th {\n        text-align: right;\n    }\n</style>\n<table border=\"1\" class=\"dataframe\">\n  <thead>\n    <tr style=\"text-align: right;\">\n      <th></th>\n      <th>LoanID</th>\n      <th>ApplicantID</th>\n      <th>ApplicantGender</th>\n      <th>ApplicantMarried</th>\n      <th>ApplicantDependents</th>\n      <th>ApplicantEducation</th>\n      <th>ApplicantSelfEmployed</th>\n      <th>ApplicantIncome</th>\n      <th>ApplicantCreditHistory</th>\n      <th>ApplicantZIP</th>\n      <th>ApplicantState</th>\n      <th>ApplicantEmplLength</th>\n      <th>ApplicantHomeOwn</th>\n      <th>LoanAmount</th>\n      <th>LoanTerm</th>\n      <th>LoanIntRate</th>\n      <th>LoanDesc</th>\n      <th>LoanPurpose</th>\n      <th>LoanApproved</th>\n    </tr>\n  </thead>\n  <tbody>\n    <tr>\n      <th>0</th>\n      <td>56026</td>\n      <td>19874</td>\n      <td>Moški</td>\n      <td>NE</td>\n      <td>0 oseb</td>\n      <td>Diplomiral</td>\n      <td>NE</td>\n      <td>1949.666667</td>\n      <td>1.0</td>\n      <td>33xx</td>\n      <td>Slovenija</td>\n      <td>5 let</td>\n      <td>STANOVANJSKI KREDIT</td>\n      <td>NaN</td>\n      <td>90.0</td>\n      <td>1.42%</td>\n      <td>NaN</td>\n      <td>prenova</td>\n      <td>Y</td>\n    </tr>\n    <tr>\n      <th>1</th>\n      <td>53884</td>\n      <td>34258</td>\n      <td>Moški</td>\n      <td>DA</td>\n      <td>1 oseba</td>\n      <td>Diplomiral</td>\n      <td>NE</td>\n      <td>1527.666667</td>\n      <td>1.0</td>\n      <td>64xx</td>\n      <td>Slovenija</td>\n      <td>10+ let</td>\n      <td>NAJEM</td>\n      <td>44800.0</td>\n      <td>90.0</td>\n      <td>3.90%</td>\n      <td>NaN</td>\n      <td>drugo</td>\n      <td>N</td>\n    </tr>\n    <tr>\n      <th>2</th>\n      <td>48350</td>\n      <td>66552</td>\n      <td>Moški</td>\n      <td>DA</td>\n      <td>0 oseb</td>\n      <td>Brez diplome</td>\n      <td>NE</td>\n      <td>861.000000</td>\n      <td>1.0</td>\n      <td>30xx</td>\n      <td>si</td>\n      <td>3 leta</td>\n      <td>NAJEM</td>\n      <td>42000.0</td>\n      <td>90.0</td>\n      <td>2.80%</td>\n      <td>NaN</td>\n      <td>NaN</td>\n      <td>Y</td>\n    </tr>\n    <tr>\n      <th>3</th>\n      <td>30455</td>\n      <td>54844</td>\n      <td>Moški</td>\n      <td>DA</td>\n      <td>2 osebi</td>\n      <td>Diplomiral</td>\n      <td>NE</td>\n      <td>1066.666667</td>\n      <td>1.0</td>\n      <td>84xx</td>\n      <td>SI</td>\n      <td>1 leto</td>\n      <td>NAJEM</td>\n      <td>24500.0</td>\n      <td>90.0</td>\n      <td>3.26%</td>\n      <td>NaN</td>\n      <td>NaN</td>\n      <td>Y</td>\n    </tr>\n    <tr>\n      <th>4</th>\n      <td>935</td>\n      <td>18820</td>\n      <td>Moški</td>\n      <td>DA</td>\n      <td>2 osebi</td>\n      <td>Diplomiral</td>\n      <td>NaN</td>\n      <td>833.333333</td>\n      <td>1.0</td>\n      <td>60xx</td>\n      <td>SI</td>\n      <td>10+ let</td>\n      <td>STANOVANJSKI KREDIT</td>\n      <td>38150.0</td>\n      <td>90.0</td>\n      <td>3.26%</td>\n      <td>NaN</td>\n      <td>NaN</td>\n      <td>Y</td>\n    </tr>\n    <tr>\n      <th>...</th>\n      <td>...</td>\n      <td>...</td>\n      <td>...</td>\n      <td>...</td>\n      <td>...</td>\n      <td>...</td>\n      <td>...</td>\n      <td>...</td>\n      <td>...</td>\n      <td>...</td>\n      <td>...</td>\n      <td>...</td>\n      <td>...</td>\n      <td>...</td>\n      <td>...</td>\n      <td>...</td>\n      <td>...</td>\n      <td>...</td>\n      <td>...</td>\n    </tr>\n    <tr>\n      <th>38762</th>\n      <td>19296</td>\n      <td>7212</td>\n      <td>NaN</td>\n      <td>DA</td>\n      <td>1 oseba</td>\n      <td>Diplomiral</td>\n      <td>NE</td>\n      <td>873.333333</td>\n      <td>1.0</td>\n      <td>14xx</td>\n      <td>SI</td>\n      <td>NaN</td>\n      <td>NAJEM</td>\n      <td>57750.0</td>\n      <td>90.0</td>\n      <td>2.89%</td>\n      <td>NaN</td>\n      <td>kartica</td>\n      <td>Y</td>\n    </tr>\n    <tr>\n      <th>38763</th>\n      <td>20271</td>\n      <td>32616</td>\n      <td>Moški</td>\n      <td>NE</td>\n      <td>0 oseb</td>\n      <td>Diplomiral</td>\n      <td>NE</td>\n      <td>3107.666667</td>\n      <td>1.0</td>\n      <td>63xx</td>\n      <td>Slo</td>\n      <td>3 leta</td>\n      <td>STANOVANJSKI KREDIT</td>\n      <td>17500.0</td>\n      <td>90.0</td>\n      <td>1.52%</td>\n      <td>Posojilojemalec je dodal na 02-06-14 &gt; Samo o...</td>\n      <td>NaN</td>\n      <td>Y</td>\n    </tr>\n    <tr>\n      <th>38764</th>\n      <td>27733</td>\n      <td>46393</td>\n      <td>Ženska</td>\n      <td>DA</td>\n      <td>NaN</td>\n      <td>Diplomiral</td>\n      <td>DA</td>\n      <td>800.000000</td>\n      <td>0.0</td>\n      <td>42xx</td>\n      <td>SI</td>\n      <td>2 leti</td>\n      <td>LASTNO</td>\n      <td>58800.0</td>\n      <td>90.0</td>\n      <td>2.50%</td>\n      <td>NaN</td>\n      <td>NaN</td>\n      <td>N</td>\n    </tr>\n    <tr>\n      <th>38765</th>\n      <td>42707</td>\n      <td>20062</td>\n      <td>Moški</td>\n      <td>DA</td>\n      <td>3+ osebe</td>\n      <td>Diplomiral</td>\n      <td>NE</td>\n      <td>1365.000000</td>\n      <td>NaN</td>\n      <td>84xx</td>\n      <td>SI</td>\n      <td>3 leta</td>\n      <td>STANOVANJSKI KREDIT</td>\n      <td>43050.0</td>\n      <td>120.0</td>\n      <td>1.78%</td>\n      <td>NaN</td>\n      <td>NaN</td>\n      <td>Y</td>\n    </tr>\n    <tr>\n      <th>38766</th>\n      <td>3927</td>\n      <td>65276</td>\n      <td>Moški</td>\n      <td>DA</td>\n      <td>2 osebi</td>\n      <td>Brez diplome</td>\n      <td>NE</td>\n      <td>70.000000</td>\n      <td>1.0</td>\n      <td>33xx</td>\n      <td>SI</td>\n      <td>3 leta</td>\n      <td>NAJEM</td>\n      <td>43750.0</td>\n      <td>90.0</td>\n      <td>2.40%</td>\n      <td>Posojilojemalec je dodal na 02-06-14 &gt; Refina...</td>\n      <td>kartica</td>\n      <td>Y</td>\n    </tr>\n  </tbody>\n</table>\n<p>38767 rows × 19 columns</p>\n</div>"
     },
     "execution_count": 2,
     "metadata": {},
     "output_type": "execute_result"
    }
   ],
   "source": [
    "#Ngarkimi i te dhenave\n",
    "file_path ='C:/Users/HP/Desktop/VizualizimiITeDhenave/dataset.csv'\n",
    "data=pd.read_csv(file_path)\n",
    "data"
   ],
   "metadata": {
    "collapsed": false,
    "ExecuteTime": {
     "end_time": "2024-11-02T21:15:58.019949900Z",
     "start_time": "2024-11-02T21:15:57.655315200Z"
    }
   },
   "id": "14cfd53a5791ffcd"
  },
  {
   "cell_type": "code",
   "execution_count": 3,
   "outputs": [
    {
     "name": "stdout",
     "output_type": "stream",
     "text": [
      "<class 'pandas.core.frame.DataFrame'>\n",
      "RangeIndex: 38767 entries, 0 to 38766\n",
      "Data columns (total 19 columns):\n",
      " #   Column                  Non-Null Count  Dtype  \n",
      "---  ------                  --------------  -----  \n",
      " 0   LoanID                  38767 non-null  int64  \n",
      " 1   ApplicantID             38767 non-null  int64  \n",
      " 2   ApplicantGender         37902 non-null  object \n",
      " 3   ApplicantMarried        38573 non-null  object \n",
      " 4   ApplicantDependents     37775 non-null  object \n",
      " 5   ApplicantEducation      38767 non-null  object \n",
      " 6   ApplicantSelfEmployed   36702 non-null  object \n",
      " 7   ApplicantIncome         38767 non-null  float64\n",
      " 8   ApplicantCreditHistory  35687 non-null  float64\n",
      " 9   ApplicantZIP            38767 non-null  object \n",
      " 10  ApplicantState          38767 non-null  object \n",
      " 11  ApplicantEmplLength     36924 non-null  object \n",
      " 12  ApplicantHomeOwn        38767 non-null  object \n",
      " 13  LoanAmount              37370 non-null  float64\n",
      " 14  LoanTerm                37863 non-null  float64\n",
      " 15  LoanIntRate             38767 non-null  object \n",
      " 16  LoanDesc                1521 non-null   object \n",
      " 17  LoanPurpose             14845 non-null  object \n",
      " 18  LoanApproved            38767 non-null  object \n",
      "dtypes: float64(4), int64(2), object(13)\n",
      "memory usage: 5.6+ MB\n",
      "None\n"
     ]
    }
   ],
   "source": [
    "# Informacion rreth dataframe-it \n",
    "data_info = data.info()\n",
    "print(data_info)"
   ],
   "metadata": {
    "collapsed": false,
    "ExecuteTime": {
     "end_time": "2024-11-02T21:19:01.792902200Z",
     "start_time": "2024-11-02T21:19:01.550040900Z"
    }
   },
   "id": "d3ab1b5fe2dabaa6"
  },
  {
   "cell_type": "code",
   "execution_count": 4,
   "outputs": [
    {
     "data": {
      "text/plain": "(38767, 19)"
     },
     "execution_count": 4,
     "metadata": {},
     "output_type": "execute_result"
    }
   ],
   "source": [
    "#numri i rreshtave dhe kolonave ne dataframe\n",
    "data.shape"
   ],
   "metadata": {
    "collapsed": false,
    "ExecuteTime": {
     "end_time": "2024-11-02T21:20:13.986700700Z",
     "start_time": "2024-11-02T21:20:13.911304900Z"
    }
   },
   "id": "79728bff14be9018"
  },
  {
   "cell_type": "code",
   "source": [
    "#shfaq statistikat per çdo kolone ne DataFrame\n",
    "print(data.describe().T)"
   ],
   "metadata": {
    "collapsed": false,
    "jupyter": {
     "is_executing": true
    },
    "ExecuteTime": {
     "end_time": "2024-11-02T21:50:49.984588800Z",
     "start_time": "2024-11-02T21:50:49.804739300Z"
    }
   },
   "id": "b0fd80cc1f4391e",
   "outputs": [
    {
     "name": "stdout",
     "output_type": "stream",
     "text": [
      "                          count          mean           std     min      25%  \\\n",
      "LoanID                  38767.0  34552.451441  19888.051126     1.0  17433.5   \n",
      "ApplicantID             38767.0  34544.994918  19990.383285     1.0  17141.5   \n",
      "ApplicantIncome         38767.0   1801.602781   2013.534166    50.0    963.0   \n",
      "ApplicantCreditHistory  35687.0      0.842099      0.364653     0.0      1.0   \n",
      "LoanAmount              37370.0  51087.712069  29882.568304  3150.0  35000.0   \n",
      "LoanTerm                37863.0     85.473576     16.198891     3.0     90.0   \n",
      "\n",
      "                            50%           75%       max  \n",
      "LoanID                  34460.0  51691.000000   69133.0  \n",
      "ApplicantID             34480.0  51847.500000   69134.0  \n",
      "ApplicantIncome          1271.0   1933.333333   27000.0  \n",
      "ApplicantCreditHistory      1.0      1.000000       1.0  \n",
      "LoanAmount              44800.0  58450.000000  245000.0  \n",
      "LoanTerm                   90.0     90.000000     120.0  \n"
     ]
    }
   ],
   "execution_count": 5
  },
  {
   "metadata": {
    "ExecuteTime": {
     "end_time": "2024-11-02T21:50:53.509546900Z",
     "start_time": "2024-11-02T21:50:53.249404300Z"
    }
   },
   "cell_type": "code",
   "outputs": [
    {
     "name": "stdout",
     "output_type": "stream",
     "text": [
      "                       count unique  \\\n",
      "ApplicantGender        37902      2   \n",
      "ApplicantMarried       38573      2   \n",
      "ApplicantDependents    37775      4   \n",
      "ApplicantEducation     38767      2   \n",
      "ApplicantSelfEmployed  36702      2   \n",
      "ApplicantZIP           38767     44   \n",
      "ApplicantState         38767      5   \n",
      "ApplicantEmplLength    36924     11   \n",
      "ApplicantHomeOwn       38767      3   \n",
      "LoanIntRate            38767     65   \n",
      "LoanDesc                1521   1119   \n",
      "LoanPurpose            14845      9   \n",
      "LoanApproved           38767      2   \n",
      "\n",
      "                                                                     top  \\\n",
      "ApplicantGender                                                    Moški   \n",
      "ApplicantMarried                                                      DA   \n",
      "ApplicantDependents                                               0 oseb   \n",
      "ApplicantEducation                                            Diplomiral   \n",
      "ApplicantSelfEmployed                                                 NE   \n",
      "ApplicantZIP                                                        33xx   \n",
      "ApplicantState                                                        SI   \n",
      "ApplicantEmplLength                                              10+ let   \n",
      "ApplicantHomeOwn                                     STANOVANJSKI KREDIT   \n",
      "LoanIntRate                                                        3.12%   \n",
      "LoanDesc                IzPosojilojemalec je dodal na 03-17-14 > kons...   \n",
      "LoanPurpose                                                      kartica   \n",
      "LoanApproved                                                           Y   \n",
      "\n",
      "                        freq  \n",
      "ApplicantGender        30882  \n",
      "ApplicantMarried       25099  \n",
      "ApplicantDependents    21803  \n",
      "ApplicantEducation     30132  \n",
      "ApplicantSelfEmployed  31538  \n",
      "ApplicantZIP            3259  \n",
      "ApplicantState         19357  \n",
      "ApplicantEmplLength    12695  \n",
      "ApplicantHomeOwn       19667  \n",
      "LoanIntRate             2041  \n",
      "LoanDesc                   9  \n",
      "LoanPurpose             9048  \n",
      "LoanApproved           32482  \n"
     ]
    }
   ],
   "execution_count": 6,
   "source": "print(data.describe(include=\"O\").T)",
   "id": "9d03387d16a67af3"
  },
  {
   "cell_type": "code",
   "execution_count": 7,
   "outputs": [
    {
     "name": "stdout",
     "output_type": "stream",
     "text": [
      "0.0 %\n"
     ]
    }
   ],
   "source": [
    "# llogarit perqindjen e rreshtave te dyfishte ne DataFrame\n",
    "\n",
    "duplicated=data.duplicated().sum()\n",
    "print((duplicated/len(data))*100 , '%')"
   ],
   "metadata": {
    "collapsed": false,
    "ExecuteTime": {
     "end_time": "2024-11-02T21:51:19.609628700Z",
     "start_time": "2024-11-02T21:51:19.354723900Z"
    }
   },
   "id": "5fa646623c8b20e1"
  },
  {
   "cell_type": "code",
   "execution_count": 8,
   "outputs": [],
   "source": [
    "# Funksioni missing_values_table llogarit numrin dhe perqindjen e vlerave Null\n",
    "\n",
    "def missing_values_table(data):\n",
    "  mis_val = data.isnull().sum()\n",
    "  mis_val_percent = 100*data.isnull().sum() / len(data)\n",
    "  mis_val_table = pd.concat([mis_val, mis_val_percent], axis=1)\n",
    "  mis_val_table_ren_columns = mis_val_table.rename(columns = {0:'Missing Values' , 1:'% of Total Values'})\n",
    "  return mis_val_table_ren_columns.round(1)"
   ],
   "metadata": {
    "collapsed": false,
    "ExecuteTime": {
     "end_time": "2024-11-02T21:57:47.354992Z",
     "start_time": "2024-11-02T21:57:47.324428700Z"
    }
   },
   "id": "f9f0d3834ae0eaa"
  },
  {
   "cell_type": "code",
   "execution_count": 9,
   "outputs": [
    {
     "data": {
      "text/plain": "                        Missing Values  % of Total Values\nLoanID                               0                0.0\nApplicantID                          0                0.0\nApplicantGender                    865                2.2\nApplicantMarried                   194                0.5\nApplicantDependents                992                2.6\nApplicantEducation                   0                0.0\nApplicantSelfEmployed             2065                5.3\nApplicantIncome                      0                0.0\nApplicantCreditHistory            3080                7.9\nApplicantZIP                         0                0.0\nApplicantState                       0                0.0\nApplicantEmplLength               1843                4.8\nApplicantHomeOwn                     0                0.0\nLoanAmount                        1397                3.6\nLoanTerm                           904                2.3\nLoanIntRate                          0                0.0\nLoanDesc                         37246               96.1\nLoanPurpose                      23922               61.7\nLoanApproved                         0                0.0",
      "text/html": "<div>\n<style scoped>\n    .dataframe tbody tr th:only-of-type {\n        vertical-align: middle;\n    }\n\n    .dataframe tbody tr th {\n        vertical-align: top;\n    }\n\n    .dataframe thead th {\n        text-align: right;\n    }\n</style>\n<table border=\"1\" class=\"dataframe\">\n  <thead>\n    <tr style=\"text-align: right;\">\n      <th></th>\n      <th>Missing Values</th>\n      <th>% of Total Values</th>\n    </tr>\n  </thead>\n  <tbody>\n    <tr>\n      <th>LoanID</th>\n      <td>0</td>\n      <td>0.0</td>\n    </tr>\n    <tr>\n      <th>ApplicantID</th>\n      <td>0</td>\n      <td>0.0</td>\n    </tr>\n    <tr>\n      <th>ApplicantGender</th>\n      <td>865</td>\n      <td>2.2</td>\n    </tr>\n    <tr>\n      <th>ApplicantMarried</th>\n      <td>194</td>\n      <td>0.5</td>\n    </tr>\n    <tr>\n      <th>ApplicantDependents</th>\n      <td>992</td>\n      <td>2.6</td>\n    </tr>\n    <tr>\n      <th>ApplicantEducation</th>\n      <td>0</td>\n      <td>0.0</td>\n    </tr>\n    <tr>\n      <th>ApplicantSelfEmployed</th>\n      <td>2065</td>\n      <td>5.3</td>\n    </tr>\n    <tr>\n      <th>ApplicantIncome</th>\n      <td>0</td>\n      <td>0.0</td>\n    </tr>\n    <tr>\n      <th>ApplicantCreditHistory</th>\n      <td>3080</td>\n      <td>7.9</td>\n    </tr>\n    <tr>\n      <th>ApplicantZIP</th>\n      <td>0</td>\n      <td>0.0</td>\n    </tr>\n    <tr>\n      <th>ApplicantState</th>\n      <td>0</td>\n      <td>0.0</td>\n    </tr>\n    <tr>\n      <th>ApplicantEmplLength</th>\n      <td>1843</td>\n      <td>4.8</td>\n    </tr>\n    <tr>\n      <th>ApplicantHomeOwn</th>\n      <td>0</td>\n      <td>0.0</td>\n    </tr>\n    <tr>\n      <th>LoanAmount</th>\n      <td>1397</td>\n      <td>3.6</td>\n    </tr>\n    <tr>\n      <th>LoanTerm</th>\n      <td>904</td>\n      <td>2.3</td>\n    </tr>\n    <tr>\n      <th>LoanIntRate</th>\n      <td>0</td>\n      <td>0.0</td>\n    </tr>\n    <tr>\n      <th>LoanDesc</th>\n      <td>37246</td>\n      <td>96.1</td>\n    </tr>\n    <tr>\n      <th>LoanPurpose</th>\n      <td>23922</td>\n      <td>61.7</td>\n    </tr>\n    <tr>\n      <th>LoanApproved</th>\n      <td>0</td>\n      <td>0.0</td>\n    </tr>\n  </tbody>\n</table>\n</div>"
     },
     "execution_count": 9,
     "metadata": {},
     "output_type": "execute_result"
    }
   ],
   "source": [
    "missing_values_table(data)"
   ],
   "metadata": {
    "collapsed": false,
    "ExecuteTime": {
     "end_time": "2024-11-02T21:57:50.554212Z",
     "start_time": "2024-11-02T21:57:50.403881300Z"
    }
   },
   "id": "4960a08f82e3d5df"
  },
  {
   "cell_type": "code",
   "execution_count": 10,
   "outputs": [
    {
     "name": "stdout",
     "output_type": "stream",
     "text": [
      "\n",
      "Missing values in the dataset:\n",
      "                         Missing Values  Percentage\n",
      "ApplicantMarried                   194    0.500426\n",
      "ApplicantGender                    865    2.231279\n",
      "LoanTerm                           904    2.331880\n",
      "ApplicantDependents                992    2.558877\n",
      "LoanAmount                        1397    3.603580\n",
      "ApplicantEmplLength               1843    4.754043\n",
      "ApplicantSelfEmployed             2065    5.326695\n",
      "ApplicantCreditHistory            3080    7.944902\n",
      "LoanPurpose                      23922   61.707122\n",
      "LoanDesc                         37246   96.076560\n"
     ]
    }
   ],
   "source": [
    "missing_values = data.isnull().sum()\n",
    "missing_percentage = (missing_values / len(data)) * 100\n",
    "missing_data = pd.DataFrame({'Missing Values': missing_values, 'Percentage': missing_percentage})\n",
    "missing_data_sorted = missing_data[missing_data['Missing Values'] > 0].sort_values(by='Percentage', ascending=True)\n",
    "\n",
    "print(\"\\nMissing values in the dataset:\\n\", missing_data_sorted)"
   ],
   "metadata": {
    "collapsed": false,
    "ExecuteTime": {
     "end_time": "2024-11-02T21:58:08.634534800Z",
     "start_time": "2024-11-02T21:58:08.334193200Z"
    }
   },
   "id": "161d8740be777e77"
  },
  {
   "cell_type": "code",
   "execution_count": 11,
   "outputs": [
    {
     "data": {
      "text/plain": "  ApplicantDependents  counts\n0              0 oseb   21803\n1             1 oseba    6397\n2             2 osebi    6329\n3            3+ osebe    3246",
      "text/html": "<div>\n<style scoped>\n    .dataframe tbody tr th:only-of-type {\n        vertical-align: middle;\n    }\n\n    .dataframe tbody tr th {\n        vertical-align: top;\n    }\n\n    .dataframe thead th {\n        text-align: right;\n    }\n</style>\n<table border=\"1\" class=\"dataframe\">\n  <thead>\n    <tr style=\"text-align: right;\">\n      <th></th>\n      <th>ApplicantDependents</th>\n      <th>counts</th>\n    </tr>\n  </thead>\n  <tbody>\n    <tr>\n      <th>0</th>\n      <td>0 oseb</td>\n      <td>21803</td>\n    </tr>\n    <tr>\n      <th>1</th>\n      <td>1 oseba</td>\n      <td>6397</td>\n    </tr>\n    <tr>\n      <th>2</th>\n      <td>2 osebi</td>\n      <td>6329</td>\n    </tr>\n    <tr>\n      <th>3</th>\n      <td>3+ osebe</td>\n      <td>3246</td>\n    </tr>\n  </tbody>\n</table>\n</div>"
     },
     "execution_count": 11,
     "metadata": {},
     "output_type": "execute_result"
    }
   ],
   "source": [
    "data['ApplicantDependents'].value_counts().reset_index().rename(columns={'index' : 'ApplicantDependents' , 'ApplicantDependents' : 'counts'})\n",
    "\n"
   ],
   "metadata": {
    "collapsed": false,
    "ExecuteTime": {
     "end_time": "2024-11-02T22:18:06.034020400Z",
     "start_time": "2024-11-02T22:18:05.992047300Z"
    }
   },
   "id": "81db33083fee2629"
  },
  {
   "cell_type": "code",
   "execution_count": 12,
   "outputs": [
    {
     "data": {
      "text/plain": "   ApplicantEmplLength  counts\n0              10+ let   12695\n1               2 leti    3451\n2               3 leta    3093\n3             < 1 leto    2988\n4               1 leto    2526\n5                7 let    2244\n6                5 let    2203\n7               4 leta    2140\n8                6 let    2059\n9                8 let    1898\n10               9 let    1627",
      "text/html": "<div>\n<style scoped>\n    .dataframe tbody tr th:only-of-type {\n        vertical-align: middle;\n    }\n\n    .dataframe tbody tr th {\n        vertical-align: top;\n    }\n\n    .dataframe thead th {\n        text-align: right;\n    }\n</style>\n<table border=\"1\" class=\"dataframe\">\n  <thead>\n    <tr style=\"text-align: right;\">\n      <th></th>\n      <th>ApplicantEmplLength</th>\n      <th>counts</th>\n    </tr>\n  </thead>\n  <tbody>\n    <tr>\n      <th>0</th>\n      <td>10+ let</td>\n      <td>12695</td>\n    </tr>\n    <tr>\n      <th>1</th>\n      <td>2 leti</td>\n      <td>3451</td>\n    </tr>\n    <tr>\n      <th>2</th>\n      <td>3 leta</td>\n      <td>3093</td>\n    </tr>\n    <tr>\n      <th>3</th>\n      <td>&lt; 1 leto</td>\n      <td>2988</td>\n    </tr>\n    <tr>\n      <th>4</th>\n      <td>1 leto</td>\n      <td>2526</td>\n    </tr>\n    <tr>\n      <th>5</th>\n      <td>7 let</td>\n      <td>2244</td>\n    </tr>\n    <tr>\n      <th>6</th>\n      <td>5 let</td>\n      <td>2203</td>\n    </tr>\n    <tr>\n      <th>7</th>\n      <td>4 leta</td>\n      <td>2140</td>\n    </tr>\n    <tr>\n      <th>8</th>\n      <td>6 let</td>\n      <td>2059</td>\n    </tr>\n    <tr>\n      <th>9</th>\n      <td>8 let</td>\n      <td>1898</td>\n    </tr>\n    <tr>\n      <th>10</th>\n      <td>9 let</td>\n      <td>1627</td>\n    </tr>\n  </tbody>\n</table>\n</div>"
     },
     "execution_count": 12,
     "metadata": {},
     "output_type": "execute_result"
    }
   ],
   "source": [
    "data['ApplicantEmplLength'].value_counts().reset_index().rename(columns={'index' : 'ApplicantEmplLength' , 'ApplicantEmplLength' : 'counts'})"
   ],
   "metadata": {
    "collapsed": false,
    "ExecuteTime": {
     "end_time": "2024-11-02T22:18:12.577986900Z",
     "start_time": "2024-11-02T22:18:12.540119100Z"
    }
   },
   "id": "995a4e0d20388558"
  },
  {
   "cell_type": "code",
   "execution_count": 13,
   "outputs": [
    {
     "data": {
      "text/plain": "  ApplicantGender  counts\n0           Moški   30882\n1          Ženska    7020",
      "text/html": "<div>\n<style scoped>\n    .dataframe tbody tr th:only-of-type {\n        vertical-align: middle;\n    }\n\n    .dataframe tbody tr th {\n        vertical-align: top;\n    }\n\n    .dataframe thead th {\n        text-align: right;\n    }\n</style>\n<table border=\"1\" class=\"dataframe\">\n  <thead>\n    <tr style=\"text-align: right;\">\n      <th></th>\n      <th>ApplicantGender</th>\n      <th>counts</th>\n    </tr>\n  </thead>\n  <tbody>\n    <tr>\n      <th>0</th>\n      <td>Moški</td>\n      <td>30882</td>\n    </tr>\n    <tr>\n      <th>1</th>\n      <td>Ženska</td>\n      <td>7020</td>\n    </tr>\n  </tbody>\n</table>\n</div>"
     },
     "execution_count": 13,
     "metadata": {},
     "output_type": "execute_result"
    }
   ],
   "source": "data['ApplicantGender'].value_counts().reset_index().rename(columns={'index' : 'ApplicantGender' , 'ApplicantGender' : 'counts'})",
   "metadata": {
    "collapsed": false,
    "ExecuteTime": {
     "end_time": "2024-11-02T22:21:05.823053400Z",
     "start_time": "2024-11-02T22:21:05.740101800Z"
    }
   },
   "id": "39768d5d0824f538"
  },
  {
   "cell_type": "code",
   "execution_count": 14,
   "outputs": [
    {
     "data": {
      "text/plain": "     LoanAmount  counts\n0       42000.0    1241\n1       38500.0    1127\n2       35000.0     920\n3       65450.0     773\n4       56000.0     757\n..          ...     ...\n198     12250.0      52\n199    122150.0      51\n200     93450.0      50\n201    122500.0      49\n202     66500.0      45\n\n[203 rows x 2 columns]",
      "text/html": "<div>\n<style scoped>\n    .dataframe tbody tr th:only-of-type {\n        vertical-align: middle;\n    }\n\n    .dataframe tbody tr th {\n        vertical-align: top;\n    }\n\n    .dataframe thead th {\n        text-align: right;\n    }\n</style>\n<table border=\"1\" class=\"dataframe\">\n  <thead>\n    <tr style=\"text-align: right;\">\n      <th></th>\n      <th>LoanAmount</th>\n      <th>counts</th>\n    </tr>\n  </thead>\n  <tbody>\n    <tr>\n      <th>0</th>\n      <td>42000.0</td>\n      <td>1241</td>\n    </tr>\n    <tr>\n      <th>1</th>\n      <td>38500.0</td>\n      <td>1127</td>\n    </tr>\n    <tr>\n      <th>2</th>\n      <td>35000.0</td>\n      <td>920</td>\n    </tr>\n    <tr>\n      <th>3</th>\n      <td>65450.0</td>\n      <td>773</td>\n    </tr>\n    <tr>\n      <th>4</th>\n      <td>56000.0</td>\n      <td>757</td>\n    </tr>\n    <tr>\n      <th>...</th>\n      <td>...</td>\n      <td>...</td>\n    </tr>\n    <tr>\n      <th>198</th>\n      <td>12250.0</td>\n      <td>52</td>\n    </tr>\n    <tr>\n      <th>199</th>\n      <td>122150.0</td>\n      <td>51</td>\n    </tr>\n    <tr>\n      <th>200</th>\n      <td>93450.0</td>\n      <td>50</td>\n    </tr>\n    <tr>\n      <th>201</th>\n      <td>122500.0</td>\n      <td>49</td>\n    </tr>\n    <tr>\n      <th>202</th>\n      <td>66500.0</td>\n      <td>45</td>\n    </tr>\n  </tbody>\n</table>\n<p>203 rows × 2 columns</p>\n</div>"
     },
     "execution_count": 14,
     "metadata": {},
     "output_type": "execute_result"
    }
   ],
   "source": "data['LoanAmount'].value_counts().reset_index().rename(columns={'index' : 'LoanAmount' , 'LoanAmount' : 'counts'})",
   "metadata": {
    "collapsed": false,
    "ExecuteTime": {
     "end_time": "2024-11-02T22:27:11.880953Z",
     "start_time": "2024-11-02T22:27:11.817969300Z"
    }
   },
   "id": "6f92ef0e6ab2aada"
  },
  {
   "cell_type": "code",
   "execution_count": 15,
   "outputs": [
    {
     "data": {
      "text/plain": "      ApplicantHomeOwn  counts\n0  STANOVANJSKI KREDIT   19667\n1                NAJEM   15341\n2               LASTNO    3759",
      "text/html": "<div>\n<style scoped>\n    .dataframe tbody tr th:only-of-type {\n        vertical-align: middle;\n    }\n\n    .dataframe tbody tr th {\n        vertical-align: top;\n    }\n\n    .dataframe thead th {\n        text-align: right;\n    }\n</style>\n<table border=\"1\" class=\"dataframe\">\n  <thead>\n    <tr style=\"text-align: right;\">\n      <th></th>\n      <th>ApplicantHomeOwn</th>\n      <th>counts</th>\n    </tr>\n  </thead>\n  <tbody>\n    <tr>\n      <th>0</th>\n      <td>STANOVANJSKI KREDIT</td>\n      <td>19667</td>\n    </tr>\n    <tr>\n      <th>1</th>\n      <td>NAJEM</td>\n      <td>15341</td>\n    </tr>\n    <tr>\n      <th>2</th>\n      <td>LASTNO</td>\n      <td>3759</td>\n    </tr>\n  </tbody>\n</table>\n</div>"
     },
     "execution_count": 15,
     "metadata": {},
     "output_type": "execute_result"
    }
   ],
   "source": [
    "data['ApplicantHomeOwn'].value_counts().reset_index().rename(columns={'index' : 'ApplicantHomeOwn' , 'ApplicantHomeOwn' : 'counts'})"
   ],
   "metadata": {
    "collapsed": false,
    "ExecuteTime": {
     "end_time": "2024-11-02T22:27:16.515613700Z",
     "start_time": "2024-11-02T22:27:16.445296900Z"
    }
   },
   "id": "51c179f471e217ea"
  },
  {
   "cell_type": "code",
   "execution_count": null,
   "outputs": [],
   "source": [],
   "metadata": {
    "collapsed": false
   },
   "id": "a79a44dc8cfbce69"
  }
 ],
 "metadata": {
  "kernelspec": {
   "display_name": "Python 3",
   "language": "python",
   "name": "python3"
  },
  "language_info": {
   "codemirror_mode": {
    "name": "ipython",
    "version": 2
   },
   "file_extension": ".py",
   "mimetype": "text/x-python",
   "name": "python",
   "nbconvert_exporter": "python",
   "pygments_lexer": "ipython2",
   "version": "2.7.6"
  }
 },
 "nbformat": 4,
 "nbformat_minor": 5
}
